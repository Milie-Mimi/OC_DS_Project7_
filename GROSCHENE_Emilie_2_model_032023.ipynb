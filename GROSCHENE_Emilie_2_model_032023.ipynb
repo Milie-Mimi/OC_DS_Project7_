{
 "cells": [
  {
   "cell_type": "markdown",
   "id": "e588dcb0",
   "metadata": {},
   "source": [
    "# Projet 7: Implémentez un modèle de scoring (feature selection et choix du modèle de scoring)"
   ]
  },
  {
   "cell_type": "markdown",
   "id": "24520e58",
   "metadata": {},
   "source": [
    "## Table des matières: <a class=\"anchor\" id=\"0\"></a>\n",
    "\n",
    "1. [Import des librairies et configurations générales](#library)\n",
    "2. [Chargement des données](#load)\n",
    "3. [Sélection des données d'entrainement et de test](#train_test)\n",
    "4. [Feature selection](#feats)\n",
    "5. [Traitement des données déséquilibrées](#imbalanced)\n",
    "6. [Pipeline, optimisation et entrainement des modèles](#pipe)\n",
    "7. [Choix des scores](#scores)\n",
    "8. [Modélisations](#model)\n",
    "    1. [Modèle Baseline: Dummy classifier](#dummy)\n",
    "    2. [Régression logistique](#reglog)\n",
    "\n",
    "\n"
   ]
  },
  {
   "cell_type": "markdown",
   "id": "3f3b606a",
   "metadata": {
    "heading_collapsed": true
   },
   "source": [
    "## Import des librairies et configurations générales <a class=\"anchor\" id=\"library\"></a>"
   ]
  },
  {
   "cell_type": "code",
   "execution_count": 1,
   "id": "e0f12ebf",
   "metadata": {
    "hidden": true
   },
   "outputs": [],
   "source": [
    "# builtin\n",
    "#import os\n",
    "import time\n",
    "#from os import listdir\n",
    "\n",
    "# data\n",
    "import numpy as np\n",
    "import pandas as pd\n",
    "\n",
    "# Fonctions personnelles\n",
    "import fct_eda\n",
    "import fct_preprocessing\n",
    "import fct_model\n",
    "\n",
    "# Update Fonctions personnelles\n",
    "%load_ext autoreload\n",
    "%autoreload 2\n",
    "%reload_ext autoreload\n",
    "\n",
    "# viz\n",
    "import matplotlib.pyplot as plt\n",
    "#import matplotlib.patches as mpatches\n",
    "import seaborn as sns\n",
    "\n",
    "# stats\n",
    "#from scipy.stats import chi2_contingency #Chi2\n",
    "#import pingouin as pg # Test Chi2 d'independance\n",
    "\n",
    "# models\n",
    "#from sklearn.experimental import enable_iterative_imputer\n",
    "#from sklearn.impute import IterativeImputer\n",
    "#from sklearn.preprocessing import OneHotEncoder, LabelEncoder\n",
    "\n",
    "# Feature Selection\n",
    "from sklearn.feature_selection import VarianceThreshold\n",
    "from sklearn.feature_selection import SelectKBest\n",
    "from sklearn.feature_selection import chi2, f_classif\n",
    "\n",
    "# Balancing data\n",
    "from collections import Counter\n",
    "from imblearn.over_sampling import SMOTE\n",
    "from imblearn.under_sampling import RandomUnderSampler\n",
    "from imblearn.pipeline import Pipeline as pipe\n",
    "\n",
    "from sklearn.model_selection import train_test_split, cross_validate, KFold, RepeatedStratifiedKFold\n",
    "from sklearn.model_selection import GridSearchCV, RandomizedSearchCV\n",
    "from sklearn import set_config\n",
    "set_config(display='diagram')\n",
    "from sklearn.pipeline import Pipeline\n",
    "from sklearn.compose import ColumnTransformer\n",
    "from sklearn.preprocessing import StandardScaler, OneHotEncoder\n",
    "\n",
    "from sklearn.metrics import make_scorer\n",
    "from sklearn.metrics import accuracy_score, recall_score, precision_score, roc_auc_score, fbeta_score\n",
    "from sklearn.metrics import ConfusionMatrixDisplay, confusion_matrix\n",
    "\n",
    "from sklearn.dummy import DummyClassifier\n",
    "from sklearn.linear_model import LogisticRegression\n",
    "from lightgbm import LGBMClassifier\n",
    "\n",
    "#import joblib # sauvegarde des modèles\n",
    "#from mlflow.models.signature import infer_signature\n",
    "#from urllib.parse import urlparse\n",
    "import mlflow\n",
    "import mlflow.sklearn\n",
    "\n",
    "\n",
    "#import gc\n",
    "#from contextlib import contextmanager\n",
    "\n",
    "import warnings\n",
    "warnings.simplefilter(action='ignore', category=FutureWarning)\n",
    "# warnings.filterwarnings('ignore')\n",
    "\n",
    "#\n",
    "#from sklearn.metrics import roc_auc_score, roc_curve\n",
    "#from sklearn.model_selection import KFold, StratifiedKFold"
   ]
  },
  {
   "cell_type": "code",
   "execution_count": 2,
   "id": "8795471c",
   "metadata": {
    "hidden": true
   },
   "outputs": [],
   "source": [
    "# Configuration Pandas\n",
    "pd_option_dictionary = {\n",
    "    'display.max_rows': 500,\n",
    "    'display.max_column': 200,\n",
    "    'display.width': 300,\n",
    "    'display.precision': 4,\n",
    "    'display.max_colwidth': None,\n",
    "    'display.float_format' : '{:.2f}'.format,\n",
    "}\n",
    "\n",
    "for pat, value in pd_option_dictionary.items():\n",
    "    pd.set_option(pat, value)"
   ]
  },
  {
   "cell_type": "markdown",
   "id": "fd96c24f",
   "metadata": {
    "heading_collapsed": true
   },
   "source": [
    "## Chargement des données <a class=\"anchor\" id=\"load\"></a>"
   ]
  },
  {
   "cell_type": "code",
   "execution_count": null,
   "id": "a181232b",
   "metadata": {
    "hidden": true
   },
   "outputs": [
    {
     "name": "stdout",
     "output_type": "stream",
     "text": [
      "Application_train shape: (307505, 64)\n",
      "Processing application_train fait en 23.0s \n",
      "Bureau shape: (305811, 19)\n",
      "Processing bureau et bureau_balance fait en 73.0s \n"
     ]
    }
   ],
   "source": [
    "df = fct_preprocessing.preprocessing_no_NaN()"
   ]
  },
  {
   "cell_type": "code",
   "execution_count": null,
   "id": "ede90822",
   "metadata": {
    "hidden": true
   },
   "outputs": [],
   "source": [
    "# Vérification que le dataset consolidé ne contient pas de NaN\n",
    "fct_eda.shape_total_nan(df)"
   ]
  },
  {
   "cell_type": "code",
   "execution_count": null,
   "id": "cd8295ca",
   "metadata": {
    "hidden": true,
    "scrolled": false
   },
   "outputs": [],
   "source": [
    "df.head()"
   ]
  },
  {
   "cell_type": "markdown",
   "id": "06555b6c",
   "metadata": {
    "heading_collapsed": true
   },
   "source": [
    "## Sélection des données d'entrainement et de test <a class=\"anchor\" id=\"train_test\"></a>"
   ]
  },
  {
   "cell_type": "markdown",
   "id": "a42078ff",
   "metadata": {
    "hidden": true
   },
   "source": [
    "En Machine Learning il ne faut jamais valider un modèle sur les données qui ont servi à son entrainement. Le modèle doit être testé sur des données qu'il n'a jamais vues. On aura ainsi une idée de sa performance future. Le dataset sera mélangé de façon aléatoire avant d'être divisé en deux parties:\n",
    "- un **train set** dont les données sont utilisées pour **entrainer le modèle**\n",
    "- un **test set** réservé uniquement à **l'évaluation du modèle**"
   ]
  },
  {
   "cell_type": "code",
   "execution_count": null,
   "id": "348b0ebb",
   "metadata": {
    "hidden": true
   },
   "outputs": [],
   "source": [
    "df_feat = df.copy()"
   ]
  },
  {
   "cell_type": "code",
   "execution_count": null,
   "id": "f747db4e",
   "metadata": {
    "hidden": true
   },
   "outputs": [],
   "source": [
    "# Définition des features et de la target\n",
    "col_X = [f for f in df.columns if f not in ['TARGET']]\n",
    "X = df_feat[col_X]\n",
    "y = df_feat['TARGET']"
   ]
  },
  {
   "cell_type": "code",
   "execution_count": null,
   "id": "b5767f5b",
   "metadata": {
    "hidden": true
   },
   "outputs": [],
   "source": [
    "# Liste des variables quantitatives\n",
    "num_feat = X.select_dtypes(exclude='object').columns.tolist()   "
   ]
  },
  {
   "cell_type": "code",
   "execution_count": null,
   "id": "6fb4d4c6",
   "metadata": {
    "hidden": true
   },
   "outputs": [],
   "source": [
    "# OneHotEncoder sur nos variables catégorielles\n",
    "X, categ_feat = fct_eda.categories_encoder(X, nan_as_category = False)\n",
    "X.head()"
   ]
  },
  {
   "cell_type": "code",
   "execution_count": null,
   "id": "7a45fe03",
   "metadata": {
    "hidden": true
   },
   "outputs": [],
   "source": [
    "# Jeu d'entrainement (80%) et de validation (20%)\n",
    "X_train, X_test, y_train, y_test = train_test_split(X, y,\n",
    "                                                    test_size = 0.2,\n",
    "                                                    shuffle = True,\n",
    "                                                    random_state = 42)\n",
    "print(f\"Nb de lignes des données d'entrainement: {len(X_train)} \\nNb de lignes des données de validation: {len(X_test)}\")"
   ]
  },
  {
   "cell_type": "code",
   "execution_count": null,
   "id": "aee05618",
   "metadata": {
    "hidden": true
   },
   "outputs": [],
   "source": [
    "X_train.shape"
   ]
  },
  {
   "cell_type": "markdown",
   "id": "b5dcb00d",
   "metadata": {
    "heading_collapsed": true
   },
   "source": [
    "## Feature selection <a class=\"anchor\" id=\"feats\"></a>"
   ]
  },
  {
   "cell_type": "markdown",
   "id": "8494c0db",
   "metadata": {
    "hidden": true
   },
   "source": [
    "Même si nous avons déjà enlevé quelques features quantitatives fortement corrélées entre elles et qualitatives en testant leur association avec la target via Chi2 et Kruskal Wallis, il reste encore beaucoup trop de variables pour les prendre toutes dans notre modèle."
   ]
  },
  {
   "cell_type": "markdown",
   "id": "da5c2061",
   "metadata": {
    "hidden": true
   },
   "source": [
    "La sélection des caractéristiques est le processus de réduction du nombre de variables d'entrée lors de l'élaboration d'un modèle prédictif. On trouve 2 avantages principaux à réduire le nombre de variables en entrée du modèle:\n",
    "- **réduire le coût de calcul**\n",
    "- **améliorer la performance du modèle**\n",
    "\n",
    "Les méthodes basées sur les statistiques impliquent l'évaluation de la **relation entre chaque variable d'entrée et la variable cible à l'aide de statistiques**. Les variables qui ont la relation la plus forte avec la target seront conservées.\n",
    "\n",
    "Il existe 2 techniques principales de sélection des caractéristiques: **supervisée** et **non supervisée** (les caractéristiques seront sélectionnées en fonction de la target ou non).\n",
    "\n",
    "Les méthodes supervisées peuvent être classées en 3 groupes\n",
    "- **intrinsèques**: algorithmes qui effectuent une **sélection automatique** des caractéristiques pendant l'entrainement\n",
    "- **wrapper**: méthodes qui évaluent plusieurs modèles à l'aide de procédures qui **ajoutent et/ou suppriment des prédicteurs** afin de trouver la **combinaison optimale** qui **maximise la performance du modèle**.\n",
    "- **filtres**: sélectionne des sous-ensembles de caractéristiques en fonction de leur **relation avec la cible**.\n",
    "\n",
    "Nous allons dans un premier temps \n",
    "- supprimer les caractéristiques qui n'ont pas de variance c'est à dire les variables qui n'ont qu'une seule et même valeur parmis toutes les observations et n'apportent pas vraiment d'information (produit lors du OneHotEncoding)\n",
    "- faire une sélection des variables catégorielles puis numériques en nous aidant de **méthodes statistiques**"
   ]
  },
  {
   "cell_type": "markdown",
   "id": "b295fd1a",
   "metadata": {
    "hidden": true
   },
   "source": [
    "### VarianceThreshold <a class=\"anchor\" id=\"Variance\"></a>"
   ]
  },
  {
   "cell_type": "markdown",
   "id": "a0fd1d74",
   "metadata": {
    "hidden": true
   },
   "source": [
    "Nous allons ici supprimer les colonnes sans variance:"
   ]
  },
  {
   "cell_type": "code",
   "execution_count": null,
   "id": "d36ff448",
   "metadata": {
    "hidden": true
   },
   "outputs": [],
   "source": [
    "transform = VarianceThreshold(0)\n",
    "\n",
    "X_train_trans = transform.fit_transform(X_train)\n",
    "X_test_trans = transform.fit_transform(X_test)"
   ]
  },
  {
   "cell_type": "code",
   "execution_count": null,
   "id": "3c23c648",
   "metadata": {
    "hidden": true
   },
   "outputs": [],
   "source": [
    "mask = transform.get_support()\n",
    "\n",
    "feat_suppr = X_train.columns[~mask].tolist()\n",
    "\n",
    "print('Colonnes supprimées')\n",
    "feat_suppr"
   ]
  },
  {
   "cell_type": "code",
   "execution_count": null,
   "id": "ba883a1b",
   "metadata": {
    "hidden": true
   },
   "outputs": [],
   "source": [
    "# Liste des variables catégorielles actualisée\n",
    "categ_feat = [elem for elem in categ_feat if elem not in feat_suppr]\n",
    "\n",
    "# Liste des variables numériques actualisée\n",
    "num_feat = [elem for elem in num_feat if elem not in feat_suppr]"
   ]
  },
  {
   "cell_type": "code",
   "execution_count": null,
   "id": "fc2f625e",
   "metadata": {
    "hidden": true
   },
   "outputs": [],
   "source": [
    "# Nouveaux df\n",
    "X_train = X_train[num_feat + categ_feat]\n",
    "X_test = X_test[num_feat + categ_feat]"
   ]
  },
  {
   "cell_type": "code",
   "execution_count": null,
   "id": "e0e90518",
   "metadata": {
    "hidden": true
   },
   "outputs": [],
   "source": [
    "X_train.shape"
   ]
  },
  {
   "cell_type": "markdown",
   "id": "abaf7637",
   "metadata": {
    "hidden": true
   },
   "source": [
    "### SelectKBest <a class=\"anchor\" id=\"SelectKBest\"></a>"
   ]
  },
  {
   "cell_type": "markdown",
   "id": "e7e64f15",
   "metadata": {
    "hidden": true
   },
   "source": [
    "#### Caractéristiques qualitatives"
   ]
  },
  {
   "cell_type": "markdown",
   "id": "0be93beb",
   "metadata": {
    "hidden": true
   },
   "source": [
    "Nous allons sélectionner les variables catégorielles grâce à la méthode statistique du **Chi2**. Nous avons déjà supprimé lors de l'analyse exploratoire les variables catégorielles sans lien avec la target mais nous allons ici mesurer la force du lien et garder les plus pertinentes via la classe **SelectKBest**.\n",
    "\n",
    "Après avoir séparé les données en données d'entrainement et de test, nous allons transformer nos variables en numérique à l'aide du OneHotEncoder puis effectuer notre SelectKBest.\n",
    "\n",
    "La target étant déjà au format 0 et 1, il n'y a pas besoin de la transformer. Nous afficherons les scores sur un diagramme en barres afin d'avoir une idée du nombre de features à conserver."
   ]
  },
  {
   "cell_type": "code",
   "execution_count": null,
   "id": "3ffc6451",
   "metadata": {
    "hidden": true
   },
   "outputs": [],
   "source": [
    "# SelectKBest\n",
    "fs_categ = SelectKBest(score_func = chi2, k = 'all')\n",
    "fs_categ.fit(X_train[categ_feat], y_train)"
   ]
  },
  {
   "cell_type": "code",
   "execution_count": null,
   "id": "fb888798",
   "metadata": {
    "hidden": true
   },
   "outputs": [],
   "source": [
    "# Evaluation\n",
    "plt.bar([i for i in range(len(fs_categ.scores_))], fs_categ.scores_, color = '#b8b8d2')\n",
    "plt.xlabel(\"Num features\", fontsize = 12)\n",
    "plt.ylabel(\"Chi2 Score\", fontsize = 12)\n",
    "plt.title('Feature importance scores', fontweight = 'bold', fontsize = 12);"
   ]
  },
  {
   "cell_type": "markdown",
   "id": "5cb38687",
   "metadata": {
    "hidden": true
   },
   "source": [
    "Nous remarquons que certaines features ont bien plus de lien avec la target. Nous allons conserver les **10 plus importantes** et **évaluer** le modèle sur les **données de test**.\n",
    "\n",
    "Il existe de nombreuses techniques pour sélectionner les caractéristiques sur la base des résultats obtenus. Une bonne approche consiste à évaluer les modèles à l'aide de différentes méthodes de sélection de caractéristiques et de choisir la méthode qui donne le modèle le plus performant.\n",
    "\n",
    "Pour évaluer notre choix de features, nous utiliserons un modèle de **régression logistique** avec k = 10 caractéristiques puis avec différentes valeurs de k. La régression logistique est un bon modèle pour tester les méthodes de sélection des caractéristiques car elle peut être plus performante si les caractéristiques non pertinentes sont supprimées du modèle."
   ]
  },
  {
   "cell_type": "code",
   "execution_count": null,
   "id": "3205c1a4",
   "metadata": {
    "hidden": true
   },
   "outputs": [],
   "source": [
    "# Pipeline + entrainement avec sélection des 10 features\n",
    "fs_categ = SelectKBest(score_func = chi2, k = 10)\n",
    "model = LogisticRegression(max_iter = 500, random_state=42, class_weight = 'balanced')\n",
    "\n",
    "pipeline = Pipeline(steps=[('feat_select',fs_categ),\n",
    "                           ('log_reg', model)])\n",
    "\n",
    "pipeline.fit(X_train[categ_feat], y_train)\n",
    "\n",
    "#X_train_fs_categ_10 = pipeline.transform(X_train[categ_feat])\n",
    "#X_test_fs_categ_10 = pipeline.transform(X_test[categ_feat])\n",
    "\n",
    "# Evaluation données de test\n",
    "(biz_fs_chi2_15, beta_fs_chi2_15, rec_fs_chi2_15, prec_fs_chi2_15,\n",
    " acc_fs_chi2_15, auc_fs_chi2_15, y_pred_fs_chi2_15) = fct_model.eval_metrics(best_model = pipeline,\n",
    "                                                                             xtest = X_test[categ_feat],\n",
    "                                                                             ytest = y_test,\n",
    "                                                                             beta_value = 2)"
   ]
  },
  {
   "cell_type": "markdown",
   "id": "569b4b10",
   "metadata": {
    "hidden": true
   },
   "source": [
    "Au lieu de sélectionner arbitrairement k = 15, nous allons tenter de sélectionner le meilleur nombre de features en testant différents paramètres pour k:"
   ]
  },
  {
   "cell_type": "code",
   "execution_count": null,
   "id": "2bf201b1",
   "metadata": {
    "hidden": true
   },
   "outputs": [],
   "source": [
    "# Pipeline\n",
    "fs_categ = SelectKBest(score_func = chi2, k = 'all')\n",
    "model = LogisticRegression(max_iter = 500, random_state=42, class_weight = 'balanced')\n",
    "\n",
    "pipe_fs_chi2 = Pipeline(steps=[('feat_select',fs_categ),\n",
    "                               ('log_reg', model)])"
   ]
  },
  {
   "cell_type": "code",
   "execution_count": null,
   "id": "7697fb69",
   "metadata": {
    "hidden": true
   },
   "outputs": [],
   "source": [
    "# Méthode d'évaluation\n",
    "cv = KFold(n_splits = 5, shuffle = True, random_state = 42)\n",
    "\n",
    "# Optimisation du modèle\n",
    "best_model_fs_chi2, best_params_fs_chi2 = fct_model.optimize_and_train_model(pipeline_model = pipe_fs_chi2,\n",
    "                                                                             xtrain = X_train[categ_feat],\n",
    "                                                                             ytrain = y_train,\n",
    "                                                                             params = {'feat_select__k' : [4, 5, 6, 8, 10,\n",
    "                                                                                                           12, 14, 16, 20],},\n",
    "                                                                             scoring = make_scorer(fct_model.score_metier,\n",
    "                                                                                                   greater_is_better=False,),\n",
    "                                                                             cv = cv)"
   ]
  },
  {
   "cell_type": "code",
   "execution_count": null,
   "id": "836710e0",
   "metadata": {
    "hidden": true
   },
   "outputs": [],
   "source": [
    "best_params_fs_chi2"
   ]
  },
  {
   "cell_type": "code",
   "execution_count": null,
   "id": "35d2fb77",
   "metadata": {
    "hidden": true
   },
   "outputs": [],
   "source": [
    "# Evaluation sur les données de test\n",
    "(biz_fs_chi2, beta_fs_chi2, rec_fs_chi2, prec_fs_chi2,\n",
    " acc_fs_chi2, auc_fs_chi2, y_pred_fs_chi2) = fct_model.eval_metrics(best_model = best_model_fs_chi2,\n",
    "                                                                    xtest = X_test[categ_feat],\n",
    "                                                                    ytest = y_test,\n",
    "                                                                    beta_value = 2)"
   ]
  },
  {
   "cell_type": "markdown",
   "id": "f9664cb9",
   "metadata": {
    "hidden": true
   },
   "source": [
    "D'après la grille de recherche, il semblerait qu'il faille garder les 10 variables catégorielles avec le meilleur score."
   ]
  },
  {
   "cell_type": "code",
   "execution_count": null,
   "id": "dadba3e9",
   "metadata": {
    "hidden": true
   },
   "outputs": [],
   "source": [
    "col_quali_keep = best_model_fs_chi2[:-1].get_feature_names_out().tolist()\n",
    "col_quali_keep"
   ]
  },
  {
   "cell_type": "markdown",
   "id": "a6306536",
   "metadata": {
    "hidden": true
   },
   "source": [
    "Nous allons rajouter les variables métier qui sont en principe prises en compte dlors de la décision d'accorder ou non un prêt:\n",
    "- CREDIT_DURATION_RANGE\n",
    "- DEBT_RATIO_RANGE\n",
    "- INCOME_PER_PERSON_RANGE"
   ]
  },
  {
   "cell_type": "code",
   "execution_count": null,
   "id": "c69f0150",
   "metadata": {
    "hidden": true
   },
   "outputs": [],
   "source": [
    "# Liste des variables catégorielles actualisée\n",
    "categ_feat = col_quali_keep"
   ]
  },
  {
   "cell_type": "code",
   "execution_count": null,
   "id": "718cf6bf",
   "metadata": {
    "hidden": true
   },
   "outputs": [],
   "source": [
    "categ_feat"
   ]
  },
  {
   "cell_type": "code",
   "execution_count": null,
   "id": "77a7dded",
   "metadata": {
    "hidden": true
   },
   "outputs": [],
   "source": [
    "# Actualisation de la liste des variables catégorielles et des df\n",
    "# Nouveaux df\n",
    "X_train = X_train[num_feat + categ_feat]\n",
    "X_test = X_test[num_feat + categ_feat]"
   ]
  },
  {
   "cell_type": "code",
   "execution_count": null,
   "id": "6562f50a",
   "metadata": {
    "hidden": true
   },
   "outputs": [],
   "source": [
    "X_train.shape"
   ]
  },
  {
   "cell_type": "markdown",
   "id": "b26331bb",
   "metadata": {
    "hidden": true
   },
   "source": [
    "#### Caractéristiques numériques"
   ]
  },
  {
   "cell_type": "markdown",
   "id": "b9a55171",
   "metadata": {
    "hidden": true
   },
   "source": [
    "De la même manière que pour les variables catégorielles, nous allons utiliser la fonction SelectKBest de Sklearn mais sur nos variables quantitatives en utilisant la méthode Anova (f_classif). Ce test statistique permet de déterminer si les moyennes de plusieurs échantillons de données sont identiques."
   ]
  },
  {
   "cell_type": "code",
   "execution_count": null,
   "id": "97d2752e",
   "metadata": {
    "hidden": true
   },
   "outputs": [],
   "source": [
    "# Pipeline\n",
    "fs_num = SelectKBest(score_func = f_classif, k = 'all')\n",
    "model = LogisticRegression(max_iter = 500, random_state=42, class_weight = 'balanced')\n",
    "\n",
    "pipe_fs_anova = Pipeline(steps=[('feat_select',fs_num),\n",
    "                                ('log_reg', model)])"
   ]
  },
  {
   "cell_type": "code",
   "execution_count": null,
   "id": "83d0799c",
   "metadata": {
    "hidden": true
   },
   "outputs": [],
   "source": [
    "# Pipeline\n",
    "preprocessor = ColumnTransformer(transformers=[('num', StandardScaler(), num_feat)],\n",
    "                                 remainder='drop')\n",
    "fs_num = SelectKBest(score_func = f_classif, k = 'all')\n",
    "model = LogisticRegression(max_iter = 500, random_state=42, class_weight = 'balanced')\n",
    "\n",
    "pipe_fs_anova = Pipeline(steps=[('scaler', preprocessor),\n",
    "                                ('feat_select',fs_num),\n",
    "                                ('log_reg', model)])"
   ]
  },
  {
   "cell_type": "code",
   "execution_count": null,
   "id": "d0382faa",
   "metadata": {
    "hidden": true
   },
   "outputs": [],
   "source": [
    "# Méthode d'évaluation\n",
    "cv = KFold(n_splits = 5, shuffle = True, random_state = 42)\n",
    "\n",
    "# Optimisation du modèle\n",
    "best_model_fs_anova, best_params_fs_anova = fct_model.optimize_and_train_model(pipeline_model = pipe_fs_anova,\n",
    "                                                                               xtrain = X_train[num_feat],\n",
    "                                                                               ytrain = y_train,\n",
    "                                                                               params = {'feat_select__k' : [5, 10, 15, 20, 20],},\n",
    "                                                                               scoring = make_scorer(fct_model.score_metier,\n",
    "                                                                                                     greater_is_better=False,),\n",
    "                                                                               cv = cv)"
   ]
  },
  {
   "cell_type": "code",
   "execution_count": null,
   "id": "de7814cd",
   "metadata": {
    "hidden": true
   },
   "outputs": [],
   "source": [
    "best_params_fs_anova"
   ]
  },
  {
   "cell_type": "code",
   "execution_count": null,
   "id": "225386d9",
   "metadata": {
    "hidden": true
   },
   "outputs": [],
   "source": [
    "# Evaluation sur les données de test\n",
    "(biz_fs_anova, beta_fs_anova, rec_fs_anova, prec_fs_anova,\n",
    " acc_fs_anova, auc_fs_anova, y_pred_fs_anova) = fct_model.eval_metrics(best_model = best_model_fs_anova,\n",
    "                                                                       xtest = X_test[num_feat],\n",
    "                                                                       ytest = y_test,\n",
    "                                                                       beta_value = 2)"
   ]
  },
  {
   "cell_type": "markdown",
   "id": "cf261dd7",
   "metadata": {
    "hidden": true
   },
   "source": [
    "D'après la grille de recherche, il semblerait qu'il faille garder les 20 variables numériques avec le meilleur score:"
   ]
  },
  {
   "cell_type": "code",
   "execution_count": null,
   "id": "5ae8a6cc",
   "metadata": {
    "hidden": true
   },
   "outputs": [],
   "source": [
    "col_quanti_keep = best_model_fs_anova[:-1].get_feature_names_out().tolist()\n",
    "col_quanti_keep"
   ]
  },
  {
   "cell_type": "code",
   "execution_count": null,
   "id": "ffe3afec",
   "metadata": {
    "hidden": true
   },
   "outputs": [],
   "source": [
    "# Liste des variables catégorielles actualisée\n",
    "num_feat = col_quanti_keep"
   ]
  },
  {
   "cell_type": "markdown",
   "id": "d720248e",
   "metadata": {
    "hidden": true
   },
   "source": [
    "La variable age range étant déjà dans nos variables qualitatives, nous ne prenons pas la variable AGE. Les ratios calculés lors de la partie feature engineering étant importants au niveau du métier, nous les rajoutons dans notre modèle:"
   ]
  },
  {
   "cell_type": "code",
   "execution_count": null,
   "id": "9f64cbbe",
   "metadata": {
    "hidden": true
   },
   "outputs": [],
   "source": [
    "num_feat = ['CREDIT_DURATION',\n",
    "            'DEBT_RATIO', \n",
    "            'INCOME_PER_PERSON',\n",
    "            'FLAG_EMP_PHONE',\n",
    "            'REGION_RATING_CLIENT',\n",
    "            'REGION_RATING_CLIENT_W_CITY',\n",
    "            'REG_CITY_NOT_LIVE_CITY',\n",
    "            'REG_CITY_NOT_WORK_CITY',\n",
    "            'EXT_SOURCE_2',\n",
    "            'FLAG_DOCUMENT_3',\n",
    "            'YEARS_ID_PUBLISH',\n",
    "            'YEARS_LAST_PHONE_CHANGE',\n",
    "            'CREDIT_GOODS_PERC',\n",
    "            'BURO_CREDIT_ACTIVE_Active_SUM',\n",
    "            'PREV_NAME_CONTRACT_STATUS_Approved_MEAN',\n",
    "            'PREV_NAME_CONTRACT_STATUS_Refused_MEAN',\n",
    "            'PREV_CODE_REJECT_REASON_HC_MEAN',\n",
    "            'PREV_CODE_REJECT_REASON_SCOFR_MEAN',\n",
    "            'PREV_CODE_REJECT_REASON_XAP_MEAN',\n",
    "            'PREV_NAME_PRODUCT_TYPE_walk-in_MEAN',\n",
    "            'REFUSEDSK_ID_PREV_COUNT',\n",
    "            'REFUSEDCREDIT_GOODS_PERC_MEAN']"
   ]
  },
  {
   "cell_type": "code",
   "execution_count": null,
   "id": "af236b92",
   "metadata": {
    "hidden": true
   },
   "outputs": [],
   "source": [
    "# Actualisation de la liste des variables catégorielles et des df\n",
    "# Nouveaux df\n",
    "X_train = X_train[num_feat + categ_feat]\n",
    "X_test = X_test[num_feat + categ_feat]"
   ]
  },
  {
   "cell_type": "code",
   "execution_count": null,
   "id": "51ac58a6",
   "metadata": {
    "hidden": true
   },
   "outputs": [],
   "source": [
    "X_train.shape"
   ]
  },
  {
   "cell_type": "markdown",
   "id": "3175027c",
   "metadata": {
    "heading_collapsed": true
   },
   "source": [
    "## Traitement des données déséquilibrées <a class=\"anchor\" id=\"imbalanced\"></a>"
   ]
  },
  {
   "cell_type": "markdown",
   "id": "76a653f1",
   "metadata": {
    "hidden": true
   },
   "source": [
    "Lors de l'analyse exploratoire, nous avons remarqué que les données étaient très **déséquilibrées** entre les défaillants et non défaillants. Les non défaillants sont largement sur représentés (> 91%).\n",
    "\n",
    "La plupart des modèles de Machine Learning vont **ignorer la classe minoritaire** et donc avoir des **performances médiocres** dans cette classe alors qu'en général c'est la performance de la classe minoritaire qui est la plus importante.\n",
    "\n",
    "Une des approches pour traiter les ensembles de données déséquilibrés consiste à suréchantillonner la classe minoritaire. La méthode la plus simple est de **dupliquer les exemples de la classe minoritaire** même si aucune information n'est ajoutée au modèle.\n",
    "\n",
    "Il est également possible de **pondérer les classes** c'est à dire ajuster la fonction de coût du modèle de manière à ce qu'une mauvaise classification d'une observation de la classe minoritaire soit plus lourdement pénalisée qu'une mauvaise classification d'une observation de la classe majoritaire. Cette approcge contribue à améliorer la précision du modèle en rééquilibrant la distribution des classes. Comme aucun nouveau point de données n'est créé, la méthode doit ête utilisée conjointement avec d'autres méthodes comme le suréchantillonnage par exemple.\n",
    "\n",
    "Au lieu de cela, de nouveaux **exemples peuvent être synthétisés à partir des exemples existants**. Il s'agit d'un type d'augmentation de données pour la classe minoritaire appelé **SMOTE** pour (Synthetic Minority Oversampling Technique ou Technique de suréchantillonnage synthétique des minorités).\n",
    "\n",
    "Un **exemple aléatoire de la classe minoritaire** est choisi et les k plus proches voisins sont trouvés (avec k = 5 en général). **Un voisin est choisi au hasard** et un segment est tracé entre les 2 points.\n",
    " \n",
    "Il est recommandé d'utiliser d'abord un **sous-échantillonnage aléatoire** pour réduire le nombre d'exemples dans la classe minoritaire puis d'utiliser **SMOTE** pour suréchantillonner la classe minoritaire afin d'équilibrer la distribution des classes. C'est une approche efficace car les nouveaux exemples synthétiques de la classe minoritaire sont plausibles (proches dans l'espace des caractéristiques des exemples existants de la classe minoritaire).\n",
    "\n",
    "L'inconvénient général serait que les exemples synthétiques sont créés sans tenir compte de la classe majoritaire.\n",
    "\n",
    "https://machinelearningmastery.com/smote-oversampling-for-imbalanced-classification/"
   ]
  },
  {
   "cell_type": "code",
   "execution_count": null,
   "id": "9e847eac",
   "metadata": {
    "hidden": true
   },
   "outputs": [],
   "source": [
    "# Distribution de la target\n",
    "plt.figure(figsize=(5,3))\n",
    "sns.countplot(x = 'TARGET', data = df, palette=['powderblue', 'tomato'])\n",
    "plt.title('Distribution de la target', fontweight='bold', fontsize = 12)\n",
    "x = [0, 1]\n",
    "plt.xticks(x, ['Non Défaillant', 'Défaillant'])\n",
    "plt.xlabel('');"
   ]
  },
  {
   "cell_type": "code",
   "execution_count": null,
   "id": "bba68cdf",
   "metadata": {
    "hidden": true
   },
   "outputs": [],
   "source": [
    "Counter(df['TARGET'])"
   ]
  },
  {
   "cell_type": "markdown",
   "id": "b6220e68",
   "metadata": {
    "heading_collapsed": true
   },
   "source": [
    "## Pipeline, optimisation et entrainement des modèles <a class=\"anchor\" id=\"pipe\"></a>"
   ]
  },
  {
   "cell_type": "markdown",
   "id": "6e124ef5",
   "metadata": {
    "hidden": true
   },
   "source": [
    "Nous allons dans un premier temps créer une **pipeline** pour chacun de nos modèles. Cette pipeline va nous permettre d'affecter des étapes de preprocessing à nos données, c'est à dire des transformations comme le **traitement des données déséquilibrées**, la **standardisation**, et de choisir le **type de modèle**.\n",
    "\n",
    "Cette pipeline sera ensuite intégrée dans une fonction d'optimisation et d'entrainement qui va utiliser la **validation croisée** pour tester la robustesse du modèle prédictif en répétant la procédure de split. Elle donnera plusieurs erreurs d'apprentissage et de test et donc une **estimation de la variabilité de la performance de généralisation du modèle**. \n",
    "\n",
    "Nous allons comparer l'erreur de validation avec l'erreur d'entrainement. On va créer un **validation set** qui va nous permettre d'optimiser les réglages du modèle qui donne les meilleures performances tout en gardant de côté les données du test set pour évaluer le modèle sur des données qu'il n'aura jamais vues.\n",
    "\n",
    "Le réglage des hyperparamètres s'effectuera soit à l'aide du  **GridSearchCV** qui va tester toutes les combinaisons possibles d'hyperparamètres afin de trouver celles qui vont minimiser le plus l'erreur (méthode exhaustive très **coûteuse en termes de puissance de calcul et de temps**), soit du **RandomizedSearchCV** qui va sélectionner des combinaisaons aléatoires d'hyperparamètres. Cette méthode est **un peu moins précise mais beaucoup plus rapide**. Elle sera utilisée pour les modèles plus complexes.\n",
    "\n",
    "Enfin, pour évaluer la **performance réelle de nos modèles**, nous calculerons les metrics choisis sur les données de test."
   ]
  },
  {
   "cell_type": "markdown",
   "id": "8f4c33fd",
   "metadata": {
    "heading_collapsed": true
   },
   "source": [
    "## Choix des scores <a class=\"anchor\" id=\"scores\"></a>"
   ]
  },
  {
   "cell_type": "markdown",
   "id": "9ef75d22",
   "metadata": {
    "hidden": true
   },
   "source": [
    "Si l'on se réfère au fichier de description des colonnes:\n",
    "- **1** => clients a des difficultés de paiement, il a eu un retard de paiement de plus de X jours sur au moins une des Y premières échéances du prêt dans notre échantillon (**défaillant**)\n",
    "- **0** => tous les autres cas (**non défaillant**)\n",
    "\n",
    "Sur une matrice de confusion, les défaillants représentent la classe positive (Y=1) et les non défaillants la classe négative (Y=0).\n",
    "\n",
    "Comme il serait extrêment coûteux pour la banque d'accorder un crédit à un client défaillant qui ne le rembourserait pas ou en partie, il nous faut **minimiser le nombre de faux négatifs** c'est à dire un client prédit non défaillant alors qu'il est défaillant.\n",
    "\n",
    "Il faut également tâcher de **minimiser les faux positifs** c'est à dire prédire qu'un client est défaillant alors qu'il ne l'est pas (risque de perte de clients, de manque à gagner).\n",
    "\n",
    "Cependant, un faux positif n'a pas le même coût qu'un faux négatif. Ce dernier est beaucoup plus coûteux pour la banque. **Nous accorderons donc 10 fois plus de poids aux faux négatifs** et **2 fois plus de poids aux faux positifs** (fonction coût métier). Les modèles seront évalués sur ce score métier.\n",
    "\n",
    "Le **Rappel (Recall)** qui mesure le taux de vrais positifs est à favoriser au détriment de la précision qui est la capacité du classificateur à ne pas étiqueter comme positif un échantillon qui est négatif.\n",
    "\n",
    "Pour faire cela, nous allons nous baser sur le **F-beta score** qui est la moyenne harmonique pondérée de la précision et du rappel. Le paramètre bêta détermine le poids du rappel dans le score. Lorsqu'il est suppérieur à un, il favorise le rappel. Nous testerons plusieurs valeurs pour le beta et garderons celui qui donne le meilleur score.\n",
    "\n",
    "Nous mettrons également l'**accuracy** et l'**AUC** comme éléments de comparaison. Le **temps d'entrainement** sera également tracké."
   ]
  },
  {
   "attachments": {
    "Matrice.PNG": {
     "image/png": "[encoded data removed]"
    }
   },
   "cell_type": "markdown",
   "id": "2550f839",
   "metadata": {
    "hidden": true
   },
   "source": [
    "![Matrice.PNG](attachment:Matrice.PNG)"
   ]
  },
  {
   "cell_type": "markdown",
   "id": "d7d6280c",
   "metadata": {},
   "source": [
    "## Modélisations <a class=\"anchor\" id=\"model\"></a>"
   ]
  },
  {
   "cell_type": "markdown",
   "id": "781dbd2e",
   "metadata": {},
   "source": [
    "Nous cherchons à classer les demandes en **crédit accordé ou refusé**. Il s'agit donc d'un modèle de **classification**.modèle"
   ]
  },
  {
   "cell_type": "markdown",
   "id": "0462ade5",
   "metadata": {},
   "source": [
    "ne pas avoir de rouge\n",
    "\n",
    "si on max le rappel on n'a que des vp donc pas de fn => ce qu'on veut (num = denominateur)\n",
    "\n",
    "formule rappel + facteur fn à min (+10*fn + 2*fp)\n",
    "\n",
    "\n",
    "predict proba rand 0 et 1\n",
    "\n",
    "\n",
    "precision entre 0.6 et 1\n",
    "ypred proba > seuil\n",
    "boucle sur chacun des seuils (predict_proba)\n",
    "\n",
    "\n",
    "\n",
    "\n",
    "\n",
    "SEPARER PARTIE ENTRAINEMENT ET D'EVALUATION\n",
    "predict proba puis jouer avec le seuil => faire boucle entre 0.3 et 0.8 + courbe précision recall"
   ]
  },
  {
   "cell_type": "markdown",
   "id": "dca89de8",
   "metadata": {
    "heading_collapsed": true
   },
   "source": [
    "### Modèle Baseline: Dummy classifier <a class=\"anchor\" id=\"dummy\"></a>"
   ]
  },
  {
   "cell_type": "markdown",
   "id": "7d074302",
   "metadata": {
    "hidden": true
   },
   "source": [
    "Ce classificateur fait des prédictions en utilisant des règles simples. Il est utile comme **base de référence simple** à comparer avec d'autres classificateurs et ne sera pas optimisé. Il ignore les variables en entrée et par conséquent, n'utilise aucune information provenant des features. Il n'y a donc **pas besoin de transformer au préalable nos features**."
   ]
  },
  {
   "cell_type": "code",
   "execution_count": null,
   "id": "17297bd2",
   "metadata": {
    "hidden": true
   },
   "outputs": [],
   "source": [
    "dummy, dummy_params, dummy_name, dummy_duration = fct_model.best_model(model_name = 'Baseline - Dummy classifier',\n",
    "                                                                       model = DummyClassifier(random_state = 42), \n",
    "                                                                       cv = KFold(n_splits = 5,\n",
    "                                                                                  shuffle = True,\n",
    "                                                                                  random_state = 42),\n",
    "                                                                       xtrain = X_train,\n",
    "                                                                       numeric_features = num_feat,\n",
    "                                                                       numeric_transformer = StandardScaler(),\n",
    "                                                                       ytrain = y_train,\n",
    "                                                                       params = {'classifier__strategy' : ['most_frequent',\n",
    "                                                                                                           'prior',\n",
    "                                                                                                           'stratified',\n",
    "                                                                                                           'uniform'],},\n",
    "                                                                       scoring = make_scorer(fct_model.score_metier,\n",
    "                                                                                             greater_is_better=False),\n",
    "                                                                       xtest = X_test,\n",
    "                                                                       ytest = y_test,\n",
    "                                                                       oversampling_strategy = 0.1,\n",
    "                                                                       undersampling_strategy = 0.5, \n",
    "                                                                       balanced = False,\n",
    "                                                                       Randomized = False)"
   ]
  },
  {
   "cell_type": "code",
   "execution_count": null,
   "id": "465b3a2b",
   "metadata": {
    "hidden": true
   },
   "outputs": [],
   "source": [
    "dummy_params"
   ]
  },
  {
   "cell_type": "code",
   "execution_count": null,
   "id": "aa058433",
   "metadata": {
    "hidden": true
   },
   "outputs": [],
   "source": [
    "# Evaluation sur les données de test\n",
    "(biz_dummy, beta_dummy, rec_dummy, prec_dummy,\n",
    " acc_dummy, auc_dummy, y_pred_dummy) = fct_model.eval_metrics(best_model = dummy,\n",
    "                                                              xtest = X_test,\n",
    "                                                              ytest = y_test,\n",
    "                                                              beta_value = 2)"
   ]
  },
  {
   "cell_type": "code",
   "execution_count": null,
   "id": "0cef3d34",
   "metadata": {
    "hidden": true
   },
   "outputs": [],
   "source": [
    "fct_model.matrice_confusion(ytest = y_test,\n",
    "                            ypred = y_pred_dummy,\n",
    "                            model_name = dummy_name)"
   ]
  },
  {
   "cell_type": "markdown",
   "id": "accb6025",
   "metadata": {
    "heading_collapsed": true,
    "hidden": true
   },
   "source": [
    "##### Démarche MLOps"
   ]
  },
  {
   "cell_type": "code",
   "execution_count": null,
   "id": "f4b43fa5",
   "metadata": {
    "hidden": true
   },
   "outputs": [],
   "source": []
  },
  {
   "cell_type": "code",
   "execution_count": null,
   "id": "aece5ae7",
   "metadata": {
    "hidden": true
   },
   "outputs": [],
   "source": [
    "!mlflow --version"
   ]
  },
  {
   "cell_type": "code",
   "execution_count": null,
   "id": "8af3687e",
   "metadata": {
    "hidden": true
   },
   "outputs": [],
   "source": [
    "# Création du tracking cad où MLFlow sauvegarde les runs\n",
    "mlflow.set_tracking_uri(\"file:///Users/milie/01_PYTHON/4. OPEN_CLASSROOMS/07_PROJET_7/mlruns\")\n",
    "\n",
    "# Création d'un experiment\n",
    "experiment_id = mlflow.create_experiment(\"Training binary classifier\")\n",
    "\n",
    "\n",
    "with mlflow.start_run(experiment_id = experiment_id):\n",
    "    start_Dummy = time.time()\n",
    "    model = DummyClassifier()\n",
    "\n",
    "    # Sélection des hyperparamètres\n",
    "    params = {'strategy' : ['most_frequent', 'prior', 'stratified', 'uniform'],}\n",
    "    scoring = make_scorer(recall_score)\n",
    "\n",
    "    best_model_Dummy, best_params_Dummy = optimize_and_train_model(pipeline_model = model,\n",
    "                                                                    xtrain = X_train,\n",
    "                                                                    ytrain = y_train,\n",
    "                                                                    params = params,\n",
    "                                                                    scoring = scoring)\n",
    "\n",
    "\n",
    "    duration_Dummy = time.time() - start_Dummy\n",
    "    \n",
    "    # Evaluation du modèle\n",
    "    (recall, precision, accuracy, auc) = eval_metrics(best_model = best_model_Dummy,\n",
    "                                                      xtest = X_test,\n",
    "                                                      ytest = y_test)\n",
    "    \n",
    "    print(f\"DummyClassifier Model with param strategy = {best_params_Dummy['strategy']}\")\n",
    "    print()\n",
    "    print(f\"Recall: {recall:.2f}\")\n",
    "    print(f\"Precision: {precision:.2f}\")\n",
    "    print(f\"Accuracy: {accuracy:.2f}\")\n",
    "    print(f\"AUC: {auc:.2f}\")\n",
    "    print(f\"Train time: {duration_Dummy:.2f}\")\n",
    "    \n",
    "    # log des paramètres et scores à chaque fois que le modèle est lancé\n",
    "    mlflow.log_param(\"strategy\", best_params_Dummy['strategy'])\n",
    "    mlflow.log_metric(\"recall\", recall)\n",
    "    mlflow.log_metric(\"precision\", precision)\n",
    "    mlflow.log_metric(\"accuracy\", accuracy)\n",
    "    mlflow.log_metric(\"auc\", auc)\n",
    "    mlflow.log_metric(\"Tps_entrainement\", duration_Dummy)\n",
    "    \n",
    "    mlflow.sklearn.log_model(best_model_Dummy, \"dummyclassifier\")"
   ]
  },
  {
   "cell_type": "markdown",
   "id": "a70e1590",
   "metadata": {
    "heading_collapsed": true
   },
   "source": [
    "### Régression logistique <a class=\"anchor\" id=\"reglog\"></a>"
   ]
  },
  {
   "cell_type": "markdown",
   "id": "b875ef1e",
   "metadata": {
    "hidden": true
   },
   "source": [
    "La régression logistique est un modèle statistique qui permet d'étudier la **relation entre une variable binaire** dite variable dépendante / cible et **une ou plusieurs variables indépendantes**.\n",
    "\n",
    "Il s'agit d'un **modèle linéaire** généralisé utilisant une fonction logistique comme fonction de lien. Il permet également de prédire la **probabilité qu'un événement arrive ou non** à partir de l'optimisation des coefficients de régression. Lorsque la valeur est > à un seuil, l'événement est susceptible de se produire alors que lorsque cette valeur est < au même seuil, il ne l'est pas.\n",
    "\n",
    "Nous allons tenter d'optimiser ce modèle en jouant sur les **features**, le traitement du **déséquilibre des classes** et les **hyperparamètres** via **cross validation** et **GridSearch**:\n",
    "- penalty: pénalité\n",
    "- solver: algorithme à utiliser pour l'optimisation\n",
    "- C : force de la pénalité (valeurs plus petites => régularisation plus forte)"
   ]
  },
  {
   "cell_type": "markdown",
   "id": "b9cbb204",
   "metadata": {
    "hidden": true
   },
   "source": [
    "#### Modélisation sur données non équilibrées"
   ]
  },
  {
   "cell_type": "code",
   "execution_count": null,
   "id": "61f43559",
   "metadata": {
    "hidden": true
   },
   "outputs": [],
   "source": [
    "reglog, reglog_params, reglog_name, reglog_duration = fct_model.best_model(model_name = 'Régression Logistique',\n",
    "                                                                           model = LogisticRegression(max_iter = 200,\n",
    "                                                                                                      random_state=42),\n",
    "                                                                           cv = KFold(n_splits = 5,\n",
    "                                                                                      shuffle = True,\n",
    "                                                                                      random_state = 42),\n",
    "                                                                           xtrain = X_train,\n",
    "                                                                           numeric_features = num_feat,\n",
    "                                                                           numeric_transformer = StandardScaler(),\n",
    "                                                                           ytrain = y_train,\n",
    "                                                                           params = {\"classifier__penalty\": ['l2', 'l1'],\n",
    "                                                                                     \"classifier__solver\": ['lbfgs', 'saga'],\n",
    "                                                                                      \"classifier__C\": [100, 10, 1.0, \n",
    "                                                                                                        0.1, 0.01],},\n",
    "                                                                           scoring = make_scorer(fct_model.score_metier, \n",
    "                                                                                                 greater_is_better=False),\n",
    "                                                                           xtest = X_test,\n",
    "                                                                           ytest = y_test,\n",
    "                                                                           oversampling_strategy = 0.1,\n",
    "                                                                           undersampling_strategy = 0.5,\n",
    "                                                                           balanced = False,\n",
    "                                                                           Randomized = False)"
   ]
  },
  {
   "cell_type": "code",
   "execution_count": null,
   "id": "dcc2f58e",
   "metadata": {
    "hidden": true
   },
   "outputs": [],
   "source": [
    "reglog_params"
   ]
  },
  {
   "cell_type": "code",
   "execution_count": null,
   "id": "eb2d1c9a",
   "metadata": {
    "hidden": true
   },
   "outputs": [],
   "source": [
    "# Evaluation sur les données de test\n",
    "(biz_reglog, beta_reglog, rec_reglog, prec_reglog,\n",
    " acc_reglog, auc_reglog, y_pred_reglog) = fct_model.eval_metrics(best_model = reglog,\n",
    "                                                                 xtest = X_test,\n",
    "                                                                 ytest = y_test,\n",
    "                                                                 beta_value = 2)"
   ]
  },
  {
   "cell_type": "code",
   "execution_count": null,
   "id": "543aab8a",
   "metadata": {
    "hidden": true
   },
   "outputs": [],
   "source": [
    "fct_model.matrice_confusion(ytest = y_test,\n",
    "                            ypred = y_pred_reglog,\n",
    "                            model_name = reglog_name)"
   ]
  },
  {
   "cell_type": "markdown",
   "id": "082c247a",
   "metadata": {
    "hidden": true
   },
   "source": [
    "#### Modélisation sur données rééquilibrées: pondération des classes "
   ]
  },
  {
   "cell_type": "markdown",
   "id": "39caf43c",
   "metadata": {
    "hidden": true
   },
   "source": [
    "Chaque algorithme de classification SKlearn possède un paramètre appelé **class_weight** qui permet de gérer le déséquilibre des classes. Nous allons tester via la GridSearch avec le paramètre **'balanced'** (ajustement automatique des poids de manière inversement proportionnelle aux fréquences des classes dans les données d'entrée):"
   ]
  },
  {
   "cell_type": "code",
   "execution_count": null,
   "id": "600acfa7",
   "metadata": {
    "hidden": true
   },
   "outputs": [],
   "source": [
    "(reglog_cw, reglog_params_cw, \n",
    " reglog_name_cw, reglog_duration_cw) = fct_model.best_model(model_name = 'Régression Logistique',\n",
    "                                                            model = LogisticRegression(max_iter = 200,\n",
    "                                                                                       random_state=42,\n",
    "                                                                                       class_weight='balanced'),\n",
    "                                                            cv = KFold(n_splits = 5, shuffle = True, random_state = 42),\n",
    "                                                            xtrain = X_train,\n",
    "                                                            numeric_features = num_feat,\n",
    "                                                            numeric_transformer = StandardScaler(),\n",
    "                                                            ytrain = y_train,\n",
    "                                                            params = {\"classifier__penalty\": ['l2', 'l1'],\n",
    "                                                                      \"classifier__solver\": ['lbfgs', 'saga'],\n",
    "                                                                      \"classifier__C\": [100, 10, 1.0, 0.1, 0.01],},\n",
    "                                                            scoring = make_scorer(fct_model.score_metier,\n",
    "                                                                                  greater_is_better=False),\n",
    "                                                            xtest = X_test,\n",
    "                                                            ytest = y_test,\n",
    "                                                            oversampling_strategy = 0.1,\n",
    "                                                            undersampling_strategy = 0.5,\n",
    "                                                            balanced = False,\n",
    "                                                            Randomized = True)"
   ]
  },
  {
   "cell_type": "code",
   "execution_count": null,
   "id": "2065a9f5",
   "metadata": {
    "hidden": true
   },
   "outputs": [],
   "source": [
    "reglog_params_cw"
   ]
  },
  {
   "cell_type": "code",
   "execution_count": null,
   "id": "dda29d6a",
   "metadata": {
    "hidden": true
   },
   "outputs": [],
   "source": [
    "# Evaluation sur les données de test\n",
    "(biz_reglog_cw, beta_reglog_cw, rec_reglog_cw, prec_reglog_cw,\n",
    " acc_reglog_cw, auc_reglog_cw, y_pred_reglog_cw) = fct_model.eval_metrics(best_model = reglog_cw,\n",
    "                                                                          xtest = X_test,\n",
    "                                                                          ytest = y_test,\n",
    "                                                                          beta_value = 2)"
   ]
  },
  {
   "cell_type": "code",
   "execution_count": null,
   "id": "5c188a66",
   "metadata": {
    "hidden": true,
    "scrolled": false
   },
   "outputs": [],
   "source": [
    "fct_model.matrice_confusion(ytest = y_test,\n",
    "                            ypred = y_pred_reglog_cw,\n",
    "                            model_name = reglog_name_cw)"
   ]
  },
  {
   "cell_type": "markdown",
   "id": "f75d8921",
   "metadata": {
    "hidden": true
   },
   "source": [
    "#### Modélisation sur données rééquilibrées: sous échantillonage + SMOTE"
   ]
  },
  {
   "cell_type": "markdown",
   "id": "f1e94765",
   "metadata": {
    "hidden": true
   },
   "source": [
    "Avec sur-échantillonnage de la classe minoritaire (10% de la classe majoritaire ~= 23000) et sous échantillonnage pour réduire la classe majoritaire (50% de plus que la classe minoritaire ~= 46000):"
   ]
  },
  {
   "cell_type": "code",
   "execution_count": null,
   "id": "27841490",
   "metadata": {
    "hidden": true
   },
   "outputs": [],
   "source": [
    "(reglog_smote1050, reglog_smote_params1050,\n",
    " reglog_smote_name1050, reglog_smote_duration1050) = fct_model.best_model(model_name = 'Régression Logistique - SMOTE 10/50',\n",
    "                                                                          model = LogisticRegression(max_iter = 200, \n",
    "                                                                                                     random_state=42,),\n",
    "                                                                          cv = KFold(n_splits = 5,\n",
    "                                                                                     shuffle = True,\n",
    "                                                                                     random_state = 42),\n",
    "                                                                          xtrain = X_train,\n",
    "                                                                          numeric_features = num_feat,\n",
    "                                                                          numeric_transformer = StandardScaler(),\n",
    "                                                                          ytrain = y_train,\n",
    "                                                                          params = {\"classifier__penalty\": ['l2', 'l1'],\n",
    "                                                                                    \"classifier__solver\": ['lbfgs', 'saga'],\n",
    "                                                                                    \"classifier__C\": [100, 10, 1.0, 0.1, 0.01],},\n",
    "                                                                          scoring = make_scorer(fct_model.score_metier, \n",
    "                                                                                                greater_is_better=False),\n",
    "                                                                          xtest = X_test,\n",
    "                                                                          ytest = y_test,\n",
    "                                                                          oversampling_strategy = 0.1,\n",
    "                                                                          undersampling_strategy = 0.5,\n",
    "                                                                          balanced = True,\n",
    "                                                                          Randomized = True)"
   ]
  },
  {
   "cell_type": "code",
   "execution_count": null,
   "id": "8ab4236c",
   "metadata": {
    "hidden": true
   },
   "outputs": [],
   "source": [
    "reglog_smote_params1050"
   ]
  },
  {
   "cell_type": "code",
   "execution_count": null,
   "id": "bf17f058",
   "metadata": {
    "hidden": true
   },
   "outputs": [],
   "source": [
    "# Evaluation sur les données de test\n",
    "(biz_reglog_SMOTE1050, beta_reglog_SMOTE1050, rec_reglog_SMOTE1050, prec_reglog_SMOTE1050,\n",
    " acc_reglog_SMOTE1050, auc_reglog_SMOTE1050, y_pred_reglog_SMOTE1050) = fct_model.eval_metrics(best_model = reglog_smote1050,\n",
    "                                                                                               xtest = X_test,\n",
    "                                                                                               ytest = y_test,\n",
    "                                                                                               beta_value = 2)"
   ]
  },
  {
   "cell_type": "code",
   "execution_count": null,
   "id": "3178259a",
   "metadata": {
    "hidden": true
   },
   "outputs": [],
   "source": [
    "fct_model.matrice_confusion(ytest = y_test,\n",
    "                            ypred = y_pred_reglog_SMOTE1050,\n",
    "                            model_name = reglog_smote_name1050)"
   ]
  },
  {
   "cell_type": "markdown",
   "id": "be629861",
   "metadata": {
    "hidden": true
   },
   "source": [
    "Avec sur-échantillonnage de la classe minoritaire (20% de la classe majoritaire) et sous échantillonnage pour réduire la classe majoritaire (30% de plus que la classe minoritaire):"
   ]
  },
  {
   "cell_type": "code",
   "execution_count": null,
   "id": "e68c8d53",
   "metadata": {
    "hidden": true
   },
   "outputs": [],
   "source": [
    "(reglog_smote2030, reglog_smote_params2030,\n",
    " reglog_smote_name2030, reglog_smote_duration2030) = fct_model.best_model(model_name = 'Régression Logistique - SMOTE 20/30',\n",
    "                                                                          model = LogisticRegression(max_iter = 200, \n",
    "                                                                                                     random_state=42,),\n",
    "                                                                          cv = KFold(n_splits = 5,\n",
    "                                                                                     shuffle = True,\n",
    "                                                                                     random_state = 42),\n",
    "                                                                          xtrain = X_train,\n",
    "                                                                          numeric_features = num_feat,\n",
    "                                                                          numeric_transformer = StandardScaler(),\n",
    "                                                                          ytrain = y_train,\n",
    "                                                                          params = {\"classifier__penalty\": ['l2', 'l1'],\n",
    "                                                                                    \"classifier__solver\": ['lbfgs', 'saga'],\n",
    "                                                                                    \"classifier__C\": [100, 10, 1.0, 0.1, 0.01],},\n",
    "                                                                          scoring = make_scorer(fct_model.score_metier,\n",
    "                                                                                                greater_is_better=False),\n",
    "                                                                          xtest = X_test,\n",
    "                                                                          ytest = y_test,\n",
    "                                                                          oversampling_strategy = 0.2,\n",
    "                                                                          undersampling_strategy = 0.3,\n",
    "                                                                          balanced = True,\n",
    "                                                                          Randomized = True)"
   ]
  },
  {
   "cell_type": "code",
   "execution_count": null,
   "id": "e637bc79",
   "metadata": {
    "hidden": true
   },
   "outputs": [],
   "source": [
    "reglog_smote_params2030"
   ]
  },
  {
   "cell_type": "code",
   "execution_count": null,
   "id": "5b02c7a0",
   "metadata": {
    "hidden": true
   },
   "outputs": [],
   "source": [
    "# Evaluation sur les données de test\n",
    "(biz_reglog_SMOTE2030, beta_reglog_SMOTE2030, rec_reglog_SMOTE2030, prec_reglog_SMOTE2030,\n",
    " acc_reglog_SMOTE2030, auc_reglog_SMOTE2030, y_pred_reglog_SMOTE2030) = fct_model.eval_metrics(best_model = reglog_smote2030,\n",
    "                                                                                               xtest = X_test,\n",
    "                                                                                               ytest = y_test,\n",
    "                                                                                               beta_value = 2)"
   ]
  },
  {
   "cell_type": "code",
   "execution_count": null,
   "id": "90e14fbb",
   "metadata": {
    "hidden": true
   },
   "outputs": [],
   "source": [
    "fct_model.matrice_confusion(ytest = y_test,\n",
    "                            ypred = y_pred_reglog_SMOTE2030,\n",
    "                            model_name = reglog_smote_name2030)"
   ]
  },
  {
   "cell_type": "markdown",
   "id": "1318213d",
   "metadata": {
    "hidden": true
   },
   "source": [
    "Avec sur-échantillonnage de la classe minoritaire (10% de la classe majoritaire) et sous échantillonnage pour réduire la classe majoritaire (60% de plus que la classe minoritaire):"
   ]
  },
  {
   "cell_type": "code",
   "execution_count": null,
   "id": "c1efc6eb",
   "metadata": {
    "hidden": true
   },
   "outputs": [],
   "source": [
    "(reglog_smote1060, reglog_smote_params1060,\n",
    " reglog_smote_name1060, reglog_smote_duration1060) = fct_model.best_model(model_name = 'Régression Logistique - SMOTE 10/60',\n",
    "                                                                          model = LogisticRegression(max_iter = 200, \n",
    "                                                                                                     random_state=42,),\n",
    "                                                                          cv = KFold(n_splits = 5,\n",
    "                                                                                     shuffle = True,\n",
    "                                                                                     random_state = 42),\n",
    "                                                                          xtrain = X_train,\n",
    "                                                                          numeric_features = num_feat,\n",
    "                                                                          numeric_transformer = StandardScaler(),\n",
    "                                                                          ytrain = y_train,\n",
    "                                                                          params = {\"classifier__penalty\": ['l2', 'l1'],\n",
    "                                                                                    \"classifier__solver\": ['lbfgs', 'saga'],\n",
    "                                                                                    \"classifier__C\": [100, 10, 1.0, 0.1, 0.01],},\n",
    "                                                                          scoring = make_scorer(fct_model.score_metier, \n",
    "                                                                                                greater_is_better=False),\n",
    "                                                                          xtest = X_test,\n",
    "                                                                          ytest = y_test,\n",
    "                                                                          oversampling_strategy = 0.1,\n",
    "                                                                          undersampling_strategy = 0.6,\n",
    "                                                                          balanced = True,\n",
    "                                                                          Randomized = True)"
   ]
  },
  {
   "cell_type": "code",
   "execution_count": null,
   "id": "0693cecd",
   "metadata": {
    "hidden": true
   },
   "outputs": [],
   "source": [
    "reglog_smote_params1060"
   ]
  },
  {
   "cell_type": "code",
   "execution_count": null,
   "id": "f82f6c14",
   "metadata": {
    "hidden": true
   },
   "outputs": [],
   "source": [
    "# Evaluation sur les données de test\n",
    "(biz_reglog_SMOTE1060, beta_reglog_SMOTE1060, rec_reglog_SMOTE1060, prec_reglog_SMOTE1060,\n",
    " acc_reglog_SMOTE1060, auc_reglog_SMOTE1060, y_pred_reglog_SMOTE1060) = fct_model.eval_metrics(best_model = reglog_smote1060,\n",
    "                                                                                               xtest = X_test,\n",
    "                                                                                               ytest = y_test,\n",
    "                                                                                               beta_value = 2)"
   ]
  },
  {
   "cell_type": "code",
   "execution_count": null,
   "id": "8f73ca76",
   "metadata": {
    "hidden": true
   },
   "outputs": [],
   "source": [
    "fct_model.matrice_confusion(ytest = y_test,\n",
    "                            ypred = y_pred_reglog_SMOTE1060,\n",
    "                            model_name = reglog_smote_name1060)"
   ]
  },
  {
   "cell_type": "markdown",
   "id": "701af998",
   "metadata": {
    "hidden": true
   },
   "source": [
    "Le choix du traitement du déséquilibre des classes par class weight balanced donnant les meilleurs résultats, nous partirons de cette méthode pour le prochain modèle: le LightGBM. Si nous avions choisi la méthode SMOTE, nous aurions vérifier la distribution de nos variables avant et après."
   ]
  },
  {
   "cell_type": "markdown",
   "id": "0160691f",
   "metadata": {
    "hidden": true
   },
   "source": [
    "<div class=\"alert alert-block alert-success\">\n",
    "    <p>POURQUOI?</p>\n",
    "</div>"
   ]
  },
  {
   "cell_type": "markdown",
   "id": "4d77d223",
   "metadata": {},
   "source": [
    "### LightGBM <a class=\"anchor\" id=\"lightgbm\"></a>"
   ]
  },
  {
   "cell_type": "markdown",
   "id": "16fa4dc4",
   "metadata": {},
   "source": [
    "Basé sur des algorithmes **d’arbre de décision**, LightGBM (Light Gradient Boosting Machine) est utilisé pour le classement, la classification et de nombreuses autres tâches de Machine Learning. C'est un algorithme développé par Microsoft et publié en 2016 qui est basé sur le **renforcement de gradient** (Gradient Boosting). \n",
    "\n",
    "L'objectif est de former plusieurs modèles utilisant le même algorithme d'apprentissage. Une **combinaison de modèles individuels simples** crée un **modèle plus fort et puissant**.\n",
    "\n",
    "- Création d'un **modèle simple** qui est entrainé sur les données.\n",
    "- Un **second modèle** est construit pour tenter de **corriger les erreurs** présentes dans le premier modèle. Les erreurs sont minimisées par l’algorithme de descente de gradient. Chaque arbre ajouté va compenser les erreurs commises précédemment **sans détériorer les prédictions qui ont été justes**. La base d'apprentissage estdifférente.\n",
    "- Cette procédure se poursuit et des modèles sont ajoutés jusqu’à ce que l’ensemble complet des données de formation soit prédit correctement ou que le nombre maximal de modèles soit ajouté.\n",
    "- Les prédictions du dernier modèle ajouté seront les prédictions globales fournies par les anciens modèles d’arbres.\n",
    "\n",
    "https://blent.ai/blog/a/lightgbm-mieux-que-xgboost\n",
    "\n",
    "Cet algorithme offre de très bonnes performances et nous permettra d'analyser l'importance des variables globales.\n",
    "\n",
    "Lors de l'optimisation des hyperparamètres, nous tenterons un approche par GridSearchCV sur les hyperparamètres suivants:\n",
    "- **n_estimators** = nombre d'arbres de décision (il est préférable d'en avoir plusieurs)\n",
    "- **max_depth** = profondeur de chaque arbre qui contrôle le degré de spécialisation de chaque arbre par rapport à l'ensemble des données d'apprentissage (viser une profondeur modeste). Il existe deux façons principales de **contrôler la complexité des arbres** : la **profondeur maximale** des arbres et le **nombre maximal des feuilles** dans l'arbre.\n",
    "- **learning_rate**: importance de la contribution de chaque modèle à la prédiction de l'ensemble (taux plus faibles => plus d'arbres de décision)\n",
    "\n",
    "https://lightgbm.readthedocs.io/en/latest/pythonapi/lightgbm.LGBMClassifier.html\n",
    "\n",
    "https://machinelearningmastery.com/light-gradient-boosted-machine-lightgbm-ensemble/"
   ]
  },
  {
   "cell_type": "markdown",
   "id": "989973d9",
   "metadata": {},
   "source": [
    "#### Modélisation sur données rééquilibrées par class weight + hyperparameters tuning"
   ]
  },
  {
   "cell_type": "code",
   "execution_count": null,
   "id": "a94c7f7c",
   "metadata": {},
   "outputs": [],
   "source": [
    "params = {\"classifier__ num_iterations\": [10, 50, 100, 500, 1000, 5000],\n",
    "          \"classifier__ max_depth\": [1, 2, 3, 4, 5, 6, 7, 8, 9, 10],\n",
    "          \"classifier__ num_leaves\": [2, 4, 8, 16, 32, 64, 128, 256, 512, 1024],\n",
    "          \"classifier__ learning_rate\": [0.0001, 0.001, 0.01, 0.1, 1.0],}\n",
    "\n",
    "lgb, lgb_params, lgb_name, lgb_duration = fct_model.best_model(model_name = 'LightGBM',\n",
    "                                                               model = LGBMClassifier(random_state = 42,\n",
    "                                                                                      class_weight='balanced'),\n",
    "                                                               cv = KFold(n_splits = 5, \n",
    "                                                                          shuffle = True, \n",
    "                                                                          random_state = 42),\n",
    "                                                               xtrain = X_train,\n",
    "                                                               numeric_features = num_feat,\n",
    "                                                               numeric_transformer = StandardScaler(),\n",
    "                                                               ytrain = y_train,\n",
    "                                                               params = params,\n",
    "                                                               scoring = make_scorer(fct_model.score_metier,\n",
    "                                                                                     greater_is_better=False),\n",
    "                                                               xtest = X_test,\n",
    "                                                               ytest = y_test,\n",
    "                                                               oversampling_strategy = 0.1,\n",
    "                                                               undersampling_strategy = 0.5,\n",
    "                                                               balanced = False,\n",
    "                                                               Randomized = True)"
   ]
  },
  {
   "cell_type": "code",
   "execution_count": null,
   "id": "ece27190",
   "metadata": {},
   "outputs": [],
   "source": [
    "lgb_params"
   ]
  },
  {
   "cell_type": "code",
   "execution_count": null,
   "id": "fcf930a2",
   "metadata": {},
   "outputs": [],
   "source": [
    "# Evaluation sur les données de test\n",
    "(biz_lgb, beta_lgb, rec_lgb, prec_lgb,\n",
    " acc_lgb, auc_lgb, y_pred_lgb) = fct_model.eval_metrics(best_model = lgb,\n",
    "                                                        xtest = X_test,\n",
    "                                                        ytest = y_test,\n",
    "                                                        beta_value = 100)"
   ]
  },
  {
   "cell_type": "code",
   "execution_count": null,
   "id": "88e50b58",
   "metadata": {
    "scrolled": true
   },
   "outputs": [],
   "source": [
    "fct_model.matrice_confusion(ytest = y_test,\n",
    "                            ypred = y_pred_lgb,\n",
    "                            model_name = lgb_name)"
   ]
  },
  {
   "cell_type": "code",
   "execution_count": null,
   "id": "54a90b78",
   "metadata": {},
   "outputs": [],
   "source": [
    "params = {\"classifier__ num_iterations\": [10, 50, 100, 500, 1000, 5000],\n",
    "          \"classifier__ max_depth\": [1, 2, 3, 4, 5, 6, 7, 8, 9, 10],\n",
    "          \"classifier__ num_leaves\": [2, 4, 8, 16, 32, 64, 128, 256, 512, 1024],\n",
    "          \"classifier__ learning_rate\": [0.0001, 0.001, 0.01, 0.1, 1.0],}\n",
    "\n",
    "lgb, lgb_params, lgb_name, lgb_duration = fct_model.best_model(model_name = 'LightGBM',\n",
    "                                                               model = LGBMClassifier(random_state = 42,\n",
    "                                                                                      class_weight='balanced'),\n",
    "                                                               cv = KFold(n_splits = 5, \n",
    "                                                                          shuffle = True, \n",
    "                                                                          random_state = 42),\n",
    "                                                               xtrain = X_train,\n",
    "                                                               numeric_features = num_feat,\n",
    "                                                               numeric_transformer = StandardScaler(),\n",
    "                                                               ytrain = y_train,\n",
    "                                                               params = params,\n",
    "                                                               scoring = make_scorer(fbeta_score, beta=100),\n",
    "                                                               xtest = X_test,\n",
    "                                                               ytest = y_test,\n",
    "                                                               oversampling_strategy = 0.1,\n",
    "                                                               undersampling_strategy = 0.5,\n",
    "                                                               balanced = False,\n",
    "                                                               Randomized = True)"
   ]
  },
  {
   "cell_type": "code",
   "execution_count": null,
   "id": "d2c2143a",
   "metadata": {},
   "outputs": [],
   "source": [
    "lgb_params"
   ]
  },
  {
   "cell_type": "code",
   "execution_count": null,
   "id": "4387131a",
   "metadata": {},
   "outputs": [],
   "source": [
    "# Evaluation sur les données de test\n",
    "(biz_lgb, beta_lgb, rec_lgb, prec_lgb,\n",
    " acc_lgb, auc_lgb, y_pred_lgb) = fct_model.eval_metrics(best_model = lgb,\n",
    "                                                        xtest = X_test,\n",
    "                                                        ytest = y_test,\n",
    "                                                        beta_value = 100)"
   ]
  },
  {
   "cell_type": "code",
   "execution_count": null,
   "id": "a5d3f5dd",
   "metadata": {},
   "outputs": [],
   "source": [
    "fct_model.matrice_confusion(ytest = y_test,\n",
    "                            ypred = y_pred_lgb,\n",
    "                            model_name = lgb_name)"
   ]
  },
  {
   "cell_type": "markdown",
   "id": "113920bd",
   "metadata": {},
   "source": [
    "#### Choix du beta"
   ]
  },
  {
   "cell_type": "code",
   "execution_count": null,
   "id": "9edff9ab",
   "metadata": {},
   "outputs": [],
   "source": [
    "for b in range(1,200,10):\n",
    "    y_pred = lgb.predict(X_test)\n",
    "    score = fbeta_score(y_true = y_test,\n",
    "                        y_pred = y_pred,\n",
    "                        beta = b)\n",
    "    print(f'Score avec beta = {b}: {round(score,4)}')"
   ]
  },
  {
   "cell_type": "code",
   "execution_count": null,
   "id": "f13785c1",
   "metadata": {},
   "outputs": [],
   "source": [
    "params = {\"classifier__ num_iterations\": [10, 50, 100, 500, 1000, 5000],\n",
    "                                              \"classifier__ max_depth\": [1, 2, 3, 4, 5, 6, 7, 8, 9, 10],\n",
    "                                              \"classifier__ num_leaves\": [2, 4, 8, 16, 32, 64, 128, 256, 512, 1024],\n",
    "                                              \"classifier__ learning_rate\": [0.0001, 0.001, 0.01, 0.1, 1.0],},\n",
    "\n",
    "\n",
    "lgba, lgba_params, lgba_name, lgba_duration = fct_model.best_model(model_name = 'LightGBM',\n",
    "                                                               model = LGBMClassifier(random_state = 42,\n",
    "                                                                                      class_weight='balanced'),\n",
    "                                                               cv = KFold(n_splits = 5, \n",
    "                                                                          shuffle = True, \n",
    "                                                                          random_state = 42),\n",
    "                                                               xtrain = X_train,\n",
    "                                                               numeric_features = num_feat,\n",
    "                                                               numeric_transformer = StandardScaler(),\n",
    "                                                               ytrain = y_train,\n",
    "                                                               params = params,\n",
    "                                                               scoring = make_scorer(fbeta_score, beta=100),\n",
    "                                                               xtest = X_test,\n",
    "                                                               ytest = y_test,\n",
    "                                                               oversampling_strategy = 0.1,\n",
    "                                                               undersampling_strategy = 0.5,\n",
    "                                                               balanced = False,\n",
    "                                                               Randomized = True)"
   ]
  },
  {
   "cell_type": "code",
   "execution_count": null,
   "id": "24153bd8",
   "metadata": {},
   "outputs": [],
   "source": [
    "lgba_params"
   ]
  },
  {
   "cell_type": "code",
   "execution_count": null,
   "id": "5b10df41",
   "metadata": {},
   "outputs": [],
   "source": [
    "fct_model.eval_metrics(best_model = lgba,\n",
    "                                                        xtest = X_test,\n",
    "                                                        ytest = y_test,\n",
    "                                                        beta_value = 100)"
   ]
  },
  {
   "cell_type": "code",
   "execution_count": null,
   "id": "be84eb98",
   "metadata": {},
   "outputs": [],
   "source": [
    "lgba.named_steps['preprocessor'].get_feature_names_out()"
   ]
  },
  {
   "cell_type": "markdown",
   "id": "7e3f0d82",
   "metadata": {},
   "source": [
    "#### Features importances globales"
   ]
  },
  {
   "cell_type": "code",
   "execution_count": null,
   "id": "9352220a",
   "metadata": {},
   "outputs": [],
   "source": [
    "# Liste des colonnes après preprocessing\n",
    "col = pd.DataFrame(best_model_RandomForest_CO2.named_steps['preprocessor'].get_feature_names_out())\n",
    "\n",
    "# Liste des coefficients de la régression Linéaire\n",
    "coef = []\n",
    "coef.append(best_model_RandomForest_CO2.named_steps['TransformedTargetRegressor'].regressor_.feature_importances_)\n",
    "\n",
    "# Dataframe des poids des coefficients\n",
    "weights_RandomForest_CO2 = pd.DataFrame(coef, columns=col)\n",
    "weights_RandomForest_CO2 = abs(weights_RandomForest_CO2).T.sort_values(by = 0, ascending = False).reset_index()\n",
    "weights_RandomForest_CO2.rename(columns={'index': 'features', 0: 'coef'}, inplace = True)"
   ]
  },
  {
   "cell_type": "code",
   "execution_count": null,
   "id": "bae3aeeb",
   "metadata": {},
   "outputs": [],
   "source": []
  },
  {
   "cell_type": "markdown",
   "id": "ed0e6a2b",
   "metadata": {},
   "source": [
    "#### Features importances locales"
   ]
  },
  {
   "cell_type": "code",
   "execution_count": null,
   "id": "35fcf99a",
   "metadata": {},
   "outputs": [],
   "source": []
  },
  {
   "cell_type": "code",
   "execution_count": null,
   "id": "e23d2ca0",
   "metadata": {},
   "outputs": [],
   "source": []
  },
  {
   "cell_type": "code",
   "execution_count": null,
   "id": "9e7bf115",
   "metadata": {},
   "outputs": [],
   "source": []
  },
  {
   "cell_type": "code",
   "execution_count": null,
   "id": "ffcf223d",
   "metadata": {},
   "outputs": [],
   "source": []
  },
  {
   "cell_type": "code",
   "execution_count": null,
   "id": "ee44cfd1",
   "metadata": {},
   "outputs": [],
   "source": []
  },
  {
   "cell_type": "code",
   "execution_count": null,
   "id": "05391ab4",
   "metadata": {},
   "outputs": [],
   "source": []
  },
  {
   "cell_type": "code",
   "execution_count": null,
   "id": "d99763ea",
   "metadata": {},
   "outputs": [],
   "source": []
  },
  {
   "cell_type": "code",
   "execution_count": null,
   "id": "6f00d105",
   "metadata": {},
   "outputs": [],
   "source": []
  },
  {
   "cell_type": "code",
   "execution_count": null,
   "id": "2ab18999",
   "metadata": {
    "scrolled": false
   },
   "outputs": [],
   "source": [
    "lgb_smote1, df_lgb_smote1 = best_model(model_name = 'LightGBM',\n",
    "                                    model = LGBMClassifier(random_state = 42, verbose = -1),\n",
    "                                    xtrain = X_train,\n",
    "                                    numeric_features = feats,\n",
    "                                    numeric_transformer = StandardScaler(),\n",
    "                                    ytrain = y_train,\n",
    "                                    params = {\"classifier__ max_depth\": [1, 2, 3],\n",
    "                                              \"classifier__ n_estimators\": [1, 2, 3],},\n",
    "                                    scoring = make_scorer(score_metier),\n",
    "                                    xtest = X_test,\n",
    "                                    ytest = y_test,\n",
    "                                    oversampling_strategy = 0.1, undersampling_strategy = 0.5, balanced = True)"
   ]
  },
  {
   "cell_type": "code",
   "execution_count": null,
   "id": "2e2919d9",
   "metadata": {},
   "outputs": [],
   "source": [
    "lgb_smote1, df_lgb_smote1 = best_model(model_name = 'LightGBM',\n",
    "                                    model = LGBMClassifier(random_state = 42),\n",
    "                                    xtrain = X_train,\n",
    "                                    numeric_features = feats,\n",
    "                                    numeric_transformer = StandardScaler(),\n",
    "                                    ytrain = y_train,\n",
    "                                    params = {\"classifier__ max_depth\": [1, 2, 3, 4, 5, 6, 7, 8, 9, 10],\n",
    "                                              \"classifier__ num_leaves\": [2, 4, 8, 16, 32, 64, 128, 256, 512, 1024],\n",
    "                                              \"classifier__ learning_rate\": [0.0001, 0.001, 0.01, 0.1, 1.0],\n",
    "                                              \"classifier__ n_estimators\": [10, 50, 100, 500, 1000, 5000],},\n",
    "                                    scoring = make_scorer(score_metier),\n",
    "                                    xtest = X_test,\n",
    "                                    ytest = y_test,\n",
    "                                    oversampling_strategy = 0.1, undersampling_strategy = 0.5, balanced = True)"
   ]
  },
  {
   "cell_type": "code",
   "execution_count": null,
   "id": "3d5b584a",
   "metadata": {
    "scrolled": true
   },
   "outputs": [],
   "source": [
    "lgb_smote1, df_lgb_smote1 = best_model(model_name = 'LightGBM',\n",
    "                                    model = LGBMClassifier(random_state = 42, verbose = -1),\n",
    "                                    xtrain = X_train,\n",
    "                                    numeric_features = feats_lgb,\n",
    "                                    numeric_transformer = StandardScaler(),\n",
    "                                    ytrain = y_train,\n",
    "                                    params = {\"classifier__ max_depth\": [1, 2, 3, 4, 5, 6, 7, 8, 9, 10],\n",
    "                                              \"classifier__ num_leaves\": [2, 4, 8, 16, 32, 64, 128, 256, 512, 1024],\n",
    "                                              \"classifier__ learning_rate\": [0.0001, 0.001, 0.01, 0.1, 1.0],},\n",
    "                                    scoring = make_scorer(score_metier),\n",
    "                                    xtest = X_test,\n",
    "                                    ytest = y_test,\n",
    "                                    oversampling_strategy = 0.1, undersampling_strategy = 0.5, balanced = True)"
   ]
  },
  {
   "cell_type": "code",
   "execution_count": null,
   "id": "9f9258ba",
   "metadata": {},
   "outputs": [],
   "source": [
    "params = {\"classifier__ num_iterations\": [10, 50, 100, 500, 1000, 5000],\n",
    "                                              \"classifier__ max_depth\": [1, 2, 3, 4, 5, 6, 7, 8, 9, 10],\n",
    "                                              \"classifier__ num_leaves\": [2, 4, 8, 16, 32, 64, 128, 256, 512, 1024],\n",
    "                                              \"classifier__ learning_rate\": [0.0001, 0.001, 0.01, 0.1, 1.0],},"
   ]
  },
  {
   "cell_type": "markdown",
   "id": "64b09b6b",
   "metadata": {},
   "source": [
    "### Choix du meilleur modèle <a class=\"anchor\" id=\"eval\"></a>"
   ]
  },
  {
   "cell_type": "code",
   "execution_count": null,
   "id": "8b3de738",
   "metadata": {},
   "outputs": [],
   "source": [
    "lgb_smote1.get_params"
   ]
  },
  {
   "cell_type": "code",
   "execution_count": null,
   "id": "ab01c5e8",
   "metadata": {},
   "outputs": [],
   "source": []
  },
  {
   "cell_type": "code",
   "execution_count": null,
   "id": "21ecf81e",
   "metadata": {},
   "outputs": [],
   "source": []
  },
  {
   "cell_type": "code",
   "execution_count": null,
   "id": "70f472b5",
   "metadata": {},
   "outputs": [],
   "source": []
  },
  {
   "cell_type": "code",
   "execution_count": null,
   "id": "5efc804d",
   "metadata": {},
   "outputs": [],
   "source": []
  },
  {
   "cell_type": "code",
   "execution_count": null,
   "id": "068f701b",
   "metadata": {},
   "outputs": [],
   "source": [
    "#EXPERIMENT_NAME = \"mlflow-default-risk\"\n",
    "#EXPERIMENT_ID = mlflow.create_experiment(EXPERIMENT_NAME)\n",
    "\n",
    "start_Dummy = time.time()\n",
    "model = DummyClassifier()\n",
    "\n",
    "# Sélection des hyperparamètres\n",
    "params = {'strategy' : ['most_frequent', 'prior', 'stratified', 'uniform'],}\n",
    "scoring = make_scorer(recall_score)\n",
    "\n",
    "best_model_Dummy, best_params_Dummy = optimize_and_train_model(pipeline_model = model,\n",
    "                                                                xtrain = X_train,\n",
    "                                                                ytrain = y_train,\n",
    "                                                                params = params,\n",
    "                                                                scoring = scoring)\n",
    "\n",
    "\n",
    "duration_Dummy = time.time() - start_Dummy\n",
    "    \n",
    "# Evaluation du modèle\n",
    "(recall, precision, accuracy, auc) = eval_metrics(best_model = best_model_Dummy,\n",
    "                                                    xtest = X_test,\n",
    "                                                    ytest = y_test)\n",
    "    \n",
    "print(f\"DummyClassifier Model with param strategy = {best_params_Dummy['strategy']}\")\n",
    "print()\n",
    "print(f\"Recall: {recall:.2f}\")\n",
    "print(f\"Precision: {precision:.2f}\")\n",
    "print(f\"Accuracy: {accuracy:.2f}\")\n",
    "print(f\"AUC: {auc:.2f}\")\n",
    "print(f\"Train time: {duration_Dummy:.2f}\")\n",
    "\n",
    "# Start MLflow\n",
    "with mlflow.start_run() as run:\n",
    "#with mlflow.start_run(experiment_id=EXPERIMENT_ID, run_name=RUN_NAME) as run:\n",
    "    \n",
    "    # Run id\n",
    "    RUN_ID = run.info.run_id\n",
    "    \n",
    "    # log des paramètres et scores à chaque fois que le modèle est lancé\n",
    "    mlflow.log_param(\"strategy\", best_params_Dummy['strategy'])\n",
    "    mlflow.log_metric(\"recall\", recall)\n",
    "    mlflow.log_metric(\"precision\", precision)\n",
    "    mlflow.log_metric(\"accuracy\", accuracy)\n",
    "    mlflow.log_metric(\"auc\", auc)\n",
    "    mlflow.log_metric(\"Tps_entrainement\", duration_Dummy)\n",
    "    \n",
    "    mlflow.sklearn.log_model(best_model_Dummy, \"dummyclassifier\")"
   ]
  },
  {
   "cell_type": "code",
   "execution_count": null,
   "id": "a3724da3",
   "metadata": {},
   "outputs": [],
   "source": []
  },
  {
   "cell_type": "code",
   "execution_count": null,
   "id": "855fd534",
   "metadata": {},
   "outputs": [],
   "source": []
  },
  {
   "cell_type": "code",
   "execution_count": null,
   "id": "355d29c6",
   "metadata": {},
   "outputs": [],
   "source": []
  },
  {
   "cell_type": "code",
   "execution_count": null,
   "id": "1c5def1d",
   "metadata": {},
   "outputs": [],
   "source": []
  },
  {
   "cell_type": "code",
   "execution_count": null,
   "id": "b1a3593e",
   "metadata": {},
   "outputs": [],
   "source": []
  },
  {
   "cell_type": "code",
   "execution_count": null,
   "id": "f81f4dc6",
   "metadata": {},
   "outputs": [],
   "source": []
  },
  {
   "cell_type": "markdown",
   "id": "ad2182ca",
   "metadata": {},
   "source": [
    "https://scikit-learn.org/stable/modules/generated/sklearn.metrics.fbeta_score.html\n",
    "\n",
    "https://datascience.stackexchange.com/questions/82780/how-to-implement-a-gridsearchcv-custom-scorer-that-is-dependent-on-a-training-fe"
   ]
  },
  {
   "cell_type": "markdown",
   "id": "473c353d",
   "metadata": {},
   "source": [
    "<div class=\"alert alert-block alert-success\">\n",
    "    <p>•\tFinir la partie exploration et la transformation et choix des features \n",
    "•\tCréer un environnement MLFlow permettant le tracking lors de l’entraînement des modèles, la visualisation et la comparaison via l’UI de MLFlow, ainsi que le stockage de manière centralisée des modèles.\n",
    "o\tIl faut au minimum le tracking des scores (scores métier, AUC), des hyperparamètres, des temps de traitement de fit et de prédiction, ainsi que le stockage de graphiques (ROC curve) et des modèles\n",
    "•\tUne fonction de tracking de logs \n",
    "\n",
    "Bonus (je te le mets pour que tu l'aies en tête mais je n'attends pas que tu le fasse tout de suite) :\n",
    "•\tAvant de construire les modèles, réfléchir à la fonction de coût métier : \n",
    "o\tLa problématique « métier » est de prendre en compte qu’un faux positifs (crédit non accordé à tort, donc manque à gagner de la marge pour la banque) n’a pas le même coût qu’un faux négatif (mauvais client à qui on accorde un prêt, donc perte sur le capital non remboursé). Un faux négatif est environ 10 fois plus coûteux qu’un faux positif. Les mesures techniques tels que le f1 score ne le prennent pas en compte.\n",
    "o\tLe score “métier” consiste à calculer une fonction de coût métier de type 10*FN + FP \n",
    "o\tLes modèles et leur hyperparamètres seront optimisés via un GridSearchCV ou équivalent sur ce score, faire aussi l’accuracy ou l’AUC comme élément de comparaison (le garder en référence)\n",
    "</p>\n",
    "</div>"
   ]
  },
  {
   "cell_type": "markdown",
   "id": "bc26ff85",
   "metadata": {},
   "source": [
    "<div class=\"alert alert-block alert-warning\">\n",
    "    <p>Suppression des variables avec 30% ou plus de NaN</p>\n",
    "</div>"
   ]
  },
  {
   "cell_type": "code",
   "execution_count": null,
   "id": "c2286712",
   "metadata": {},
   "outputs": [],
   "source": []
  },
  {
   "cell_type": "code",
   "execution_count": null,
   "id": "b7b5407b",
   "metadata": {},
   "outputs": [],
   "source": []
  },
  {
   "cell_type": "code",
   "execution_count": null,
   "id": "8c3d0a30",
   "metadata": {},
   "outputs": [],
   "source": []
  },
  {
   "cell_type": "code",
   "execution_count": null,
   "id": "b7fcc94d",
   "metadata": {},
   "outputs": [],
   "source": [
    "X_train_kb_X2_15 = pipeline.transform(X_train[categ_feat])\n",
    "X_test_kb_X2_15 = pipeline.transform(X_test[categ_feat])\n",
    "\n",
    "# Liste des 15 variables catégorielles conservées lors du SelectKBest\n",
    "feats_kb_X2_15 = pipeline.get_feature_names_out().tolist()\n",
    "\n",
    "# Score des 15 features\n",
    "score_kb_X2_15 = sorted(fs.scores_, reverse=True)[0:15]\n",
    "\n",
    "# Dataframe\n",
    "dic_Chi2 = {'Features': feats_kb_X2_15,\n",
    "            'Chi2_Score':score_kb_X2_15,}\n",
    "df_Chi2 = pd.DataFrame(data = dic_Chi2)"
   ]
  },
  {
   "cell_type": "code",
   "execution_count": null,
   "id": "a8a009a7",
   "metadata": {},
   "outputs": [],
   "source": [
    "#pipeline.transform(X_train[categ_feat])\n",
    "#pipeline.transform(X_test[categ_feat])"
   ]
  },
  {
   "cell_type": "code",
   "execution_count": null,
   "id": "da178fcc",
   "metadata": {},
   "outputs": [],
   "source": [
    "plt.figure(figsize=(8,5))\n",
    "plt.title('SelectKBest = 15')\n",
    "plt.xticks(rotation=45, ha='right')\n",
    "sns.barplot(data = df_Chi2, x = 'Chi2_Score', y = 'Features', palette='Purples_r');"
   ]
  },
  {
   "cell_type": "code",
   "execution_count": null,
   "id": "3ae94fd9",
   "metadata": {},
   "outputs": [],
   "source": [
    "# Pipeline + entrainement avec sélection des 15 features\n",
    "preprocessor = ColumnTransformer(transformers=[('cat', OneHotEncoder(), categ_feat)])\n",
    "fs = SelectKBest(score_func = chi2, k = 15)\n",
    "\n",
    "pipeline = Pipeline(steps=[('preprocessor', preprocessor),\n",
    "                           ('feat_select',fs)])\n",
    "\n",
    "pipeline.fit(X_train[categ_feat], y_train)\n",
    "\n",
    "#X_train_kb_X2_15 = pipeline.transform(X_train[categ_feat])\n",
    "#X_train_kb_X2_15 = pipeline.transform(X_test[categ_feat])\n",
    "\n",
    "y_pred = pipeline.predict(X_test[categ_feat])\n",
    "score_biz = score_metier(y_test, y_pred)\n",
    "print(f'Score metier: {score_biz}')"
   ]
  },
  {
   "cell_type": "code",
   "execution_count": null,
   "id": "a74b8ac0",
   "metadata": {},
   "outputs": [],
   "source": []
  },
  {
   "cell_type": "code",
   "execution_count": null,
   "id": "1e735ca0",
   "metadata": {},
   "outputs": [],
   "source": [
    "ratio à mettre en catégories: enx: tx endettement >33% etc"
   ]
  },
  {
   "cell_type": "code",
   "execution_count": null,
   "id": "e984ab5d",
   "metadata": {},
   "outputs": [],
   "source": []
  },
  {
   "cell_type": "code",
   "execution_count": null,
   "id": "a8eaf0ea",
   "metadata": {},
   "outputs": [],
   "source": [
    "# Pipeline + entrainement\n",
    "preprocessor = ColumnTransformer(transformers=[('cat', OneHotEncoder(), categ_feat)],\n",
    "                                 remainder='drop')\n",
    "transform = VarianceThreshold(0.05)\n",
    "fs_categ = SelectKBest(score_func = chi2, k = 'all')\n",
    "\n",
    "pipeline = Pipeline(steps=[('ohe', preprocessor),\n",
    "                           ('varthresh',transform),\n",
    "                           ('feat_select',fs_categ)])\n",
    "\n",
    "pipeline.fit(X_train, y_train)"
   ]
  },
  {
   "cell_type": "code",
   "execution_count": null,
   "id": "085d4637",
   "metadata": {},
   "outputs": [],
   "source": []
  },
  {
   "cell_type": "code",
   "execution_count": null,
   "id": "b9c48351",
   "metadata": {},
   "outputs": [],
   "source": [
    "Nous allons ici sélectionner nos features par **RFE** (élimination récursive des caractéristiques) qui est une méthode wrapper.\n",
    "Il existe 2 hyperparamètres:\n",
    "- le choix du **nombre de features** à sélectionner \n",
    "- le choix de l'**algorithme** à utiliser\n",
    "\n",
    "Ces deux hyperparamètres peuvent être explorés, bien que la performance de la méthode ne dépende pas fortement de ces hyperparamètres.\n",
    "\n",
    "Le RFE va rechercher un **sous ensemble optimal de features** en commençant par les prendre toutes puis en les supprimant au fur et à mesure jusqu'à ce qu'il en reste le nombre souhaité. Le RFE va classer les caractéristiques en fonction de leur importance, écarter les moins importantes puis réajuster le modèle.\n",
    "\n",
    "Nous allons utiliser un DecisionTreeClassifier pour choisir les caractéristiques et fixer le nombre de caractéristiques à 15. Nous allons évaluer le modèle à l'aide d'une validation croisée stratifiée k-fold répétée, avec cinq répétitions et 10 plis. Nous\n",
    "Nous indiquerons la moyenne et l'écart-type de la précision du modèle pour l'ensemble des répétitions et des plis.\n",
    "plis. L'exemple complet est présenté ci-dessous"
   ]
  },
  {
   "cell_type": "code",
   "execution_count": null,
   "id": "b3baae5c",
   "metadata": {},
   "outputs": [],
   "source": [
    "# Evaluation du modèle sur les données de test\n",
    "    (score_biz, recall, precision, accuracy, auc, y_pred) = eval_metrics(\n",
    "        best_model = best_model,\n",
    "        xtest = xtest[numeric_features],\n",
    "        ytest = ytest)\n",
    "    \n",
    "\n",
    "    matrice_confusion(ytest, y_pred, model_name)\n",
    "    \n",
    "    # Récap\n",
    "    dic_df_recap = {'Modèle':[model_name],\n",
    "                    'Features':[numeric_features],\n",
    "                    'Best_Params':[best_params],\n",
    "                    'Score_metier':[score_biz],\n",
    "                    'Recall':[recall], \n",
    "                    'Precision':[precision], \n",
    "                    'Accuracy':[accuracy], \n",
    "                    'AUC':[auc], \n",
    "                    \"Train_Time\": [duration],}\n",
    "    df_recap = pd.DataFrame(data = dic_df_recap)\n",
    "    display(df_recap)\n",
    "    \n",
    "    return best_model, df_recap"
   ]
  },
  {
   "cell_type": "code",
   "execution_count": null,
   "id": "2ee14295",
   "metadata": {},
   "outputs": [],
   "source": []
  },
  {
   "cell_type": "code",
   "execution_count": null,
   "id": "2855c348",
   "metadata": {},
   "outputs": [],
   "source": []
  },
  {
   "cell_type": "code",
   "execution_count": null,
   "id": "673e508c",
   "metadata": {},
   "outputs": [],
   "source": [
    "def score_metier(ytest, y_pred):\n",
    "    # Matrice de confusion transformée en array avec affectation aux bonnes catégories\n",
    "    (vn, fp, fn, vp) = confusion_matrix(ytest, y_pred).ravel()\n",
    "    \n",
    "    # Rappel avec action fp => à minimiser\n",
    "    score_metier = 10*fn + 2*fp\n",
    "    \n",
    "    return score_metier"
   ]
  },
  {
   "cell_type": "code",
   "execution_count": null,
   "id": "330fde57",
   "metadata": {},
   "outputs": [],
   "source": [
    "def eval_metrics(best_model, xtest, ytest, beta_value):\n",
    "    \n",
    "    y_pred = best_model.predict(xtest)\n",
    "    \n",
    "    score_biz = score_metier(ytest, y_pred)\n",
    "    betascore = fbeta_score(ytest, y_pred, beta = beta_value)\n",
    "    recall = recall_score(ytest, y_pred)\n",
    "    precision = precision_score(ytest, y_pred)\n",
    "    accuracy = accuracy_score(ytest, y_pred)\n",
    "    auc = roc_auc_score(ytest, y_pred)\n",
    "    \n",
    "    return score_biz, betascore, recall, precision, accuracy, auc, y_pred"
   ]
  },
  {
   "cell_type": "code",
   "execution_count": null,
   "id": "8fc39118",
   "metadata": {},
   "outputs": [],
   "source": [
    "def matrice_confusion(ytest, ypred, model_name):\n",
    "    plt.figure(figsize=(5, 5))\n",
    "    cm = confusion_matrix(ytest, ypred)\n",
    "    sns.heatmap(cm,\n",
    "                xticklabels=['Y=0 (Non défaillant)', 'Y=1 (Défaillant)'],\n",
    "                yticklabels=['Y=0 (Non défaillant)', 'Y=1 (Défaillant)'],\n",
    "                annot=True,\n",
    "                fmt='d', \n",
    "                linewidth=.5, \n",
    "                cmap = sns.cubehelix_palette(as_cmap=True), cbar=False)\n",
    "    plt.title(f'Matrice de confusion: {model_name}')\n",
    "    plt.ylabel('Réalité')\n",
    "    plt.xlabel('Prédiction')\n",
    "    plt.show()"
   ]
  },
  {
   "cell_type": "code",
   "execution_count": null,
   "id": "0e17a1ee",
   "metadata": {},
   "outputs": [],
   "source": [
    "def pipeline_model(model, numeric_features, numeric_transformer):\n",
    "\n",
    "    # Transformations à effectuer sur nos variables\n",
    "    preprocessor = ColumnTransformer(transformers=[\n",
    "        ('num', numeric_transformer, numeric_features),])\n",
    "\n",
    "    # Définition de la pipeline du modèle: étapes de preprocessing + classifier\n",
    "    pipeline_model = Pipeline(steps=[\n",
    "        ('preprocessor', preprocessor),\n",
    "        ('classifier', model)])\n",
    "    \n",
    "    return pipeline_model"
   ]
  },
  {
   "cell_type": "code",
   "execution_count": null,
   "id": "828f282d",
   "metadata": {},
   "outputs": [],
   "source": [
    "def pipeline_model_balanced(model, numeric_features, numeric_transformer,\n",
    "                            oversampling_strategy, undersampling_strategy):\n",
    "\n",
    "    # Sur échantillonnage de la classe minoritaire (10% de la classe majoritaire ~= 23000)\n",
    "    oversampler = SMOTE(sampling_strategy = oversampling_strategy, random_state = 42)\n",
    "\n",
    "    # Sous échantillonnage pour réduire la classe majoritaire (50% de plus que la classe minoritaire ~= 46000\n",
    "    undersampler = RandomUnderSampler(sampling_strategy = undersampling_strategy, random_state = 42)\n",
    "    \n",
    "    # Transformations à effectuer sur nos variables\n",
    "    preprocessor = ColumnTransformer(transformers=[\n",
    "        ('num', numeric_transformer, numeric_features),])\n",
    "    \n",
    "    # Définition de la pipeline du modèle: étapes de preprocessing + classifier\n",
    "    pipeline_model_balanced = pipe(steps=[\n",
    "        ('over', oversampler),\n",
    "        ('under', undersampler),\n",
    "        ('preprocessor', preprocessor),\n",
    "        ('classifier', model)])\n",
    "    \n",
    "    return pipeline_model_balanced"
   ]
  },
  {
   "cell_type": "code",
   "execution_count": null,
   "id": "c3b73f03",
   "metadata": {},
   "outputs": [],
   "source": [
    "def optimize_and_train_model(pipeline_model, xtrain, ytrain, params, scoring, cv):\n",
    "    \n",
    "    _ = pipeline_model.fit(xtrain, ytrain)\n",
    "\n",
    "\n",
    "    # Réglage automatique des meilleurs hyperparamètres avec GridSearchCV\n",
    "    #inner_cv = KFold(n_splits = 5, shuffle = True, random_state = 42)\n",
    "    model_grid_cv = GridSearchCV(pipeline_model, \n",
    "                                 param_grid = params, \n",
    "                                 cv = cv, \n",
    "                                 scoring = scoring,\n",
    "                                 refit=True)\n",
    "\n",
    "    model_grid_cv.fit(xtrain, ytrain)\n",
    "    \n",
    "    best_model = model_grid_cv.best_estimator_\n",
    "    best_params = model_grid_cv.best_params_\n",
    "\n",
    "    return best_model, best_params"
   ]
  },
  {
   "cell_type": "code",
   "execution_count": null,
   "id": "6fd515d8",
   "metadata": {},
   "outputs": [],
   "source": [
    "def optimize_and_train_model_RSCV(pipeline_model, xtrain, ytrain, params, scoring):\n",
    "    \n",
    "    _ = pipeline_model.fit(xtrain, ytrain)\n",
    "\n",
    "\n",
    "    # Réglage automatique des meilleurs hyperparamètres avec GridSearchCV\n",
    "    inner_cv = KFold(n_splits = 5, shuffle = True, random_state = 42)\n",
    "    model_grid_cv = RandomizedSearchCV(pipeline_model, \n",
    "                                       param_distributions = params, \n",
    "                                       cv = inner_cv, \n",
    "                                       scoring = scoring,\n",
    "                                       refit=True)\n",
    "\n",
    "    model_grid_cv.fit(xtrain, ytrain)\n",
    "    \n",
    "    best_model = model_grid_cv.best_estimator_\n",
    "    best_params = model_grid_cv.best_params_\n",
    "\n",
    "    return best_model, best_params"
   ]
  },
  {
   "cell_type": "code",
   "execution_count": null,
   "id": "5dae5609",
   "metadata": {},
   "outputs": [],
   "source": [
    "def eval_model(model_name, best_model, best_params, xtest, ytest, categ_features):\n",
    "    # Evaluation du modèle sur les données de test\n",
    "    (score_biz, recall, precision, accuracy, auc, y_pred) = eval_metrics(best_model = best_model,\n",
    "                                                                         xtest = xtest,\n",
    "                                                                         ytest = ytest)\n",
    "    \n",
    "    matrice_confusion(ytest, y_pred, model_name)\n",
    "    \n",
    "    # Récap\n",
    "    dic_df_recap = {'Modèle':[model_name],\n",
    "                    'Variables':[categ_features],\n",
    "                    'Best_Params':[best_params],\n",
    "                    'Score_metier':[score_biz],\n",
    "                    'Recall':[recall], \n",
    "                    'Precision':[precision], \n",
    "                    'Accuracy':[accuracy], \n",
    "                    'AUC':[auc],}\n",
    "                    #\"Train_Time\": [duration],\n",
    "    df_recap = pd.DataFrame(data = dic_df_recap)\n",
    "    display(df_recap)\n",
    "    \n",
    "    return best_model, df_recap"
   ]
  },
  {
   "cell_type": "code",
   "execution_count": null,
   "id": "095d605f",
   "metadata": {},
   "outputs": [],
   "source": [
    "def best_model(model_name, model,\n",
    "               xtrain, numeric_features, numeric_transformer, \n",
    "               ytrain, params, scoring, xtest, ytest, \n",
    "               oversampling_strategy = 0.1, undersampling_strategy = 0.5, balanced = False, Randomized = False):\n",
    "    \n",
    "    if balanced == False:\n",
    "        start = time.time()\n",
    "        model = pipeline_model(model = model,\n",
    "                               numeric_features = numeric_features,\n",
    "                               numeric_transformer = numeric_transformer)\n",
    "\n",
    "        if RandomizedSearchCV == False:\n",
    "            # Optimisation via cross validation & GridSearch\n",
    "            best_model, best_params = optimize_and_train_model(pipeline_model = model,\n",
    "                                                               xtrain = xtrain[numeric_features],\n",
    "                                                               ytrain = ytrain,\n",
    "                                                               params = params,\n",
    "                                                               scoring = scoring)\n",
    "            \n",
    "        else:\n",
    "            # Optimisation via cross validation & RandomizedSearch\n",
    "            best_model, best_params = optimize_and_train_model_RSCV(pipeline_model = model,\n",
    "                                                                    xtrain = xtrain[numeric_features],\n",
    "                                                                    ytrain = ytrain,\n",
    "                                                                    params = params,\n",
    "                                                                    scoring = scoring)\n",
    "\n",
    "\n",
    "        duration = time.time() - start\n",
    "        \n",
    "    else:\n",
    "        \n",
    "        start = time.time()\n",
    "        model = pipeline_model_balanced(model, numeric_features, numeric_transformer,\n",
    "                                        oversampling_strategy = oversampling_strategy, \n",
    "                                        undersampling_strategy = undersampling_strategy)\n",
    "\n",
    "        if RandomizedSearchCV == False:\n",
    "        # Optimisation via cross validation & GridSearch\n",
    "            best_model, best_params = optimize_and_train_model(pipeline_model = model,\n",
    "                                                               xtrain = xtrain[numeric_features],\n",
    "                                                               ytrain = ytrain,\n",
    "                                                               params = params,\n",
    "                                                               scoring = scoring)\n",
    "        \n",
    "        else:\n",
    "            best_model, best_params = optimize_and_train_model_RSCV(pipeline_model = model,\n",
    "                                                                    xtrain = xtrain[numeric_features],\n",
    "                                                                    ytrain = ytrain,\n",
    "                                                                    params = params,\n",
    "                                                                    scoring = scoring)    \n",
    "\n",
    "\n",
    "        duration = time.time() - start\n",
    "\n",
    "    \n",
    "    # Evaluation du modèle sur les données de test\n",
    "    (score_biz, recall, precision, accuracy, auc, y_pred) = eval_metrics(\n",
    "        best_model = best_model,\n",
    "        xtest = xtest[numeric_features],\n",
    "        ytest = ytest)\n",
    "    \n",
    "\n",
    "    matrice_confusion(ytest, y_pred, model_name)\n",
    "    \n",
    "    # Récap\n",
    "    dic_df_recap = {'Modèle':[model_name],\n",
    "                    'Features':[numeric_features],\n",
    "                    'Best_Params':[best_params],\n",
    "                    'Score_metier':[score_biz],\n",
    "                    'Recall':[recall], \n",
    "                    'Precision':[precision], \n",
    "                    'Accuracy':[accuracy], \n",
    "                    'AUC':[auc], \n",
    "                    \"Train_Time\": [duration],}\n",
    "    df_recap = pd.DataFrame(data = dic_df_recap)\n",
    "    display(df_recap)\n",
    "    \n",
    "    return best_model, df_recap"
   ]
  }
 ],
 "metadata": {
  "kernelspec": {
   "display_name": "projet7",
   "language": "python",
   "name": "projet7"
  },
  "language_info": {
   "codemirror_mode": {
    "name": "ipython",
    "version": 3
   },
   "file_extension": ".py",
   "mimetype": "text/x-python",
   "name": "python",
   "nbconvert_exporter": "python",
   "pygments_lexer": "ipython3",
   "version": "3.9.16"
  },
  "varInspector": {
   "cols": {
    "lenName": 16,
    "lenType": 16,
    "lenVar": 40
   },
   "kernels_config": {
    "python": {
     "delete_cmd_postfix": "",
     "delete_cmd_prefix": "del ",
     "library": "var_list.py",
     "varRefreshCmd": "print(var_dic_list())"
    },
    "r": {
     "delete_cmd_postfix": ") ",
     "delete_cmd_prefix": "rm(",
     "library": "var_list.r",
     "varRefreshCmd": "cat(var_dic_list()) "
    }
   },
   "types_to_exclude": [
    "module",
    "function",
    "builtin_function_or_method",
    "instance",
    "_Feature"
   ],
   "window_display": false
  }
 },
 "nbformat": 4,
 "nbformat_minor": 5
}
