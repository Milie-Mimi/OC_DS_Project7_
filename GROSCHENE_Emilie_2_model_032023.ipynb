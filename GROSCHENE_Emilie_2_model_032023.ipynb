{
 "cells": [
  {
   "cell_type": "markdown",
   "id": "e588dcb0",
   "metadata": {},
   "source": [
    "# Projet 7: Implémentez un modèle de scoring (choix du modèle de scoring)"
   ]
  },
  {
   "cell_type": "markdown",
   "id": "24520e58",
   "metadata": {},
   "source": [
    "## Table des matières: <a class=\"anchor\" id=\"0\"></a>\n",
    "\n",
    "1. [Import des librairies et configurations générales](#library)\n",
    "2. [Chargement des données](#load)\n",
    "3. [Modélisation](#model)"
   ]
  },
  {
   "cell_type": "markdown",
   "id": "3f3b606a",
   "metadata": {},
   "source": [
    "## Import des librairies et configurations générales <a class=\"anchor\" id=\"library\"></a>"
   ]
  },
  {
   "cell_type": "code",
   "execution_count": 1,
   "id": "e0f12ebf",
   "metadata": {},
   "outputs": [],
   "source": [
    "# builtin\n",
    "#import os\n",
    "import time\n",
    "#from os import listdir\n",
    "\n",
    "# data\n",
    "import numpy as np\n",
    "import pandas as pd\n",
    "\n",
    "# Fonctions personnelles\n",
    "import fct_eda\n",
    "import fct_preprocessing\n",
    "import fct_model\n",
    "\n",
    "# Update Fonctions personnelles\n",
    "%load_ext autoreload\n",
    "%autoreload 2\n",
    "%reload_ext autoreload\n",
    "\n",
    "# viz\n",
    "import matplotlib.pyplot as plt\n",
    "#import matplotlib.patches as mpatches\n",
    "import seaborn as sns\n",
    "\n",
    "# stats\n",
    "#from scipy.stats import chi2_contingency #Chi2\n",
    "#import pingouin as pg # Test Chi2 d'independance\n",
    "\n",
    "# models\n",
    "#from sklearn.experimental import enable_iterative_imputer\n",
    "#from sklearn.impute import IterativeImputer\n",
    "#from sklearn.preprocessing import OneHotEncoder, LabelEncoder\n",
    "\n",
    "# Balancing data\n",
    "from collections import Counter\n",
    "from imblearn.over_sampling import SMOTE\n",
    "from imblearn.under_sampling import RandomUnderSampler\n",
    "from imblearn.pipeline import Pipeline as pipe\n",
    "\n",
    "\n",
    "from sklearn.model_selection import train_test_split, cross_validate, KFold\n",
    "from sklearn.model_selection import GridSearchCV, RandomizedSearchCV\n",
    "from sklearn import set_config\n",
    "set_config(display='diagram')\n",
    "from sklearn.pipeline import Pipeline\n",
    "from sklearn.compose import ColumnTransformer\n",
    "from sklearn.preprocessing import StandardScaler\n",
    "\n",
    "from sklearn.metrics import make_scorer\n",
    "from sklearn.metrics import accuracy_score, recall_score, precision_score, roc_auc_score, fbeta_score\n",
    "from sklearn.metrics import ConfusionMatrixDisplay, confusion_matrix\n",
    "\n",
    "from sklearn.dummy import DummyClassifier\n",
    "from sklearn.linear_model import LogisticRegression\n",
    "from lightgbm import LGBMClassifier\n",
    "\n",
    "#import joblib # sauvegarde des modèles\n",
    "#from mlflow.models.signature import infer_signature\n",
    "#from urllib.parse import urlparse\n",
    "import mlflow\n",
    "import mlflow.sklearn\n",
    "\n",
    "\n",
    "#import gc\n",
    "#from contextlib import contextmanager\n",
    "\n",
    "import warnings\n",
    "warnings.simplefilter(action='ignore', category=FutureWarning)\n",
    "# warnings.filterwarnings('ignore')\n",
    "\n",
    "#\n",
    "#from sklearn.metrics import roc_auc_score, roc_curve\n",
    "#from sklearn.model_selection import KFold, StratifiedKFold"
   ]
  },
  {
   "cell_type": "code",
   "execution_count": 2,
   "id": "8795471c",
   "metadata": {},
   "outputs": [],
   "source": [
    "# Configuration Pandas\n",
    "pd_option_dictionary = {\n",
    "    'display.max_rows': 500,\n",
    "    'display.max_column': 200,\n",
    "    'display.width': 300,\n",
    "    'display.precision': 4,\n",
    "    'display.max_colwidth': None,\n",
    "    'display.float_format' : '{:.2f}'.format,\n",
    "}\n",
    "\n",
    "for pat, value in pd_option_dictionary.items():\n",
    "    pd.set_option(pat, value)"
   ]
  },
  {
   "cell_type": "markdown",
   "id": "fd96c24f",
   "metadata": {
    "heading_collapsed": true
   },
   "source": [
    "## Chargement des données <a class=\"anchor\" id=\"load\"></a>"
   ]
  },
  {
   "cell_type": "code",
   "execution_count": 3,
   "id": "a181232b",
   "metadata": {
    "hidden": true
   },
   "outputs": [
    {
     "name": "stdout",
     "output_type": "stream",
     "text": [
      "Application_train shape: (252133, 125)\n",
      "Processing application_train fait en 15.0s \n",
      "Bureau shape: (305807, 66)\n",
      "Processing bureau et bureau_balance fait en 49.0s \n",
      "Previous applications shape: (338384, 176)\n",
      "Processing previous_applications fait en 112.0s \n",
      "Pos-cash balance shape: (337252, 17)\n",
      "Processing POS-CASH balance fait en 33.0s \n",
      "Installments payments shape: (339587, 10)\n",
      "Processing installments payments fait en 39.0s \n",
      "Credit card balance shape: (103558, 69)\n",
      "Processing credit card balance fait en 67.0s \n"
     ]
    }
   ],
   "source": [
    "df = fct_preprocessing.main()"
   ]
  },
  {
   "cell_type": "code",
   "execution_count": 4,
   "id": "ede90822",
   "metadata": {
    "hidden": true
   },
   "outputs": [
    {
     "name": "stdout",
     "output_type": "stream",
     "text": [
      "Nombre de lignes: 252133\n",
      "Nombre de colonnes: 394\n",
      "Nombre total de NaN du dataset: 0\n",
      "% total de NaN du dataset: 0.0%\n"
     ]
    }
   ],
   "source": [
    "# Vérification que le dataset consolidé ne contient pas de NaN\n",
    "fct_eda.shape_total_nan(df)"
   ]
  },
  {
   "cell_type": "markdown",
   "id": "49d5b5d9",
   "metadata": {},
   "source": [
    "## Modélisation <a class=\"anchor\" id=\"model\"></a>"
   ]
  },
  {
   "cell_type": "markdown",
   "id": "37b4471b",
   "metadata": {},
   "source": [
    "Nous cherchons à classer les demandes en **crédit accordé ou refusé**. Il s'agit donc d'un modèle de **classification**."
   ]
  },
  {
   "cell_type": "markdown",
   "id": "3787d573",
   "metadata": {},
   "source": [
    "### Choix des features <a class=\"anchor\" id=\"feats\"></a>"
   ]
  },
  {
   "cell_type": "code",
   "execution_count": null,
   "id": "c4e0acc4",
   "metadata": {},
   "outputs": [],
   "source": []
  },
  {
   "cell_type": "code",
   "execution_count": null,
   "id": "30003847",
   "metadata": {},
   "outputs": [],
   "source": []
  },
  {
   "cell_type": "code",
   "execution_count": null,
   "id": "f537d948",
   "metadata": {},
   "outputs": [],
   "source": []
  },
  {
   "cell_type": "markdown",
   "id": "7302752a",
   "metadata": {},
   "source": [
    "### Traitement des données déséquilibrées <a class=\"anchor\" id=\"inbalanced\"></a>"
   ]
  },
  {
   "cell_type": "markdown",
   "id": "76a653f1",
   "metadata": {},
   "source": [
    "Lors de l'analyse exploratoire, nous avons remarqué que les données étaient très **déséquilibrées** entre les défaillants et non défaillants. Les non défaillants sont largement sur représentés (> 91%).\n",
    "\n",
    "La plupart des modèles de Machine Learning vont **ignorer la classe minoritaire** et donc avoir des **performances médiocres** dans cette classe alors qu'en général c'est la performance de la classe minoritaire qui est la plus importante.\n",
    "\n",
    "Une des approches pour traiter les ensembles de données déséquilibrés consiste à suréchantillonner la classe minoritaire. La méthode la plus simple est de **dupliquer les exemples de la classe minoritaire** même si aucune information n'est ajoutée au modèle.\n",
    "\n",
    "Il est également possible de **pondérer les classes** c'est à dire ajuster la fonction de coût du modèle de manière à ce qu'une mauvaise classification d'une observation de la classe minoritaire soit plus lourdement pénalisée qu'une mauvaise classification d'une observation de la classe majoritaire. Cette approcge contribue à améliorer la précision du modèle en rééquilibrant la distribution des classes. Comme aucun nouveau point de données n'est créé, la méthode doit ête utilisée conjointement avec d'autres méthodes comme le suréchantillonnage par exemple.\n",
    "\n",
    "Au lieu de cela, de nouveaux **exemples peuvent être synthétisés à partir des exemples existants**. Il s'agit d'un type d'augmentation de données pour la classe minoritaire appelé **SMOTE** pour (Synthetic Minority Oversampling Technique ou Technique de suréchantillonnage synthétique des minorités).\n",
    "\n",
    "Un **exemple aléatoire de la classe minoritaire** est choisi et les k plus proches voisins sont trouvés (avec k = 5 en général). **Un voisin est choisi au hasard** et un segment est tracé entre les 2 points.\n",
    " \n",
    "Il est recommandé d'utiliser d'abord un **sous-échantillonnage aléatoire** pour réduire le nombre d'exemples dans la classe minoritaire puis d'utiliser **SMOTE** pour suréchantillonner la classe minoritaire afin d'équilibrer la distribution des classes. C'est une approche efficace car les nouveaux exemples synthétiques de la classe minoritaire sont plausibles (proches dans l'espace des caractéristiques des exemples existants de la classe minoritaire).\n",
    "\n",
    "L'inconvénient général serait que les exemples synthétiques sont créés sans tenir compte de la classe majoritaire.\n",
    "\n",
    "https://machinelearningmastery.com/smote-oversampling-for-imbalanced-classification/"
   ]
  },
  {
   "cell_type": "code",
   "execution_count": 13,
   "id": "617b8354",
   "metadata": {},
   "outputs": [
    {
     "data": {
      "image/png": "[encoded data removed]",
      "text/plain": [
       "<Figure size 500x300 with 1 Axes>"
      ]
     },
     "metadata": {},
     "output_type": "display_data"
    }
   ],
   "source": [
    "# Distribution de la target\n",
    "plt.figure(figsize=(5,3))\n",
    "sns.countplot(x = 'TARGET', data = df, palette=['powderblue', 'tomato'])\n",
    "plt.title('Distribution de la target', fontweight='bold', fontsize = 12)\n",
    "x = [0, 1]\n",
    "plt.xticks(x, ['Non Défaillant', 'Défaillant'])\n",
    "plt.xlabel('');"
   ]
  },
  {
   "cell_type": "code",
   "execution_count": 39,
   "id": "02864fd8",
   "metadata": {},
   "outputs": [
    {
     "data": {
      "text/plain": [
       "Counter({1: 21835, 0: 230298})"
      ]
     },
     "execution_count": 39,
     "metadata": {},
     "output_type": "execute_result"
    }
   ],
   "source": [
    "Counter(df['TARGET'])"
   ]
  },
  {
   "cell_type": "code",
   "execution_count": 20,
   "id": "91e785b9",
   "metadata": {},
   "outputs": [],
   "source": [
    "# Sur échantillonnage de la classe minoritaire (10% de la classe majoritaire ~= 23000)\n",
    "oversampler = SMOTE(sampling_strategy=0.1)"
   ]
  },
  {
   "cell_type": "code",
   "execution_count": 21,
   "id": "1e592202",
   "metadata": {},
   "outputs": [],
   "source": [
    "# Sous échantillonnage pour réduire la classe majoritaire (50% de plus que la classe minoritaire ~= 46000\n",
    "undersampler = RandomUnderSampler(sampling_strategy=0.5)"
   ]
  },
  {
   "cell_type": "code",
   "execution_count": 35,
   "id": "c025f606",
   "metadata": {},
   "outputs": [],
   "source": [
    "# Création pipeline pour appliquer les deux étapes précédentes à tour de rôle\n",
    "pipeline_balancing = pipe(steps=[\n",
    "    ('over', oversampler),\n",
    "    ('under', undersampler)])"
   ]
  },
  {
   "cell_type": "code",
   "execution_count": 36,
   "id": "bd56321a",
   "metadata": {},
   "outputs": [],
   "source": [
    "# Choix des features et de la target\n",
    "feats = [f for f in df.columns if f not in ['TARGET']]\n",
    "target = df['TARGET']"
   ]
  },
  {
   "cell_type": "code",
   "execution_count": 37,
   "id": "e9f1fd9f",
   "metadata": {},
   "outputs": [],
   "source": [
    "# Transformation du dataset\n",
    "df_balanced, target_balanced = pipeline_balancing.fit_resample(df[feats], target)"
   ]
  },
  {
   "cell_type": "code",
   "execution_count": 38,
   "id": "fea16399",
   "metadata": {},
   "outputs": [
    {
     "data": {
      "text/plain": [
       "Counter({0: 46058, 1: 23029})"
      ]
     },
     "execution_count": 38,
     "metadata": {},
     "output_type": "execute_result"
    }
   ],
   "source": [
    "Counter(target_balanced)"
   ]
  },
  {
   "cell_type": "markdown",
   "id": "75cc519a",
   "metadata": {},
   "source": [
    "Ces différentes étapes seront intégrées dans la pipeline du modèle."
   ]
  },
  {
   "cell_type": "code",
   "execution_count": null,
   "id": "94223b41",
   "metadata": {},
   "outputs": [],
   "source": []
  },
  {
   "cell_type": "markdown",
   "id": "ae522800",
   "metadata": {},
   "source": [
    "- https://www.youtube.com/watch?v=Kp31wfHpG2c\n",
    "- https://github.com/scikit-learn-contrib/imbalanced-learn\n",
    "- https://machinelearningmastery.com/smote-oversampling-for-imbalanced-classification/   \n",
    "- https://vitalflux.com/class-imbalance-class-weight-python-sklearn/"
   ]
  },
  {
   "cell_type": "markdown",
   "id": "d57086fa",
   "metadata": {
    "heading_collapsed": true
   },
   "source": [
    "### Sélection des données d'entrainement et de test <a class=\"anchor\" id=\"train_test\"></a>"
   ]
  },
  {
   "cell_type": "markdown",
   "id": "35b92802",
   "metadata": {
    "hidden": true
   },
   "source": [
    "En Machine Learning il ne faut jamais valider un modèle sur les données qui ont servi à son entrainement. Le modèle doit être testé sur des données qu'il n'a jamais vues. On aura ainsi une idée de sa performance future. Le dataset sera mélangé de façon aléatoire avant d'être divisé en deux parties:\n",
    "- un **train set** dont les données sont utilisées pour **entrainer le modèle**\n",
    "- un **test set** réservé uniquement à **l'évaluation du modèle**"
   ]
  },
  {
   "cell_type": "code",
   "execution_count": 5,
   "id": "31110c21",
   "metadata": {
    "hidden": true
   },
   "outputs": [],
   "source": [
    "# Choix des features et de la target\n",
    "feats = [f for f in df.columns if f not in ['TARGET']]\n",
    "target = df['TARGET']"
   ]
  },
  {
   "cell_type": "code",
   "execution_count": 6,
   "id": "d1da9532",
   "metadata": {
    "hidden": true
   },
   "outputs": [
    {
     "name": "stdout",
     "output_type": "stream",
     "text": [
      "Nb de lignes des données d'entrainement: 201706 \n",
      "Nb de lignes des données de validation: 50427\n"
     ]
    }
   ],
   "source": [
    "# Jeu d'entrainement (80%) et de validation (20%)\n",
    "X_train, X_test, y_train, y_test = train_test_split(df[feats], df['TARGET'],\n",
    "                                                    test_size = 0.2,\n",
    "                                                    shuffle = True,\n",
    "                                                    random_state = 42)\n",
    "print(f\"Nb de lignes des données d'entrainement: {len(X_train)} \\nNb de lignes des données de validation: {len(X_test)}\")"
   ]
  },
  {
   "cell_type": "markdown",
   "id": "b6220e68",
   "metadata": {
    "heading_collapsed": true
   },
   "source": [
    "### Pipeline, optimisation et entrainement des modèles <a class=\"anchor\" id=\"pipe\"></a>"
   ]
  },
  {
   "cell_type": "markdown",
   "id": "6e124ef5",
   "metadata": {
    "hidden": true
   },
   "source": [
    "Nous allons dans un premier temps créer une **pipeline** pour chacun de nos modèles. Cette pipeline va nous permettre d'affecter des étapes de preprocessing à nos données, c'est à dire des transformations comme le **traitement des données déséquilibrées**, la **standardisation**, et de choisir le **type de modèle**.\n",
    "\n",
    "Cette pipeline sera ensuite intégrée dans une fonction d'optimisation et d'entrainement qui va utiliser la **validation croisée** pour tester la robustesse du modèle prédictif en répétant la procédure de split. Elle donnera plusieurs erreurs d'apprentissage et de test et donc une **estimation de la variabilité de la performance de généralisation du modèle**. \n",
    "\n",
    "Nous allons comparer l'erreur de validation avec l'erreur d'entrainement. On va créer un **validation set** qui va nous permettre d'optimiser les réglages du modèle qui donne les meilleures performances tout en gardant de côté les données du test set pour évaluer le modèle sur des données qu'il n'aura jamais vues.\n",
    "\n",
    "Le réglage des hyperparamètres s'effectuera soit à l'aide du  **GridSearchCV** qui va tester toutes les combinaisons possibles d'hyperparamètres afin de trouver celles qui vont minimiser le plus l'erreur (méthode exhaustive très **coûteuse en termes de puissance de calcul et de temps**), soit du **RandomizedSearchCV** qui va sélectionner des combinaisaons aléatoires d'hyperparamètres. Cette méthode est **un peu moins précise mais beaucoup plus rapide**. Elle sera utilisée pour les modèles plus complexes.\n",
    "\n",
    "Enfin, pour évaluer la **performance réelle de nos modèles**, nous calculerons les metrics choisis sur les données de test."
   ]
  },
  {
   "cell_type": "markdown",
   "id": "8f4c33fd",
   "metadata": {
    "heading_collapsed": true
   },
   "source": [
    "### Choix des scores <a class=\"anchor\" id=\"scores\"></a>"
   ]
  },
  {
   "cell_type": "markdown",
   "id": "9ef75d22",
   "metadata": {
    "hidden": true
   },
   "source": [
    "Si l'on se réfère au fichier de description des colonnes:\n",
    "- **1** => clients a des difficultés de paiement, il a eu un retard de paiement de plus de X jours sur au moins une des Y premières échéances du prêt dans notre échantillon (**défaillant**)\n",
    "- **0** => tous les autres cas (**non défaillant**)\n",
    "\n",
    "Sur une matrice de confusion, les défaillants représentent la classe positive (Y=1) et les non défaillants la classe négative (Y=0).\n",
    "\n",
    "Comme il serait extrêment coûteux pour la banque d'accorder un crédit à un client défaillant qui ne le rembourserait pas ou en partie, il nous faut **minimiser le nombre de faux négatifs** c'est à dire un client prédit non défaillant alors qu'il est défaillant.\n",
    "\n",
    "Il faut également tâcher de **minimiser les faux positifs** c'est à dire prédire qu'un client est défaillant alors qu'il ne l'est pas (risque de perte de clients, de manque à gagner).\n",
    "\n",
    "Cependant, un faux positif n'a pas le même coût qu'un faux négatif. Ce dernier est beaucoup plus coûteux pour la banque. **Nous accorderons donc plus de poids aux faux négatifs** (fonction coût métier) et supposerons qu'ils sont 10 fois plus coûteux que les faux positifs (eux même 5 fois plus coûteux que les vrais positifs et vrais négatifs). Les modèles seront évalués sur ce score métier.\n",
    "\n",
    "Le **Rappel (Recall)** qui mesure le taux de vrais positifs est à favoriser au détriment de la précision qui est la capacité du classificateur à ne pas étiqueter comme positif un échantillon qui est négatif.\n",
    "\n",
    "Pour faire cela, nous allons nous baser sur le **F-beta score** qui est la moyenne harmonique pondérée de la précision et du rappel. Le paramètre bêta détermine le poids du rappel dans le score. Lorsqu'il est suppérieur à un, il favorise le rappel.\n",
    "\n",
    "Nous mettrons également l'**accuracy** et l'**AUC** comme éléments de comparaison. Le **temps d'entrainement** sera également tracké."
   ]
  },
  {
   "attachments": {
    "Matrice.PNG": {
     "image/png": "[encoded data removed]"
    }
   },
   "cell_type": "markdown",
   "id": "c8606dde",
   "metadata": {
    "hidden": true
   },
   "source": [
    "![Matrice.PNG](attachment:Matrice.PNG)"
   ]
  },
  {
   "cell_type": "markdown",
   "id": "dca89de8",
   "metadata": {
    "heading_collapsed": true
   },
   "source": [
    "### Modèle Baseline: Dummy classifier <a class=\"anchor\" id=\"dummy\"></a>"
   ]
  },
  {
   "cell_type": "markdown",
   "id": "7d074302",
   "metadata": {
    "hidden": true
   },
   "source": [
    "Ce classificateur fait des prédictions en utilisant des règles simples. Il est utile comme **base de référence simple** à comparer avec d'autres classificateurs et ne sera pas optimisé. Il ignore les variables en entrée et par conséquent, n'utilise aucune information provenant des features. Il n'y a donc **pas besoin de transformer au préalable nos features**."
   ]
  },
  {
   "cell_type": "code",
   "execution_count": 7,
   "id": "1babf113",
   "metadata": {
    "hidden": true
   },
   "outputs": [],
   "source": [
    "def pipeline_model(model, numeric_features, numeric_transformer):\n",
    "\n",
    "    # Transformations à effectuer sur nos variables\n",
    "    preprocessor = ColumnTransformer(transformers=[\n",
    "        ('num', numeric_transformer, numeric_features),])\n",
    "\n",
    "    # Définition de la pipeline du modèle: étapes de preprocessing + classifier\n",
    "    pipeline_model = Pipeline(steps=[\n",
    "        ('preprocessor', preprocessor),\n",
    "        ('classifier', model)])\n",
    "    \n",
    "    return pipeline_model"
   ]
  },
  {
   "cell_type": "code",
   "execution_count": 47,
   "id": "866d4c3c",
   "metadata": {
    "hidden": true
   },
   "outputs": [],
   "source": [
    "def pipeline_model_balanced(model, numeric_features, numeric_transformer,\n",
    "                            oversampling_strategy = 0.1, undersampling_strategy = 0.5):\n",
    "\n",
    "    # Sur échantillonnage de la classe minoritaire (10% de la classe majoritaire ~= 23000)\n",
    "    oversampler = SMOTE(sampling_strategy = oversampling_strategy)\n",
    "\n",
    "    # Sous échantillonnage pour réduire la classe majoritaire (50% de plus que la classe minoritaire ~= 46000\n",
    "    undersampler = RandomUnderSampler(sampling_strategy = undersampling_strategy)\n",
    "    \n",
    "    # Transformations à effectuer sur nos variables\n",
    "    preprocessor = ColumnTransformer(transformers=[\n",
    "        ('num', numeric_transformer, numeric_features),])\n",
    "    \n",
    "    # Définition de la pipeline du modèle: étapes de preprocessing + classifier\n",
    "    pipeline_model_balanced = pipe(steps=[\n",
    "        ('over', oversampler),\n",
    "        ('under', undersampler),\n",
    "        ('preprocessor', preprocessor),\n",
    "        ('classifier', model)])\n",
    "    \n",
    "    return pipeline_model_balanced"
   ]
  },
  {
   "cell_type": "code",
   "execution_count": 8,
   "id": "f30a2bcd",
   "metadata": {
    "hidden": true
   },
   "outputs": [],
   "source": [
    "def optimize_and_train_model(pipeline_model, xtrain, ytrain, params, scoring):\n",
    "    \n",
    "    _ = pipeline_model.fit(xtrain, ytrain)\n",
    "\n",
    "\n",
    "    # Réglage automatique des meilleurs hyperparamètres avec GridSearchCV\n",
    "    inner_cv = KFold(n_splits = 5, shuffle = True, random_state = 42)\n",
    "    model_grid_cv = GridSearchCV(pipeline_model, \n",
    "                                 param_grid = params, \n",
    "                                 cv = inner_cv, \n",
    "                                 scoring = scoring)\n",
    "\n",
    "    model_grid_cv.fit(xtrain, ytrain)\n",
    "    \n",
    "    best_model = model_grid_cv.best_estimator_\n",
    "    best_params = model_grid_cv.best_params_\n",
    "\n",
    "    return best_model, best_params"
   ]
  },
  {
   "cell_type": "code",
   "execution_count": 9,
   "id": "69e7b9fe",
   "metadata": {
    "hidden": true
   },
   "outputs": [],
   "source": [
    "def score_metier(ytest, y_pred, poids_vp=1, poids_fn=-10, poids_fp=-5, poids_vn=1):\n",
    "    \n",
    "    # Matrice de confusion transformée en array avec affectation aux bonnes catégories\n",
    "    (vn, fp, fn, vp) = confusion_matrix(ytest, y_pred).ravel()\n",
    "    \n",
    "    # Cas rééls\n",
    "    actual_cases = (vp * poids_vp) + (fn * poids_fn) + (fp * poids_fp) + (vn * poids_vn)\n",
    "    \n",
    "    # Cas les plus coûteux: Accorder un crédit à un client défaillant (FN) + \n",
    "    # ne pas accorder un crédit à un client non défaillant (FP)\n",
    "    worst_cases = (vp + fn) * poids_fn + (fp + vn) * poids_fp\n",
    "    \n",
    "    # Cas les plus rentables: Ne pas accorder un crédit à un client défaillant (VP) + \n",
    "    # accorder un crédit à un client non défaillant (VN)\n",
    "    best_cases = (vp + fn) * poids_vp + (fp + vn) * poids_vn\n",
    "    \n",
    "    # Normalisation du score (échelle de 0 à 1) => (valeurs - minimum) / (maximum - minimum)\n",
    "    norm_score = (actual_cases - worst_cases) / (best_cases - worst_cases)\n",
    "    \n",
    "    return norm_score"
   ]
  },
  {
   "cell_type": "code",
   "execution_count": 10,
   "id": "aee4481a",
   "metadata": {
    "hidden": true
   },
   "outputs": [],
   "source": [
    "def eval_metrics(best_model, xtest, ytest):\n",
    "    \n",
    "    y_pred = best_model.predict(xtest)\n",
    "    \n",
    "    score_biz = score_metier(ytest, y_pred, poids_vp=1, poids_fn=-10, poids_fp=-5, poids_vn=1)\n",
    "    recall = recall_score(ytest, y_pred)\n",
    "    precision = precision_score(ytest, y_pred)\n",
    "    accuracy = accuracy_score(ytest, y_pred)\n",
    "    auc = roc_auc_score(ytest, y_pred)\n",
    "    \n",
    "    return score_biz, recall, precision, accuracy, auc, y_pred"
   ]
  },
  {
   "cell_type": "code",
   "execution_count": 69,
   "id": "a12656c0",
   "metadata": {
    "hidden": true
   },
   "outputs": [],
   "source": [
    "def matrice_confusion(ytest, ypred, model_name):\n",
    "    plt.figure(figsize=(5, 5))\n",
    "    cm = confusion_matrix(ytest, ypred)\n",
    "    sns.heatmap(cm,\n",
    "                xticklabels=['Y=0 (Non défaillant)', 'Y=1 (Défaillant)'],\n",
    "                yticklabels=['Y=0 (Non défaillant)', 'Y=1 (Défaillant)'],\n",
    "                annot=True,\n",
    "                fmt='d', \n",
    "                linewidth=.5, \n",
    "                cmap = sns.cubehelix_palette(as_cmap=True), cbar=False)\n",
    "    plt.title(f'Matrice de confusion: {model_name}')\n",
    "    plt.ylabel('Réalité')\n",
    "    plt.xlabel('Prédiction')\n",
    "    plt.show()"
   ]
  },
  {
   "cell_type": "code",
   "execution_count": 12,
   "id": "789c55cd",
   "metadata": {
    "hidden": true
   },
   "outputs": [
    {
     "name": "stderr",
     "output_type": "stream",
     "text": [
      "C:\\Users\\milie\\anaconda3\\envs\\projet7\\lib\\site-packages\\sklearn\\metrics\\_classification.py:1344: UndefinedMetricWarning: Precision is ill-defined and being set to 0.0 due to no predicted samples. Use `zero_division` parameter to control this behavior.\n",
      "  _warn_prf(average, modifier, msg_start, len(result))\n"
     ]
    },
    {
     "name": "stdout",
     "output_type": "stream",
     "text": [
      "DummyClassifier Model with param strategy = most_frequent\n",
      "\n",
      "Score_metier: 0.85\n",
      "Recall: 0.00\n",
      "Precision: 0.00\n",
      "Accuracy: 0.91\n",
      "AUC: 0.50\n",
      "Train time: 11.62\n"
     ]
    },
    {
     "data": {
      "image/png": "[encoded data removed]",
      "text/plain": [
       "<Figure size 500x500 with 1 Axes>"
      ]
     },
     "metadata": {},
     "output_type": "display_data"
    }
   ],
   "source": [
    "# Modèle\n",
    "start_Dummy = time.time()\n",
    "model = DummyClassifier()\n",
    "\n",
    "# Sélection des hyperparamètres\n",
    "params = {'strategy' : ['most_frequent', 'prior', 'stratified', 'uniform'],}\n",
    "scoring = make_scorer(score_metier)\n",
    "\n",
    "best_model_Dummy, best_params_Dummy = optimize_and_train_model(pipeline_model = model,\n",
    "                                                               xtrain = X_train,\n",
    "                                                               ytrain = y_train,\n",
    "                                                               params = params,\n",
    "                                                               scoring = scoring)\n",
    "\n",
    "\n",
    "duration_Dummy = time.time() - start_Dummy\n",
    "    \n",
    "# Evaluation du modèle\n",
    "(score_biz, recall, precision, accuracy, auc, y_pred) = eval_metrics(best_model = best_model_Dummy,\n",
    "                                                                     xtest = X_test,\n",
    "                                                                     ytest = y_test)\n",
    "    \n",
    "print(f\"DummyClassifier Model with param strategy = {best_params_Dummy['strategy']}\")\n",
    "print()\n",
    "print(f\"Score_metier: {score_biz:.2f}\")\n",
    "print(f\"Recall: {recall:.2f}\")\n",
    "print(f\"Precision: {precision:.2f}\")\n",
    "print(f\"Accuracy: {accuracy:.2f}\")\n",
    "print(f\"AUC: {auc:.2f}\")\n",
    "print(f\"Train time: {duration_Dummy:.2f}\")\n",
    "\n",
    "matrice_confusion(y_test, y_pred, 'DummyClassifier')"
   ]
  },
  {
   "cell_type": "markdown",
   "id": "d675611c",
   "metadata": {
    "hidden": true
   },
   "source": [
    "#### Données équilibrées"
   ]
  },
  {
   "cell_type": "code",
   "execution_count": 49,
   "id": "f457553e",
   "metadata": {
    "hidden": true
   },
   "outputs": [
    {
     "name": "stdout",
     "output_type": "stream",
     "text": [
      "DummyClassifier Model with param strategy = most_frequent\n",
      "\n",
      "Score_metier: 0.85\n",
      "Recall: 0.00\n",
      "Precision: 0.00\n",
      "Accuracy: 0.91\n",
      "AUC: 0.50\n",
      "Train time: 180.42\n"
     ]
    },
    {
     "name": "stderr",
     "output_type": "stream",
     "text": [
      "C:\\Users\\milie\\anaconda3\\envs\\projet7\\lib\\site-packages\\sklearn\\metrics\\_classification.py:1344: UndefinedMetricWarning: Precision is ill-defined and being set to 0.0 due to no predicted samples. Use `zero_division` parameter to control this behavior.\n",
      "  _warn_prf(average, modifier, msg_start, len(result))\n"
     ]
    },
    {
     "data": {
      "image/png": "[encoded data removed]",
      "text/plain": [
       "<Figure size 500x500 with 1 Axes>"
      ]
     },
     "metadata": {},
     "output_type": "display_data"
    }
   ],
   "source": [
    "# Modèle\n",
    "start_Dummy = time.time()\n",
    "\n",
    "\n",
    "\n",
    "model = pipeline_model_balanced(model = DummyClassifier(),\n",
    "                                numeric_features = feats,\n",
    "                                numeric_transformer = StandardScaler(),\n",
    "                                oversampling_strategy = 0.1,\n",
    "                                undersampling_strategy = 0.5)\n",
    "\n",
    "# Sélection des hyperparamètres\n",
    "params = {'classifier__strategy' : ['most_frequent', 'prior', 'stratified', 'uniform'],}\n",
    "scoring = make_scorer(score_metier)\n",
    "\n",
    "best_model_Dummy, best_params_Dummy = optimize_and_train_model(pipeline_model = model,\n",
    "                                                               xtrain = X_train,\n",
    "                                                               ytrain = y_train,\n",
    "                                                               params = params,\n",
    "                                                               scoring = scoring)\n",
    "\n",
    "\n",
    "duration_Dummy = time.time() - start_Dummy\n",
    "    \n",
    "# Evaluation du modèle\n",
    "(score_biz, recall, precision, accuracy, auc, y_pred) = eval_metrics(best_model = best_model_Dummy,\n",
    "                                                                     xtest = X_test,\n",
    "                                                                     ytest = y_test)\n",
    "    \n",
    "print(f\"DummyClassifier Model with param strategy = {best_params_Dummy['classifier__strategy']}\")\n",
    "print()\n",
    "print(f\"Score_metier: {score_biz:.2f}\")\n",
    "print(f\"Recall: {recall:.2f}\")\n",
    "print(f\"Precision: {precision:.2f}\")\n",
    "print(f\"Accuracy: {accuracy:.2f}\")\n",
    "print(f\"AUC: {auc:.2f}\")\n",
    "print(f\"Train time: {duration_Dummy:.2f}\")\n",
    "\n",
    "matrice_confusion(y_test, y_pred)"
   ]
  },
  {
   "cell_type": "code",
   "execution_count": null,
   "id": "5a048669",
   "metadata": {
    "hidden": true
   },
   "outputs": [],
   "source": [
    "\n"
   ]
  },
  {
   "cell_type": "code",
   "execution_count": null,
   "id": "7248f3d6",
   "metadata": {
    "hidden": true
   },
   "outputs": [],
   "source": []
  },
  {
   "cell_type": "code",
   "execution_count": null,
   "id": "50b30688",
   "metadata": {
    "hidden": true
   },
   "outputs": [],
   "source": []
  },
  {
   "cell_type": "code",
   "execution_count": null,
   "id": "094b6298",
   "metadata": {
    "hidden": true
   },
   "outputs": [],
   "source": []
  },
  {
   "cell_type": "markdown",
   "id": "accb6025",
   "metadata": {
    "hidden": true
   },
   "source": [
    "**Démarche MLOps**"
   ]
  },
  {
   "cell_type": "code",
   "execution_count": null,
   "id": "aece5ae7",
   "metadata": {
    "hidden": true
   },
   "outputs": [],
   "source": [
    "!mlflow --version"
   ]
  },
  {
   "cell_type": "code",
   "execution_count": null,
   "id": "8af3687e",
   "metadata": {
    "hidden": true
   },
   "outputs": [],
   "source": [
    "# Création du tracking cad où MLFlow sauvegarde les runs\n",
    "mlflow.set_tracking_uri(\"file:///Users/milie/01_PYTHON/4. OPEN_CLASSROOMS/07_PROJET_7/mlruns\")\n",
    "\n",
    "# Création d'un experiment\n",
    "experiment_id = mlflow.create_experiment(\"Training binary classifier\")\n",
    "\n",
    "\n",
    "with mlflow.start_run(experiment_id = experiment_id):\n",
    "    start_Dummy = time.time()\n",
    "    model = DummyClassifier()\n",
    "\n",
    "    # Sélection des hyperparamètres\n",
    "    params = {'strategy' : ['most_frequent', 'prior', 'stratified', 'uniform'],}\n",
    "    scoring = make_scorer(recall_score)\n",
    "\n",
    "    best_model_Dummy, best_params_Dummy = optimize_and_train_model(pipeline_model = model,\n",
    "                                                                    xtrain = X_train,\n",
    "                                                                    ytrain = y_train,\n",
    "                                                                    params = params,\n",
    "                                                                    scoring = scoring)\n",
    "\n",
    "\n",
    "    duration_Dummy = time.time() - start_Dummy\n",
    "    \n",
    "    # Evaluation du modèle\n",
    "    (recall, precision, accuracy, auc) = eval_metrics(best_model = best_model_Dummy,\n",
    "                                                      xtest = X_test,\n",
    "                                                      ytest = y_test)\n",
    "    \n",
    "    print(f\"DummyClassifier Model with param strategy = {best_params_Dummy['strategy']}\")\n",
    "    print()\n",
    "    print(f\"Recall: {recall:.2f}\")\n",
    "    print(f\"Precision: {precision:.2f}\")\n",
    "    print(f\"Accuracy: {accuracy:.2f}\")\n",
    "    print(f\"AUC: {auc:.2f}\")\n",
    "    print(f\"Train time: {duration_Dummy:.2f}\")\n",
    "    \n",
    "    # log des paramètres et scores à chaque fois que le modèle est lancé\n",
    "    mlflow.log_param(\"strategy\", best_params_Dummy['strategy'])\n",
    "    mlflow.log_metric(\"recall\", recall)\n",
    "    mlflow.log_metric(\"precision\", precision)\n",
    "    mlflow.log_metric(\"accuracy\", accuracy)\n",
    "    mlflow.log_metric(\"auc\", auc)\n",
    "    mlflow.log_metric(\"Tps_entrainement\", duration_Dummy)\n",
    "    \n",
    "    mlflow.sklearn.log_model(best_model_Dummy, \"dummyclassifier\")"
   ]
  },
  {
   "cell_type": "markdown",
   "id": "a70e1590",
   "metadata": {},
   "source": [
    "### Régression logistique <a class=\"anchor\" id=\"reglog\"></a>"
   ]
  },
  {
   "cell_type": "markdown",
   "id": "733c22c2",
   "metadata": {},
   "source": [
    "La régression logistique est un modèle statistique qui permet d'étudier la **relation entre une variable binaire** dite variable dépendante / cible et **une ou plusieurs variables indépendantes**.\n",
    "\n",
    "Il s'agit d'un **modèle linéaire** généralisé utilisant une fonction logistique comme fonction de lien. Il permet également de prédire la **probabilité qu'un événement arrive ou non** à partir de l'optimisation des coefficients de régression. Lorsque la valeur est > à un seuil, l'événement est susceptible de se produire alors que lorsque cette valeur est < au même seuil, il ne l'est pas.\n",
    "\n",
    "Nous allons tenter d'optimiser ce modèle en jouant sur les **features**, le traitement du **déséquilibre des classes** et les **hyperparamètres** via **cross validation** et **GridSearch**:\n",
    "- penalty: pénalité\n",
    "- solver: algorithme à utiliser pour l'optimisation\n",
    "- C : force de la pénalité (valeurs plus petites => régularisation plus forte)"
   ]
  },
  {
   "cell_type": "code",
   "execution_count": 91,
   "id": "4bfa2434",
   "metadata": {},
   "outputs": [],
   "source": [
    "# Choix des features\n",
    "feats_reglog = ['DAYS_EMPLOYED_PERC', 'CREDIT_GOODS_PERC', 'INCOME_CREDIT_PERC', 'INCOME_PER_PERSON',\n",
    "                'DEBT_RATIO', 'PAYMENT_RATE']"
   ]
  },
  {
   "cell_type": "markdown",
   "id": "16474b3b",
   "metadata": {},
   "source": [
    "#### Modélisation sur données non équilibrées"
   ]
  },
  {
   "cell_type": "code",
   "execution_count": 97,
   "id": "014939bd",
   "metadata": {},
   "outputs": [],
   "source": [
    "def best_model(model, xtrain, numeric_features, numeric_transformer, ytrain, params, scoring):\n",
    "    start = time.time()\n",
    "    model = pipeline_model(model = model,\n",
    "                           numeric_features = numeric_features,\n",
    "                           numeric_transformer = numeric_transformer)\n",
    "\n",
    "    # Optimisation via cross validation & GridSearch\n",
    "    best_model, best_params = optimize_and_train_model(pipeline_model = model,\n",
    "                                                       xtrain = xtrain[numeric_features],\n",
    "                                                       ytrain = ytrain,\n",
    "                                                       params = params,\n",
    "                                                       scoring = scoring)\n",
    "\n",
    "\n",
    "    duration = time.time() - start\n",
    "    \n",
    "    display(best_model)\n",
    "    print(f\"Meilleurs hyperparamètres: {best_params}\")\n",
    "    print(f\"Durée d'entrainement: {duration:.2f} s\")\n",
    "    \n",
    "    return best_model, best_params, duration"
   ]
  },
  {
   "cell_type": "code",
   "execution_count": 98,
   "id": "72c554e8",
   "metadata": {},
   "outputs": [
    {
     "name": "stderr",
     "output_type": "stream",
     "text": [
      "C:\\Users\\milie\\anaconda3\\envs\\projet7\\lib\\site-packages\\sklearn\\model_selection\\_validation.py:378: FitFailedWarning: \n",
      "25 fits failed out of a total of 100.\n",
      "The score on these train-test partitions for these parameters will be set to nan.\n",
      "If these failures are not expected, you can try to debug them by setting error_score='raise'.\n",
      "\n",
      "Below are more details about the failures:\n",
      "--------------------------------------------------------------------------------\n",
      "25 fits failed with the following error:\n",
      "Traceback (most recent call last):\n",
      "  File \"C:\\Users\\milie\\anaconda3\\envs\\projet7\\lib\\site-packages\\sklearn\\model_selection\\_validation.py\", line 686, in _fit_and_score\n",
      "    estimator.fit(X_train, y_train, **fit_params)\n",
      "  File \"C:\\Users\\milie\\anaconda3\\envs\\projet7\\lib\\site-packages\\imblearn\\pipeline.py\", line 297, in fit\n",
      "    self._final_estimator.fit(Xt, yt, **fit_params_last_step)\n",
      "  File \"C:\\Users\\milie\\anaconda3\\envs\\projet7\\lib\\site-packages\\sklearn\\linear_model\\_logistic.py\", line 1162, in fit\n",
      "    solver = _check_solver(self.solver, self.penalty, self.dual)\n",
      "  File \"C:\\Users\\milie\\anaconda3\\envs\\projet7\\lib\\site-packages\\sklearn\\linear_model\\_logistic.py\", line 54, in _check_solver\n",
      "    raise ValueError(\n",
      "ValueError: Solver lbfgs supports only 'l2' or 'none' penalties, got l1 penalty.\n",
      "\n",
      "  warnings.warn(some_fits_failed_message, FitFailedWarning)\n",
      "C:\\Users\\milie\\anaconda3\\envs\\projet7\\lib\\site-packages\\sklearn\\model_selection\\_search.py:952: UserWarning: One or more of the test scores are non-finite: [0.85176625 0.85176625        nan 0.85176625 0.85176625 0.85176625\n",
      "        nan 0.85176625 0.85176625 0.85176625        nan 0.85176625\n",
      " 0.85176625 0.85176625        nan 0.85176625 0.85176625 0.85176625\n",
      "        nan 0.85175777]\n",
      "  warnings.warn(\n"
     ]
    },
    {
     "data": {
      "text/html": [
       "<style>#sk-container-id-10 {color: black;background-color: white;}#sk-container-id-10 pre{padding: 0;}#sk-container-id-10 div.sk-toggleable {background-color: white;}#sk-container-id-10 label.sk-toggleable__label {cursor: pointer;display: block;width: 100%;margin-bottom: 0;padding: 0.3em;box-sizing: border-box;text-align: center;}#sk-container-id-10 label.sk-toggleable__label-arrow:before {content: \"▸\";float: left;margin-right: 0.25em;color: #696969;}#sk-container-id-10 label.sk-toggleable__label-arrow:hover:before {color: black;}#sk-container-id-10 div.sk-estimator:hover label.sk-toggleable__label-arrow:before {color: black;}#sk-container-id-10 div.sk-toggleable__content {max-height: 0;max-width: 0;overflow: hidden;text-align: left;background-color: #f0f8ff;}#sk-container-id-10 div.sk-toggleable__content pre {margin: 0.2em;color: black;border-radius: 0.25em;background-color: #f0f8ff;}#sk-container-id-10 input.sk-toggleable__control:checked~div.sk-toggleable__content {max-height: 200px;max-width: 100%;overflow: auto;}#sk-container-id-10 input.sk-toggleable__control:checked~label.sk-toggleable__label-arrow:before {content: \"▾\";}#sk-container-id-10 div.sk-estimator input.sk-toggleable__control:checked~label.sk-toggleable__label {background-color: #d4ebff;}#sk-container-id-10 div.sk-label input.sk-toggleable__control:checked~label.sk-toggleable__label {background-color: #d4ebff;}#sk-container-id-10 input.sk-hidden--visually {border: 0;clip: rect(1px 1px 1px 1px);clip: rect(1px, 1px, 1px, 1px);height: 1px;margin: -1px;overflow: hidden;padding: 0;position: absolute;width: 1px;}#sk-container-id-10 div.sk-estimator {font-family: monospace;background-color: #f0f8ff;border: 1px dotted black;border-radius: 0.25em;box-sizing: border-box;margin-bottom: 0.5em;}#sk-container-id-10 div.sk-estimator:hover {background-color: #d4ebff;}#sk-container-id-10 div.sk-parallel-item::after {content: \"\";width: 100%;border-bottom: 1px solid gray;flex-grow: 1;}#sk-container-id-10 div.sk-label:hover label.sk-toggleable__label {background-color: #d4ebff;}#sk-container-id-10 div.sk-serial::before {content: \"\";position: absolute;border-left: 1px solid gray;box-sizing: border-box;top: 0;bottom: 0;left: 50%;z-index: 0;}#sk-container-id-10 div.sk-serial {display: flex;flex-direction: column;align-items: center;background-color: white;padding-right: 0.2em;padding-left: 0.2em;position: relative;}#sk-container-id-10 div.sk-item {position: relative;z-index: 1;}#sk-container-id-10 div.sk-parallel {display: flex;align-items: stretch;justify-content: center;background-color: white;position: relative;}#sk-container-id-10 div.sk-item::before, #sk-container-id-10 div.sk-parallel-item::before {content: \"\";position: absolute;border-left: 1px solid gray;box-sizing: border-box;top: 0;bottom: 0;left: 50%;z-index: -1;}#sk-container-id-10 div.sk-parallel-item {display: flex;flex-direction: column;z-index: 1;position: relative;background-color: white;}#sk-container-id-10 div.sk-parallel-item:first-child::after {align-self: flex-end;width: 50%;}#sk-container-id-10 div.sk-parallel-item:last-child::after {align-self: flex-start;width: 50%;}#sk-container-id-10 div.sk-parallel-item:only-child::after {width: 0;}#sk-container-id-10 div.sk-dashed-wrapped {border: 1px dashed gray;margin: 0 0.4em 0.5em 0.4em;box-sizing: border-box;padding-bottom: 0.4em;background-color: white;}#sk-container-id-10 div.sk-label label {font-family: monospace;font-weight: bold;display: inline-block;line-height: 1.2em;}#sk-container-id-10 div.sk-label-container {text-align: center;}#sk-container-id-10 div.sk-container {/* jupyter's `normalize.less` sets `[hidden] { display: none; }` but bootstrap.min.css set `[hidden] { display: none !important; }` so we also need the `!important` here to be able to override the default hidden behavior on the sphinx rendered scikit-learn.org. See: https://github.com/scikit-learn/scikit-learn/issues/21755 */display: inline-block !important;position: relative;}#sk-container-id-10 div.sk-text-repr-fallback {display: none;}</style><div id=\"sk-container-id-10\" class=\"sk-top-container\"><div class=\"sk-text-repr-fallback\"><pre>Pipeline(steps=[(&#x27;preprocessor&#x27;,\n",
       "                 ColumnTransformer(transformers=[(&#x27;num&#x27;, StandardScaler(),\n",
       "                                                  [&#x27;DAYS_EMPLOYED_PERC&#x27;,\n",
       "                                                   &#x27;CREDIT_GOODS_PERC&#x27;,\n",
       "                                                   &#x27;INCOME_CREDIT_PERC&#x27;,\n",
       "                                                   &#x27;INCOME_PER_PERSON&#x27;,\n",
       "                                                   &#x27;DEBT_RATIO&#x27;,\n",
       "                                                   &#x27;PAYMENT_RATE&#x27;])])),\n",
       "                (&#x27;classifier&#x27;,\n",
       "                 LogisticRegression(C=100, max_iter=200, random_state=42))])</pre><b>In a Jupyter environment, please rerun this cell to show the HTML representation or trust the notebook. <br />On GitHub, the HTML representation is unable to render, please try loading this page with nbviewer.org.</b></div><div class=\"sk-container\" hidden><div class=\"sk-item sk-dashed-wrapped\"><div class=\"sk-label-container\"><div class=\"sk-label sk-toggleable\"><input class=\"sk-toggleable__control sk-hidden--visually\" id=\"sk-estimator-id-44\" type=\"checkbox\" ><label for=\"sk-estimator-id-44\" class=\"sk-toggleable__label sk-toggleable__label-arrow\">Pipeline</label><div class=\"sk-toggleable__content\"><pre>Pipeline(steps=[(&#x27;preprocessor&#x27;,\n",
       "                 ColumnTransformer(transformers=[(&#x27;num&#x27;, StandardScaler(),\n",
       "                                                  [&#x27;DAYS_EMPLOYED_PERC&#x27;,\n",
       "                                                   &#x27;CREDIT_GOODS_PERC&#x27;,\n",
       "                                                   &#x27;INCOME_CREDIT_PERC&#x27;,\n",
       "                                                   &#x27;INCOME_PER_PERSON&#x27;,\n",
       "                                                   &#x27;DEBT_RATIO&#x27;,\n",
       "                                                   &#x27;PAYMENT_RATE&#x27;])])),\n",
       "                (&#x27;classifier&#x27;,\n",
       "                 LogisticRegression(C=100, max_iter=200, random_state=42))])</pre></div></div></div><div class=\"sk-serial\"><div class=\"sk-item sk-dashed-wrapped\"><div class=\"sk-label-container\"><div class=\"sk-label sk-toggleable\"><input class=\"sk-toggleable__control sk-hidden--visually\" id=\"sk-estimator-id-45\" type=\"checkbox\" ><label for=\"sk-estimator-id-45\" class=\"sk-toggleable__label sk-toggleable__label-arrow\">preprocessor: ColumnTransformer</label><div class=\"sk-toggleable__content\"><pre>ColumnTransformer(transformers=[(&#x27;num&#x27;, StandardScaler(),\n",
       "                                 [&#x27;DAYS_EMPLOYED_PERC&#x27;, &#x27;CREDIT_GOODS_PERC&#x27;,\n",
       "                                  &#x27;INCOME_CREDIT_PERC&#x27;, &#x27;INCOME_PER_PERSON&#x27;,\n",
       "                                  &#x27;DEBT_RATIO&#x27;, &#x27;PAYMENT_RATE&#x27;])])</pre></div></div></div><div class=\"sk-parallel\"><div class=\"sk-parallel-item\"><div class=\"sk-item\"><div class=\"sk-label-container\"><div class=\"sk-label sk-toggleable\"><input class=\"sk-toggleable__control sk-hidden--visually\" id=\"sk-estimator-id-46\" type=\"checkbox\" ><label for=\"sk-estimator-id-46\" class=\"sk-toggleable__label sk-toggleable__label-arrow\">num</label><div class=\"sk-toggleable__content\"><pre>[&#x27;DAYS_EMPLOYED_PERC&#x27;, &#x27;CREDIT_GOODS_PERC&#x27;, &#x27;INCOME_CREDIT_PERC&#x27;, &#x27;INCOME_PER_PERSON&#x27;, &#x27;DEBT_RATIO&#x27;, &#x27;PAYMENT_RATE&#x27;]</pre></div></div></div><div class=\"sk-serial\"><div class=\"sk-item\"><div class=\"sk-estimator sk-toggleable\"><input class=\"sk-toggleable__control sk-hidden--visually\" id=\"sk-estimator-id-47\" type=\"checkbox\" ><label for=\"sk-estimator-id-47\" class=\"sk-toggleable__label sk-toggleable__label-arrow\">StandardScaler</label><div class=\"sk-toggleable__content\"><pre>StandardScaler()</pre></div></div></div></div></div></div></div></div><div class=\"sk-item\"><div class=\"sk-estimator sk-toggleable\"><input class=\"sk-toggleable__control sk-hidden--visually\" id=\"sk-estimator-id-48\" type=\"checkbox\" ><label for=\"sk-estimator-id-48\" class=\"sk-toggleable__label sk-toggleable__label-arrow\">LogisticRegression</label><div class=\"sk-toggleable__content\"><pre>LogisticRegression(C=100, max_iter=200, random_state=42)</pre></div></div></div></div></div></div></div>"
      ],
      "text/plain": [
       "Pipeline(steps=[('preprocessor',\n",
       "                 ColumnTransformer(transformers=[('num', StandardScaler(),\n",
       "                                                  ['DAYS_EMPLOYED_PERC',\n",
       "                                                   'CREDIT_GOODS_PERC',\n",
       "                                                   'INCOME_CREDIT_PERC',\n",
       "                                                   'INCOME_PER_PERSON',\n",
       "                                                   'DEBT_RATIO',\n",
       "                                                   'PAYMENT_RATE'])])),\n",
       "                ('classifier',\n",
       "                 LogisticRegression(C=100, max_iter=200, random_state=42))])"
      ]
     },
     "metadata": {},
     "output_type": "display_data"
    },
    {
     "name": "stdout",
     "output_type": "stream",
     "text": [
      "Meilleurs hyperparamètres: {'classifier__C': 100, 'classifier__penalty': 'l2', 'classifier__solver': 'lbfgs'}\n",
      "Durée d'entrainement: 332.88 s\n"
     ]
    }
   ],
   "source": [
    "(best_model_reglog, best_params_reglog, duration_reglog) = best_model(LogisticRegression(max_iter = 200, random_state=42),\n",
    "                                                                      xtrain = X_train,\n",
    "                                                                      numeric_features = feats_reglog,\n",
    "                                                                      numeric_transformer = StandardScaler(),\n",
    "                                                                      ytrain = y_train,\n",
    "                                                                      params = {\"classifier__penalty\": ['l2', 'l1'],\n",
    "                                                                                \"classifier__solver\": ['lbfgs', 'saga'],\n",
    "                                                                                \"classifier__C\": [100, 10, 1.0, 0.1, 0.01],},\n",
    "                                                                      scoring = make_scorer(score_metier))"
   ]
  },
  {
   "cell_type": "code",
   "execution_count": 99,
   "id": "91b86034",
   "metadata": {},
   "outputs": [
    {
     "name": "stdout",
     "output_type": "stream",
     "text": [
      "Evaluation sur les données de test:\n",
      "\n",
      "Score_metier: 0.85\n",
      "Recall: 0.00\n",
      "Precision: 1.00\n",
      "Accuracy: 0.91\n",
      "AUC: 0.50\n",
      "Train time: 332.88\n"
     ]
    },
    {
     "data": {
      "image/png": "[encoded data removed]",
      "text/plain": [
       "<Figure size 500x500 with 1 Axes>"
      ]
     },
     "metadata": {},
     "output_type": "display_data"
    }
   ],
   "source": [
    "# Evaluation du modèle sur les données de test\n",
    "(score_biz_reglog, recall_reglog, precision_reglog, accuracy_reglog, auc_reglog, y_pred_reglog) = eval_metrics(\n",
    "    best_model = best_model_reglog,\n",
    "    xtest = X_test[feats_reglog],\n",
    "    ytest = y_test)\n",
    "    \n",
    "print('Evaluation sur les données de test:')\n",
    "print()\n",
    "print(f\"Score_metier: {score_biz_reglog:.2f}\")\n",
    "print(f\"Recall: {recall_reglog:.2f}\")\n",
    "print(f\"Precision: {precision_reglog:.2f}\")\n",
    "print(f\"Accuracy: {accuracy_reglog:.2f}\")\n",
    "print(f\"AUC: {auc_reglog:.2f}\")\n",
    "print(f\"Train time: {duration_reglog:.2f}\")\n",
    "\n",
    "matrice_confusion(y_test, y_pred_reglog, 'Régression Logistique')"
   ]
  },
  {
   "cell_type": "code",
   "execution_count": 100,
   "id": "2265424c",
   "metadata": {},
   "outputs": [],
   "source": [
    "dic_df_recap = {'Modèle':[best_model_reglog['classifier']],\n",
    "                'Features':[feats_reglog],\n",
    "                'Best_Params':[best_params_reglog],\n",
    "                'Score_metier':[score_biz_reglog],\n",
    "                'Recall':[recall_reglog], \n",
    "                'Precision':[precision_reglog], \n",
    "                'Accuracy':[accuracy_reglog], \n",
    "                'AUC':[auc_reglog], \n",
    "                \"Train_Time\": [duration_reglog],}\n",
    "df_recap = pd.DataFrame(data = dic_df_recap)"
   ]
  },
  {
   "cell_type": "code",
   "execution_count": 101,
   "id": "0edd326d",
   "metadata": {},
   "outputs": [
    {
     "data": {
      "text/html": [
       "<div>\n",
       "<style scoped>\n",
       "    .dataframe tbody tr th:only-of-type {\n",
       "        vertical-align: middle;\n",
       "    }\n",
       "\n",
       "    .dataframe tbody tr th {\n",
       "        vertical-align: top;\n",
       "    }\n",
       "\n",
       "    .dataframe thead th {\n",
       "        text-align: right;\n",
       "    }\n",
       "</style>\n",
       "<table border=\"1\" class=\"dataframe\">\n",
       "  <thead>\n",
       "    <tr style=\"text-align: right;\">\n",
       "      <th></th>\n",
       "      <th>Modèle</th>\n",
       "      <th>Features</th>\n",
       "      <th>Best_Params</th>\n",
       "      <th>Score_metier</th>\n",
       "      <th>Recall</th>\n",
       "      <th>Precision</th>\n",
       "      <th>Accuracy</th>\n",
       "      <th>AUC</th>\n",
       "      <th>Train_Time</th>\n",
       "    </tr>\n",
       "  </thead>\n",
       "  <tbody>\n",
       "    <tr>\n",
       "      <th>0</th>\n",
       "      <td>LogisticRegression(C=100, max_iter=200, random_state=42)</td>\n",
       "      <td>[DAYS_EMPLOYED_PERC, CREDIT_GOODS_PERC, INCOME_CREDIT_PERC, INCOME_PER_PERSON, DEBT_RATIO, PAYMENT_RATE]</td>\n",
       "      <td>{'classifier__C': 100, 'classifier__penalty': 'l2', 'classifier__solver': 'lbfgs'}</td>\n",
       "      <td>0.85</td>\n",
       "      <td>0.00</td>\n",
       "      <td>1.00</td>\n",
       "      <td>0.91</td>\n",
       "      <td>0.50</td>\n",
       "      <td>332.88</td>\n",
       "    </tr>\n",
       "  </tbody>\n",
       "</table>\n",
       "</div>"
      ],
      "text/plain": [
       "                                                     Modèle                                                                                                  Features                                                                         Best_Params  Score_metier  Recall  Precision  Accuracy  AUC  \\\n",
       "0  LogisticRegression(C=100, max_iter=200, random_state=42)  [DAYS_EMPLOYED_PERC, CREDIT_GOODS_PERC, INCOME_CREDIT_PERC, INCOME_PER_PERSON, DEBT_RATIO, PAYMENT_RATE]  {'classifier__C': 100, 'classifier__penalty': 'l2', 'classifier__solver': 'lbfgs'}          0.85    0.00       1.00      0.91 0.50   \n",
       "\n",
       "   Train_Time  \n",
       "0      332.88  "
      ]
     },
     "execution_count": 101,
     "metadata": {},
     "output_type": "execute_result"
    }
   ],
   "source": [
    "df_recap"
   ]
  },
  {
   "cell_type": "code",
   "execution_count": null,
   "id": "5722048b",
   "metadata": {},
   "outputs": [],
   "source": []
  },
  {
   "cell_type": "code",
   "execution_count": 103,
   "id": "3b487572",
   "metadata": {},
   "outputs": [],
   "source": [
    "def best_model(model_name, model, xtrain, numeric_features, numeric_transformer, ytrain, params, scoring, xtest, ytest):\n",
    "    start = time.time()\n",
    "    model = pipeline_model(model = model,\n",
    "                           numeric_features = numeric_features,\n",
    "                           numeric_transformer = numeric_transformer)\n",
    "\n",
    "    # Optimisation via cross validation & GridSearch\n",
    "    best_model, best_params = optimize_and_train_model(pipeline_model = model,\n",
    "                                                       xtrain = xtrain[numeric_features],\n",
    "                                                       ytrain = ytrain,\n",
    "                                                       params = params,\n",
    "                                                       scoring = scoring)\n",
    "\n",
    "\n",
    "    duration = time.time() - start\n",
    "    \n",
    "    display(best_model)\n",
    "    print(f\"Meilleurs hyperparamètres: {best_params}\")\n",
    "    print(f\"Durée d'entrainement: {duration:.2f} s\")\n",
    "    \n",
    "    # Evaluation du modèle sur les données de test\n",
    "    (score_biz, recall, precision, accuracy, auc, y_pred) = eval_metrics(\n",
    "        best_model = best_model,\n",
    "        xtest = xtest,\n",
    "        ytest = ytest)\n",
    "    \n",
    "    print('Evaluation sur les données de test:')\n",
    "    print()\n",
    "    print(f\"Score_metier: {score_biz:.2f}\")\n",
    "    print(f\"Recall: {recall:.2f}\")\n",
    "    print(f\"Precision: {precision:.2f}\")\n",
    "    print(f\"Accuracy: {accuracy:.2f}\")\n",
    "    print(f\"AUC: {auc:.2f}\")\n",
    "    print(f\"Train time: {duration:.2f}\")\n",
    "\n",
    "    matrice_confusion(ytest, y_pred, 'model_name')\n",
    "    \n",
    "    dic_df_recap = {'Modèle':[model_name],\n",
    "                    'Features':[numeric_features],\n",
    "                    'Best_Params':[best_params],\n",
    "                    'Score_metier':[score_biz],\n",
    "                    'Recall':[Recall], \n",
    "                    'Precision':[precision], \n",
    "                    'Accuracy':[accuracy], \n",
    "                    'AUC':[auc], \n",
    "                    \"Train_Time\": [duration],}\n",
    "    df_recap = pd.DataFrame(data = dic_df_recap)\n",
    "    \n",
    "    return best_model, df_recap"
   ]
  },
  {
   "cell_type": "code",
   "execution_count": null,
   "id": "4f4503a4",
   "metadata": {},
   "outputs": [],
   "source": [
    "best_model_reglog, df_recap_reglog = best_model(model_name='Régression Logistique',\n",
    "                                                model=LogisticRegression(max_iter = 200, random_state=42),\n",
    "                                                xtrain=X_train,\n",
    "                                                numeric_features=feats_reglog,\n",
    "                                                numeric_transformer=StandardScaler(),\n",
    "                                                ytrain=y_train,\n",
    "                                                params={\"classifier__penalty\": ['l2', 'l1'],\n",
    "                                                        \"classifier__solver\": ['lbfgs', 'saga'],\n",
    "                                                        \"classifier__C\": [100, 10, 1.0, 0.1, 0.01],},\n",
    "                                                scoring=make_scorer(score_metier),\n",
    "                                                xtest=X_test,\n",
    "                                                ytest=y_test)"
   ]
  },
  {
   "cell_type": "code",
   "execution_count": null,
   "id": "edc2883b",
   "metadata": {},
   "outputs": [],
   "source": []
  },
  {
   "cell_type": "code",
   "execution_count": null,
   "id": "26b0856f",
   "metadata": {},
   "outputs": [],
   "source": []
  },
  {
   "cell_type": "code",
   "execution_count": null,
   "id": "5b64e391",
   "metadata": {},
   "outputs": [],
   "source": []
  },
  {
   "cell_type": "code",
   "execution_count": null,
   "id": "b9c3cfe0",
   "metadata": {},
   "outputs": [],
   "source": []
  },
  {
   "cell_type": "code",
   "execution_count": null,
   "id": "42781791",
   "metadata": {},
   "outputs": [],
   "source": []
  },
  {
   "cell_type": "code",
   "execution_count": null,
   "id": "29a70f1b",
   "metadata": {},
   "outputs": [],
   "source": []
  },
  {
   "cell_type": "code",
   "execution_count": null,
   "id": "763a69bf",
   "metadata": {},
   "outputs": [],
   "source": []
  },
  {
   "cell_type": "code",
   "execution_count": null,
   "id": "df8f66ef",
   "metadata": {},
   "outputs": [],
   "source": []
  },
  {
   "cell_type": "markdown",
   "id": "901348df",
   "metadata": {},
   "source": [
    "#### Modélisation sur données rééquilibrées: pondération des classes "
   ]
  },
  {
   "cell_type": "markdown",
   "id": "bf2da730",
   "metadata": {},
   "source": [
    "Chaque algorithme de classification SKlearn possède un paramètre appelé **class_weight** qui permet de gérer le déséquilibre des classes: "
   ]
  },
  {
   "cell_type": "code",
   "execution_count": 102,
   "id": "358d9ce8",
   "metadata": {},
   "outputs": [
    {
     "name": "stderr",
     "output_type": "stream",
     "text": [
      "C:\\Users\\milie\\anaconda3\\envs\\projet7\\lib\\site-packages\\sklearn\\linear_model\\_sag.py:350: ConvergenceWarning: The max_iter was reached which means the coef_ did not converge\n",
      "  warnings.warn(\n",
      "C:\\Users\\milie\\anaconda3\\envs\\projet7\\lib\\site-packages\\sklearn\\linear_model\\_sag.py:350: ConvergenceWarning: The max_iter was reached which means the coef_ did not converge\n",
      "  warnings.warn(\n",
      "C:\\Users\\milie\\anaconda3\\envs\\projet7\\lib\\site-packages\\sklearn\\linear_model\\_sag.py:350: ConvergenceWarning: The max_iter was reached which means the coef_ did not converge\n",
      "  warnings.warn(\n",
      "C:\\Users\\milie\\anaconda3\\envs\\projet7\\lib\\site-packages\\sklearn\\linear_model\\_sag.py:350: ConvergenceWarning: The max_iter was reached which means the coef_ did not converge\n",
      "  warnings.warn(\n",
      "C:\\Users\\milie\\anaconda3\\envs\\projet7\\lib\\site-packages\\sklearn\\linear_model\\_sag.py:350: ConvergenceWarning: The max_iter was reached which means the coef_ did not converge\n",
      "  warnings.warn(\n",
      "C:\\Users\\milie\\anaconda3\\envs\\projet7\\lib\\site-packages\\sklearn\\linear_model\\_sag.py:350: ConvergenceWarning: The max_iter was reached which means the coef_ did not converge\n",
      "  warnings.warn(\n",
      "C:\\Users\\milie\\anaconda3\\envs\\projet7\\lib\\site-packages\\sklearn\\linear_model\\_sag.py:350: ConvergenceWarning: The max_iter was reached which means the coef_ did not converge\n",
      "  warnings.warn(\n",
      "C:\\Users\\milie\\anaconda3\\envs\\projet7\\lib\\site-packages\\sklearn\\linear_model\\_sag.py:350: ConvergenceWarning: The max_iter was reached which means the coef_ did not converge\n",
      "  warnings.warn(\n",
      "C:\\Users\\milie\\anaconda3\\envs\\projet7\\lib\\site-packages\\sklearn\\linear_model\\_sag.py:350: ConvergenceWarning: The max_iter was reached which means the coef_ did not converge\n",
      "  warnings.warn(\n",
      "C:\\Users\\milie\\anaconda3\\envs\\projet7\\lib\\site-packages\\sklearn\\linear_model\\_sag.py:350: ConvergenceWarning: The max_iter was reached which means the coef_ did not converge\n",
      "  warnings.warn(\n",
      "C:\\Users\\milie\\anaconda3\\envs\\projet7\\lib\\site-packages\\sklearn\\linear_model\\_sag.py:350: ConvergenceWarning: The max_iter was reached which means the coef_ did not converge\n",
      "  warnings.warn(\n",
      "C:\\Users\\milie\\anaconda3\\envs\\projet7\\lib\\site-packages\\sklearn\\linear_model\\_sag.py:350: ConvergenceWarning: The max_iter was reached which means the coef_ did not converge\n",
      "  warnings.warn(\n",
      "C:\\Users\\milie\\anaconda3\\envs\\projet7\\lib\\site-packages\\sklearn\\linear_model\\_sag.py:350: ConvergenceWarning: The max_iter was reached which means the coef_ did not converge\n",
      "  warnings.warn(\n",
      "C:\\Users\\milie\\anaconda3\\envs\\projet7\\lib\\site-packages\\sklearn\\linear_model\\_sag.py:350: ConvergenceWarning: The max_iter was reached which means the coef_ did not converge\n",
      "  warnings.warn(\n",
      "C:\\Users\\milie\\anaconda3\\envs\\projet7\\lib\\site-packages\\sklearn\\linear_model\\_sag.py:350: ConvergenceWarning: The max_iter was reached which means the coef_ did not converge\n",
      "  warnings.warn(\n",
      "C:\\Users\\milie\\anaconda3\\envs\\projet7\\lib\\site-packages\\sklearn\\linear_model\\_sag.py:350: ConvergenceWarning: The max_iter was reached which means the coef_ did not converge\n",
      "  warnings.warn(\n",
      "C:\\Users\\milie\\anaconda3\\envs\\projet7\\lib\\site-packages\\sklearn\\linear_model\\_sag.py:350: ConvergenceWarning: The max_iter was reached which means the coef_ did not converge\n",
      "  warnings.warn(\n",
      "C:\\Users\\milie\\anaconda3\\envs\\projet7\\lib\\site-packages\\sklearn\\linear_model\\_sag.py:350: ConvergenceWarning: The max_iter was reached which means the coef_ did not converge\n",
      "  warnings.warn(\n",
      "C:\\Users\\milie\\anaconda3\\envs\\projet7\\lib\\site-packages\\sklearn\\linear_model\\_sag.py:350: ConvergenceWarning: The max_iter was reached which means the coef_ did not converge\n",
      "  warnings.warn(\n",
      "C:\\Users\\milie\\anaconda3\\envs\\projet7\\lib\\site-packages\\sklearn\\linear_model\\_sag.py:350: ConvergenceWarning: The max_iter was reached which means the coef_ did not converge\n",
      "  warnings.warn(\n",
      "C:\\Users\\milie\\anaconda3\\envs\\projet7\\lib\\site-packages\\sklearn\\linear_model\\_sag.py:350: ConvergenceWarning: The max_iter was reached which means the coef_ did not converge\n",
      "  warnings.warn(\n",
      "C:\\Users\\milie\\anaconda3\\envs\\projet7\\lib\\site-packages\\sklearn\\linear_model\\_sag.py:350: ConvergenceWarning: The max_iter was reached which means the coef_ did not converge\n",
      "  warnings.warn(\n",
      "C:\\Users\\milie\\anaconda3\\envs\\projet7\\lib\\site-packages\\sklearn\\linear_model\\_sag.py:350: ConvergenceWarning: The max_iter was reached which means the coef_ did not converge\n",
      "  warnings.warn(\n",
      "C:\\Users\\milie\\anaconda3\\envs\\projet7\\lib\\site-packages\\sklearn\\linear_model\\_sag.py:350: ConvergenceWarning: The max_iter was reached which means the coef_ did not converge\n",
      "  warnings.warn(\n",
      "C:\\Users\\milie\\anaconda3\\envs\\projet7\\lib\\site-packages\\sklearn\\linear_model\\_sag.py:350: ConvergenceWarning: The max_iter was reached which means the coef_ did not converge\n",
      "  warnings.warn(\n",
      "C:\\Users\\milie\\anaconda3\\envs\\projet7\\lib\\site-packages\\sklearn\\linear_model\\_sag.py:350: ConvergenceWarning: The max_iter was reached which means the coef_ did not converge\n",
      "  warnings.warn(\n",
      "C:\\Users\\milie\\anaconda3\\envs\\projet7\\lib\\site-packages\\sklearn\\linear_model\\_sag.py:350: ConvergenceWarning: The max_iter was reached which means the coef_ did not converge\n",
      "  warnings.warn(\n",
      "C:\\Users\\milie\\anaconda3\\envs\\projet7\\lib\\site-packages\\sklearn\\linear_model\\_sag.py:350: ConvergenceWarning: The max_iter was reached which means the coef_ did not converge\n",
      "  warnings.warn(\n",
      "C:\\Users\\milie\\anaconda3\\envs\\projet7\\lib\\site-packages\\sklearn\\linear_model\\_sag.py:350: ConvergenceWarning: The max_iter was reached which means the coef_ did not converge\n",
      "  warnings.warn(\n",
      "C:\\Users\\milie\\anaconda3\\envs\\projet7\\lib\\site-packages\\sklearn\\linear_model\\_sag.py:350: ConvergenceWarning: The max_iter was reached which means the coef_ did not converge\n",
      "  warnings.warn(\n",
      "C:\\Users\\milie\\anaconda3\\envs\\projet7\\lib\\site-packages\\sklearn\\linear_model\\_sag.py:350: ConvergenceWarning: The max_iter was reached which means the coef_ did not converge\n",
      "  warnings.warn(\n",
      "C:\\Users\\milie\\anaconda3\\envs\\projet7\\lib\\site-packages\\sklearn\\linear_model\\_sag.py:350: ConvergenceWarning: The max_iter was reached which means the coef_ did not converge\n",
      "  warnings.warn(\n",
      "C:\\Users\\milie\\anaconda3\\envs\\projet7\\lib\\site-packages\\sklearn\\linear_model\\_sag.py:350: ConvergenceWarning: The max_iter was reached which means the coef_ did not converge\n",
      "  warnings.warn(\n",
      "C:\\Users\\milie\\anaconda3\\envs\\projet7\\lib\\site-packages\\sklearn\\linear_model\\_sag.py:350: ConvergenceWarning: The max_iter was reached which means the coef_ did not converge\n",
      "  warnings.warn(\n",
      "C:\\Users\\milie\\anaconda3\\envs\\projet7\\lib\\site-packages\\sklearn\\linear_model\\_sag.py:350: ConvergenceWarning: The max_iter was reached which means the coef_ did not converge\n",
      "  warnings.warn(\n",
      "C:\\Users\\milie\\anaconda3\\envs\\projet7\\lib\\site-packages\\sklearn\\linear_model\\_sag.py:350: ConvergenceWarning: The max_iter was reached which means the coef_ did not converge\n",
      "  warnings.warn(\n",
      "C:\\Users\\milie\\anaconda3\\envs\\projet7\\lib\\site-packages\\sklearn\\linear_model\\_sag.py:350: ConvergenceWarning: The max_iter was reached which means the coef_ did not converge\n",
      "  warnings.warn(\n",
      "C:\\Users\\milie\\anaconda3\\envs\\projet7\\lib\\site-packages\\sklearn\\linear_model\\_sag.py:350: ConvergenceWarning: The max_iter was reached which means the coef_ did not converge\n",
      "  warnings.warn(\n",
      "C:\\Users\\milie\\anaconda3\\envs\\projet7\\lib\\site-packages\\sklearn\\linear_model\\_sag.py:350: ConvergenceWarning: The max_iter was reached which means the coef_ did not converge\n",
      "  warnings.warn(\n",
      "C:\\Users\\milie\\anaconda3\\envs\\projet7\\lib\\site-packages\\sklearn\\linear_model\\_sag.py:350: ConvergenceWarning: The max_iter was reached which means the coef_ did not converge\n",
      "  warnings.warn(\n",
      "C:\\Users\\milie\\anaconda3\\envs\\projet7\\lib\\site-packages\\sklearn\\model_selection\\_validation.py:378: FitFailedWarning: \n",
      "25 fits failed out of a total of 100.\n",
      "The score on these train-test partitions for these parameters will be set to nan.\n",
      "If these failures are not expected, you can try to debug them by setting error_score='raise'.\n",
      "\n",
      "Below are more details about the failures:\n",
      "--------------------------------------------------------------------------------\n",
      "25 fits failed with the following error:\n",
      "Traceback (most recent call last):\n",
      "  File \"C:\\Users\\milie\\anaconda3\\envs\\projet7\\lib\\site-packages\\sklearn\\model_selection\\_validation.py\", line 686, in _fit_and_score\n",
      "    estimator.fit(X_train, y_train, **fit_params)\n",
      "  File \"C:\\Users\\milie\\anaconda3\\envs\\projet7\\lib\\site-packages\\imblearn\\pipeline.py\", line 297, in fit\n",
      "    self._final_estimator.fit(Xt, yt, **fit_params_last_step)\n",
      "  File \"C:\\Users\\milie\\anaconda3\\envs\\projet7\\lib\\site-packages\\sklearn\\linear_model\\_logistic.py\", line 1162, in fit\n",
      "    solver = _check_solver(self.solver, self.penalty, self.dual)\n",
      "  File \"C:\\Users\\milie\\anaconda3\\envs\\projet7\\lib\\site-packages\\sklearn\\linear_model\\_logistic.py\", line 54, in _check_solver\n",
      "    raise ValueError(\n",
      "ValueError: Solver lbfgs supports only 'l2' or 'none' penalties, got l1 penalty.\n",
      "\n",
      "  warnings.warn(some_fits_failed_message, FitFailedWarning)\n",
      "C:\\Users\\milie\\anaconda3\\envs\\projet7\\lib\\site-packages\\sklearn\\model_selection\\_search.py:952: UserWarning: One or more of the test scores are non-finite: [0.56560857 0.56577994        nan 0.56577531 0.56560857 0.56577994\n",
      "        nan 0.56577531 0.56560857 0.56577993        nan 0.56579768\n",
      " 0.56560394 0.56577993        nan 0.56585008 0.56564631 0.56583462\n",
      "        nan 0.56572894]\n",
      "  warnings.warn(\n"
     ]
    },
    {
     "name": "stderr",
     "output_type": "stream",
     "text": [
      "C:\\Users\\milie\\anaconda3\\envs\\projet7\\lib\\site-packages\\sklearn\\linear_model\\_sag.py:350: ConvergenceWarning: The max_iter was reached which means the coef_ did not converge\n",
      "  warnings.warn(\n"
     ]
    },
    {
     "data": {
      "text/html": [
       "<style>#sk-container-id-11 {color: black;background-color: white;}#sk-container-id-11 pre{padding: 0;}#sk-container-id-11 div.sk-toggleable {background-color: white;}#sk-container-id-11 label.sk-toggleable__label {cursor: pointer;display: block;width: 100%;margin-bottom: 0;padding: 0.3em;box-sizing: border-box;text-align: center;}#sk-container-id-11 label.sk-toggleable__label-arrow:before {content: \"▸\";float: left;margin-right: 0.25em;color: #696969;}#sk-container-id-11 label.sk-toggleable__label-arrow:hover:before {color: black;}#sk-container-id-11 div.sk-estimator:hover label.sk-toggleable__label-arrow:before {color: black;}#sk-container-id-11 div.sk-toggleable__content {max-height: 0;max-width: 0;overflow: hidden;text-align: left;background-color: #f0f8ff;}#sk-container-id-11 div.sk-toggleable__content pre {margin: 0.2em;color: black;border-radius: 0.25em;background-color: #f0f8ff;}#sk-container-id-11 input.sk-toggleable__control:checked~div.sk-toggleable__content {max-height: 200px;max-width: 100%;overflow: auto;}#sk-container-id-11 input.sk-toggleable__control:checked~label.sk-toggleable__label-arrow:before {content: \"▾\";}#sk-container-id-11 div.sk-estimator input.sk-toggleable__control:checked~label.sk-toggleable__label {background-color: #d4ebff;}#sk-container-id-11 div.sk-label input.sk-toggleable__control:checked~label.sk-toggleable__label {background-color: #d4ebff;}#sk-container-id-11 input.sk-hidden--visually {border: 0;clip: rect(1px 1px 1px 1px);clip: rect(1px, 1px, 1px, 1px);height: 1px;margin: -1px;overflow: hidden;padding: 0;position: absolute;width: 1px;}#sk-container-id-11 div.sk-estimator {font-family: monospace;background-color: #f0f8ff;border: 1px dotted black;border-radius: 0.25em;box-sizing: border-box;margin-bottom: 0.5em;}#sk-container-id-11 div.sk-estimator:hover {background-color: #d4ebff;}#sk-container-id-11 div.sk-parallel-item::after {content: \"\";width: 100%;border-bottom: 1px solid gray;flex-grow: 1;}#sk-container-id-11 div.sk-label:hover label.sk-toggleable__label {background-color: #d4ebff;}#sk-container-id-11 div.sk-serial::before {content: \"\";position: absolute;border-left: 1px solid gray;box-sizing: border-box;top: 0;bottom: 0;left: 50%;z-index: 0;}#sk-container-id-11 div.sk-serial {display: flex;flex-direction: column;align-items: center;background-color: white;padding-right: 0.2em;padding-left: 0.2em;position: relative;}#sk-container-id-11 div.sk-item {position: relative;z-index: 1;}#sk-container-id-11 div.sk-parallel {display: flex;align-items: stretch;justify-content: center;background-color: white;position: relative;}#sk-container-id-11 div.sk-item::before, #sk-container-id-11 div.sk-parallel-item::before {content: \"\";position: absolute;border-left: 1px solid gray;box-sizing: border-box;top: 0;bottom: 0;left: 50%;z-index: -1;}#sk-container-id-11 div.sk-parallel-item {display: flex;flex-direction: column;z-index: 1;position: relative;background-color: white;}#sk-container-id-11 div.sk-parallel-item:first-child::after {align-self: flex-end;width: 50%;}#sk-container-id-11 div.sk-parallel-item:last-child::after {align-self: flex-start;width: 50%;}#sk-container-id-11 div.sk-parallel-item:only-child::after {width: 0;}#sk-container-id-11 div.sk-dashed-wrapped {border: 1px dashed gray;margin: 0 0.4em 0.5em 0.4em;box-sizing: border-box;padding-bottom: 0.4em;background-color: white;}#sk-container-id-11 div.sk-label label {font-family: monospace;font-weight: bold;display: inline-block;line-height: 1.2em;}#sk-container-id-11 div.sk-label-container {text-align: center;}#sk-container-id-11 div.sk-container {/* jupyter's `normalize.less` sets `[hidden] { display: none; }` but bootstrap.min.css set `[hidden] { display: none !important; }` so we also need the `!important` here to be able to override the default hidden behavior on the sphinx rendered scikit-learn.org. See: https://github.com/scikit-learn/scikit-learn/issues/21755 */display: inline-block !important;position: relative;}#sk-container-id-11 div.sk-text-repr-fallback {display: none;}</style><div id=\"sk-container-id-11\" class=\"sk-top-container\"><div class=\"sk-text-repr-fallback\"><pre>Pipeline(steps=[(&#x27;preprocessor&#x27;,\n",
       "                 ColumnTransformer(transformers=[(&#x27;num&#x27;, StandardScaler(),\n",
       "                                                  [&#x27;DAYS_EMPLOYED_PERC&#x27;,\n",
       "                                                   &#x27;CREDIT_GOODS_PERC&#x27;,\n",
       "                                                   &#x27;INCOME_CREDIT_PERC&#x27;,\n",
       "                                                   &#x27;INCOME_PER_PERSON&#x27;,\n",
       "                                                   &#x27;DEBT_RATIO&#x27;,\n",
       "                                                   &#x27;PAYMENT_RATE&#x27;])])),\n",
       "                (&#x27;classifier&#x27;,\n",
       "                 LogisticRegression(C=0.1, class_weight=&#x27;balanced&#x27;,\n",
       "                                    max_iter=200, penalty=&#x27;l1&#x27;, random_state=42,\n",
       "                                    solver=&#x27;saga&#x27;))])</pre><b>In a Jupyter environment, please rerun this cell to show the HTML representation or trust the notebook. <br />On GitHub, the HTML representation is unable to render, please try loading this page with nbviewer.org.</b></div><div class=\"sk-container\" hidden><div class=\"sk-item sk-dashed-wrapped\"><div class=\"sk-label-container\"><div class=\"sk-label sk-toggleable\"><input class=\"sk-toggleable__control sk-hidden--visually\" id=\"sk-estimator-id-49\" type=\"checkbox\" ><label for=\"sk-estimator-id-49\" class=\"sk-toggleable__label sk-toggleable__label-arrow\">Pipeline</label><div class=\"sk-toggleable__content\"><pre>Pipeline(steps=[(&#x27;preprocessor&#x27;,\n",
       "                 ColumnTransformer(transformers=[(&#x27;num&#x27;, StandardScaler(),\n",
       "                                                  [&#x27;DAYS_EMPLOYED_PERC&#x27;,\n",
       "                                                   &#x27;CREDIT_GOODS_PERC&#x27;,\n",
       "                                                   &#x27;INCOME_CREDIT_PERC&#x27;,\n",
       "                                                   &#x27;INCOME_PER_PERSON&#x27;,\n",
       "                                                   &#x27;DEBT_RATIO&#x27;,\n",
       "                                                   &#x27;PAYMENT_RATE&#x27;])])),\n",
       "                (&#x27;classifier&#x27;,\n",
       "                 LogisticRegression(C=0.1, class_weight=&#x27;balanced&#x27;,\n",
       "                                    max_iter=200, penalty=&#x27;l1&#x27;, random_state=42,\n",
       "                                    solver=&#x27;saga&#x27;))])</pre></div></div></div><div class=\"sk-serial\"><div class=\"sk-item sk-dashed-wrapped\"><div class=\"sk-label-container\"><div class=\"sk-label sk-toggleable\"><input class=\"sk-toggleable__control sk-hidden--visually\" id=\"sk-estimator-id-50\" type=\"checkbox\" ><label for=\"sk-estimator-id-50\" class=\"sk-toggleable__label sk-toggleable__label-arrow\">preprocessor: ColumnTransformer</label><div class=\"sk-toggleable__content\"><pre>ColumnTransformer(transformers=[(&#x27;num&#x27;, StandardScaler(),\n",
       "                                 [&#x27;DAYS_EMPLOYED_PERC&#x27;, &#x27;CREDIT_GOODS_PERC&#x27;,\n",
       "                                  &#x27;INCOME_CREDIT_PERC&#x27;, &#x27;INCOME_PER_PERSON&#x27;,\n",
       "                                  &#x27;DEBT_RATIO&#x27;, &#x27;PAYMENT_RATE&#x27;])])</pre></div></div></div><div class=\"sk-parallel\"><div class=\"sk-parallel-item\"><div class=\"sk-item\"><div class=\"sk-label-container\"><div class=\"sk-label sk-toggleable\"><input class=\"sk-toggleable__control sk-hidden--visually\" id=\"sk-estimator-id-51\" type=\"checkbox\" ><label for=\"sk-estimator-id-51\" class=\"sk-toggleable__label sk-toggleable__label-arrow\">num</label><div class=\"sk-toggleable__content\"><pre>[&#x27;DAYS_EMPLOYED_PERC&#x27;, &#x27;CREDIT_GOODS_PERC&#x27;, &#x27;INCOME_CREDIT_PERC&#x27;, &#x27;INCOME_PER_PERSON&#x27;, &#x27;DEBT_RATIO&#x27;, &#x27;PAYMENT_RATE&#x27;]</pre></div></div></div><div class=\"sk-serial\"><div class=\"sk-item\"><div class=\"sk-estimator sk-toggleable\"><input class=\"sk-toggleable__control sk-hidden--visually\" id=\"sk-estimator-id-52\" type=\"checkbox\" ><label for=\"sk-estimator-id-52\" class=\"sk-toggleable__label sk-toggleable__label-arrow\">StandardScaler</label><div class=\"sk-toggleable__content\"><pre>StandardScaler()</pre></div></div></div></div></div></div></div></div><div class=\"sk-item\"><div class=\"sk-estimator sk-toggleable\"><input class=\"sk-toggleable__control sk-hidden--visually\" id=\"sk-estimator-id-53\" type=\"checkbox\" ><label for=\"sk-estimator-id-53\" class=\"sk-toggleable__label sk-toggleable__label-arrow\">LogisticRegression</label><div class=\"sk-toggleable__content\"><pre>LogisticRegression(C=0.1, class_weight=&#x27;balanced&#x27;, max_iter=200, penalty=&#x27;l1&#x27;,\n",
       "                   random_state=42, solver=&#x27;saga&#x27;)</pre></div></div></div></div></div></div></div>"
      ],
      "text/plain": [
       "Pipeline(steps=[('preprocessor',\n",
       "                 ColumnTransformer(transformers=[('num', StandardScaler(),\n",
       "                                                  ['DAYS_EMPLOYED_PERC',\n",
       "                                                   'CREDIT_GOODS_PERC',\n",
       "                                                   'INCOME_CREDIT_PERC',\n",
       "                                                   'INCOME_PER_PERSON',\n",
       "                                                   'DEBT_RATIO',\n",
       "                                                   'PAYMENT_RATE'])])),\n",
       "                ('classifier',\n",
       "                 LogisticRegression(C=0.1, class_weight='balanced',\n",
       "                                    max_iter=200, penalty='l1', random_state=42,\n",
       "                                    solver='saga'))])"
      ]
     },
     "metadata": {},
     "output_type": "display_data"
    },
    {
     "name": "stdout",
     "output_type": "stream",
     "text": [
      "Meilleurs hyperparamètres: {'classifier__C': 0.1, 'classifier__penalty': 'l1', 'classifier__solver': 'saga'}\n",
      "Durée d'entrainement: 743.99 s\n"
     ]
    }
   ],
   "source": [
    "(best_model_reglog, best_params_reglog, duration_reglog) = best_model(LogisticRegression(class_weight = 'balanced',\n",
    "                                                                                         max_iter = 200,\n",
    "                                                                                         random_state=42),\n",
    "                                                                      xtrain = X_train,\n",
    "                                                                      numeric_features = feats_reglog,\n",
    "                                                                      numeric_transformer = StandardScaler(),\n",
    "                                                                      ytrain = y_train,\n",
    "                                                                      params = {\"classifier__penalty\": ['l2', 'l1'],\n",
    "                                                                                \"classifier__solver\": ['lbfgs', 'saga'],\n",
    "                                                                                \"classifier__C\": [100, 10, 1.0, 0.1, 0.01],},\n",
    "                                                                      scoring = make_scorer(score_metier))"
   ]
  },
  {
   "cell_type": "code",
   "execution_count": null,
   "id": "1feb8c58",
   "metadata": {},
   "outputs": [],
   "source": []
  },
  {
   "cell_type": "markdown",
   "id": "1aae7ce1",
   "metadata": {},
   "source": [
    "#### Modélisation sur données rééquilibrées: sur-échantillonnage + pondération des classes "
   ]
  },
  {
   "cell_type": "code",
   "execution_count": null,
   "id": "0e6d656f",
   "metadata": {},
   "outputs": [],
   "source": [
    "Nous allons effectuer un sur-échantillonnage de la classe minoritaire puis tester différentes pondérations:"
   ]
  },
  {
   "cell_type": "code",
   "execution_count": null,
   "id": "e3196613",
   "metadata": {},
   "outputs": [],
   "source": []
  },
  {
   "cell_type": "markdown",
   "id": "29cd658f",
   "metadata": {},
   "source": [
    "#### Modélisation sur données rééquilibrées: sous échantillonage + SMOTE"
   ]
  },
  {
   "cell_type": "code",
   "execution_count": null,
   "id": "93b97440",
   "metadata": {},
   "outputs": [],
   "source": []
  },
  {
   "cell_type": "code",
   "execution_count": null,
   "id": "24ca5158",
   "metadata": {},
   "outputs": [],
   "source": []
  },
  {
   "cell_type": "code",
   "execution_count": null,
   "id": "ae845959",
   "metadata": {},
   "outputs": [],
   "source": []
  },
  {
   "cell_type": "code",
   "execution_count": null,
   "id": "a1fd087c",
   "metadata": {},
   "outputs": [],
   "source": []
  },
  {
   "cell_type": "code",
   "execution_count": null,
   "id": "bb11c3e2",
   "metadata": {},
   "outputs": [],
   "source": []
  },
  {
   "cell_type": "code",
   "execution_count": null,
   "id": "17d65523",
   "metadata": {},
   "outputs": [],
   "source": []
  },
  {
   "cell_type": "code",
   "execution_count": null,
   "id": "2a7d9032",
   "metadata": {},
   "outputs": [],
   "source": []
  },
  {
   "cell_type": "code",
   "execution_count": null,
   "id": "4c3b30ab",
   "metadata": {},
   "outputs": [],
   "source": []
  },
  {
   "cell_type": "code",
   "execution_count": null,
   "id": "5ceef7e8",
   "metadata": {},
   "outputs": [],
   "source": [
    "# Modèle\n",
    "start_RegrLog = time.time()\n",
    "model = pipeline_model(model = LogisticRegression(),\n",
    "                       numeric_features = feats,\n",
    "                       numeric_transformer = StandardScaler())\n",
    "\n",
    "# Sélection des hyperparamètres\n",
    "params = {\"classifier__penalty\": ['l2', 'l1'],}\n",
    "scoring = make_scorer(recall_score)\n",
    "\n",
    "best_model_RegrLog, best_params_RegrLog = optimize_and_train_model(pipeline_model = model,\n",
    "                                                                   xtrain = X_train[feats],\n",
    "                                                                   ytrain = y_train,\n",
    "                                                                   params = params,\n",
    "                                                                   scoring = scoring)\n",
    "\n",
    "\n",
    "duration_RegrLog = time.time() - start_RegrLog\n",
    "    \n",
    "# Evaluation du modèle\n",
    "(recall, precision, accuracy, auc) = eval_metrics(best_model = best_model_RegrLog,\n",
    "                                                  xtest = X_test[feats],\n",
    "                                                  ytest = y_test)\n",
    "    \n",
    "print(f\"DummyClassifier Model with param penalty = {best_params_RegrLog['classifier__penalty']}\")\n",
    "print()\n",
    "print(f\"Recall: {recall:.2f}\")\n",
    "print(f\"Precision: {precision:.2f}\")\n",
    "print(f\"Accuracy: {accuracy:.2f}\")\n",
    "print(f\"AUC: {auc:.2f}\")\n",
    "print(f\"Train time: {duration_RegrLog:.2f}\")"
   ]
  },
  {
   "cell_type": "code",
   "execution_count": null,
   "id": "271d64a4",
   "metadata": {
    "scrolled": false
   },
   "outputs": [],
   "source": [
    "_ = ConfusionMatrixDisplay.from_estimator(best_model_Dummy, X_test[feats], y_test, labels=[1, 0])"
   ]
  },
  {
   "cell_type": "markdown",
   "id": "1ebcd9f0",
   "metadata": {},
   "source": [
    "#### Traitement des données déséquilibrées"
   ]
  },
  {
   "cell_type": "markdown",
   "id": "2e83fd10",
   "metadata": {},
   "source": [
    "<div class=\"alert alert-block alert-warning\">\n",
    "    <p>Paramètre class_weight</p>\n",
    "</div>"
   ]
  },
  {
   "cell_type": "code",
   "execution_count": null,
   "id": "acce1b86",
   "metadata": {},
   "outputs": [],
   "source": [
    "https://vitalflux.com/class-imbalance-class-weight-python-sklearn/"
   ]
  },
  {
   "cell_type": "code",
   "execution_count": null,
   "id": "de4a5525",
   "metadata": {},
   "outputs": [],
   "source": []
  },
  {
   "cell_type": "code",
   "execution_count": null,
   "id": "138815a1",
   "metadata": {},
   "outputs": [],
   "source": []
  },
  {
   "cell_type": "code",
   "execution_count": null,
   "id": "f0a4071a",
   "metadata": {},
   "outputs": [],
   "source": []
  },
  {
   "cell_type": "code",
   "execution_count": null,
   "id": "13ef8fac",
   "metadata": {},
   "outputs": [],
   "source": []
  },
  {
   "cell_type": "code",
   "execution_count": null,
   "id": "94342009",
   "metadata": {},
   "outputs": [],
   "source": []
  },
  {
   "cell_type": "markdown",
   "id": "4d77d223",
   "metadata": {},
   "source": [
    "### LightGBM <a class=\"anchor\" id=\"lightgbm\"></a>"
   ]
  },
  {
   "cell_type": "markdown",
   "id": "d4902dd9",
   "metadata": {},
   "source": [
    "Choix d'un modèle avec Feature importance pour explications."
   ]
  },
  {
   "cell_type": "code",
   "execution_count": null,
   "id": "1b067886",
   "metadata": {},
   "outputs": [],
   "source": [
    "# Choix des features\n",
    "feats = ['DAYS_EMPLOYED_PERC', 'CREDIT_GOODS_PERC', 'INCOME_CREDIT_PERC', 'INCOME_PER_PERSON',\n",
    "         'DEBT_RATIO', 'PAYMENT_RATE']"
   ]
  },
  {
   "cell_type": "code",
   "execution_count": null,
   "id": "0c7f5351",
   "metadata": {},
   "outputs": [],
   "source": [
    "start_Lgbm = time.time()\n",
    "\n",
    "model = pipeline_model(model = LGBMClassifier(),\n",
    "                       numeric_features = feats,\n",
    "                       numeric_transformer = StandardScaler())\n",
    "\n",
    "# Sélection des hyperparamètres\n",
    "params = {\"classifier__ scale_pos_weight\": [1,2,6,12],}\n",
    "scoring = {\"Recall\": make_scorer(recall_score),\n",
    "           \"Precision\": make_scorer(precision_score),\n",
    "           \"Accuracy\": make_scorer(accuracy_score),\n",
    "           \"AUC\": \"roc_auc\"}\n",
    "\n",
    "best_model_Lgbm = optimize_and_train_model(pipeline_model = model, \n",
    "                                              xtrain = X_train[feats],\n",
    "                                              ytrain = y_train,\n",
    "                                              params = params,\n",
    "                                              scoring = scoring)\n",
    "\n",
    "\n",
    "stop_Lgbm = time.time() - start_Lgbm\n",
    "print(f\"Temps d'entrainement: {stop_Lgbm:.2f}\")\n",
    "\n",
    " \n",
    "\n"
   ]
  },
  {
   "cell_type": "code",
   "execution_count": null,
   "id": "969086f0",
   "metadata": {},
   "outputs": [],
   "source": []
  },
  {
   "cell_type": "code",
   "execution_count": null,
   "id": "3d5b584a",
   "metadata": {},
   "outputs": [],
   "source": []
  },
  {
   "cell_type": "code",
   "execution_count": null,
   "id": "9f9258ba",
   "metadata": {},
   "outputs": [],
   "source": []
  },
  {
   "cell_type": "code",
   "execution_count": null,
   "id": "99aaa5ce",
   "metadata": {},
   "outputs": [],
   "source": []
  },
  {
   "cell_type": "code",
   "execution_count": null,
   "id": "21ecf81e",
   "metadata": {},
   "outputs": [],
   "source": []
  },
  {
   "cell_type": "code",
   "execution_count": null,
   "id": "70f472b5",
   "metadata": {},
   "outputs": [],
   "source": []
  },
  {
   "cell_type": "code",
   "execution_count": null,
   "id": "5efc804d",
   "metadata": {},
   "outputs": [],
   "source": []
  },
  {
   "cell_type": "code",
   "execution_count": null,
   "id": "068f701b",
   "metadata": {},
   "outputs": [],
   "source": [
    "#EXPERIMENT_NAME = \"mlflow-default-risk\"\n",
    "#EXPERIMENT_ID = mlflow.create_experiment(EXPERIMENT_NAME)\n",
    "\n",
    "start_Dummy = time.time()\n",
    "model = DummyClassifier()\n",
    "\n",
    "# Sélection des hyperparamètres\n",
    "params = {'strategy' : ['most_frequent', 'prior', 'stratified', 'uniform'],}\n",
    "scoring = make_scorer(recall_score)\n",
    "\n",
    "best_model_Dummy, best_params_Dummy = optimize_and_train_model(pipeline_model = model,\n",
    "                                                                xtrain = X_train,\n",
    "                                                                ytrain = y_train,\n",
    "                                                                params = params,\n",
    "                                                                scoring = scoring)\n",
    "\n",
    "\n",
    "duration_Dummy = time.time() - start_Dummy\n",
    "    \n",
    "# Evaluation du modèle\n",
    "(recall, precision, accuracy, auc) = eval_metrics(best_model = best_model_Dummy,\n",
    "                                                    xtest = X_test,\n",
    "                                                    ytest = y_test)\n",
    "    \n",
    "print(f\"DummyClassifier Model with param strategy = {best_params_Dummy['strategy']}\")\n",
    "print()\n",
    "print(f\"Recall: {recall:.2f}\")\n",
    "print(f\"Precision: {precision:.2f}\")\n",
    "print(f\"Accuracy: {accuracy:.2f}\")\n",
    "print(f\"AUC: {auc:.2f}\")\n",
    "print(f\"Train time: {duration_Dummy:.2f}\")\n",
    "\n",
    "# Start MLflow\n",
    "with mlflow.start_run() as run:\n",
    "#with mlflow.start_run(experiment_id=EXPERIMENT_ID, run_name=RUN_NAME) as run:\n",
    "    \n",
    "    # Run id\n",
    "    RUN_ID = run.info.run_id\n",
    "    \n",
    "    # log des paramètres et scores à chaque fois que le modèle est lancé\n",
    "    mlflow.log_param(\"strategy\", best_params_Dummy['strategy'])\n",
    "    mlflow.log_metric(\"recall\", recall)\n",
    "    mlflow.log_metric(\"precision\", precision)\n",
    "    mlflow.log_metric(\"accuracy\", accuracy)\n",
    "    mlflow.log_metric(\"auc\", auc)\n",
    "    mlflow.log_metric(\"Tps_entrainement\", duration_Dummy)\n",
    "    \n",
    "    mlflow.sklearn.log_model(best_model_Dummy, \"dummyclassifier\")"
   ]
  },
  {
   "cell_type": "code",
   "execution_count": null,
   "id": "a3724da3",
   "metadata": {},
   "outputs": [],
   "source": []
  },
  {
   "cell_type": "code",
   "execution_count": null,
   "id": "855fd534",
   "metadata": {},
   "outputs": [],
   "source": []
  },
  {
   "cell_type": "code",
   "execution_count": null,
   "id": "355d29c6",
   "metadata": {},
   "outputs": [],
   "source": []
  },
  {
   "cell_type": "code",
   "execution_count": null,
   "id": "1c5def1d",
   "metadata": {},
   "outputs": [],
   "source": []
  },
  {
   "cell_type": "code",
   "execution_count": null,
   "id": "c0aec015",
   "metadata": {},
   "outputs": [],
   "source": [
    "def df_suivi_scores(best_model, feats, best_params):\n",
    "    dic_df_recap = {'Modèle':[best_model['classifier']],\n",
    "                    'Features':[feats],\n",
    "                    'Best_Params':[best_params_reglog],\n",
    "                    'Score_metier':[score_biz_reglog] \n",
    "                \n",
    "                \n",
    "                \"Temps d'entrainement\": [duration_reglog],}\n",
    "df_tfidf_pdesc_recap = pd.DataFrame(data = df_tfidf_pdesc_recap)"
   ]
  },
  {
   "cell_type": "code",
   "execution_count": null,
   "id": "b1a3593e",
   "metadata": {},
   "outputs": [],
   "source": []
  },
  {
   "cell_type": "code",
   "execution_count": null,
   "id": "f81f4dc6",
   "metadata": {},
   "outputs": [],
   "source": []
  },
  {
   "cell_type": "markdown",
   "id": "ad2182ca",
   "metadata": {},
   "source": [
    "https://scikit-learn.org/stable/modules/generated/sklearn.metrics.fbeta_score.html\n",
    "\n",
    "https://datascience.stackexchange.com/questions/82780/how-to-implement-a-gridsearchcv-custom-scorer-that-is-dependent-on-a-training-fe"
   ]
  },
  {
   "cell_type": "markdown",
   "id": "473c353d",
   "metadata": {},
   "source": [
    "<div class=\"alert alert-block alert-success\">\n",
    "    <p>•\tFinir la partie exploration et la transformation et choix des features \n",
    "•\tCréer un environnement MLFlow permettant le tracking lors de l’entraînement des modèles, la visualisation et la comparaison via l’UI de MLFlow, ainsi que le stockage de manière centralisée des modèles.\n",
    "o\tIl faut au minimum le tracking des scores (scores métier, AUC), des hyperparamètres, des temps de traitement de fit et de prédiction, ainsi que le stockage de graphiques (ROC curve) et des modèles\n",
    "•\tUne fonction de tracking de logs \n",
    "\n",
    "Bonus (je te le mets pour que tu l'aies en tête mais je n'attends pas que tu le fasse tout de suite) :\n",
    "•\tAvant de construire les modèles, réfléchir à la fonction de coût métier : \n",
    "o\tLa problématique « métier » est de prendre en compte qu’un faux positifs (crédit non accordé à tort, donc manque à gagner de la marge pour la banque) n’a pas le même coût qu’un faux négatif (mauvais client à qui on accorde un prêt, donc perte sur le capital non remboursé). Un faux négatif est environ 10 fois plus coûteux qu’un faux positif. Les mesures techniques tels que le f1 score ne le prennent pas en compte.\n",
    "o\tLe score “métier” consiste à calculer une fonction de coût métier de type 10*FN + FP \n",
    "o\tLes modèles et leur hyperparamètres seront optimisés via un GridSearchCV ou équivalent sur ce score, faire aussi l’accuracy ou l’AUC comme élément de comparaison (le garder en référence)\n",
    "</p>\n",
    "</div>"
   ]
  },
  {
   "cell_type": "markdown",
   "id": "bc26ff85",
   "metadata": {},
   "source": [
    "<div class=\"alert alert-block alert-warning\">\n",
    "    <p>Suppression des variables avec 30% ou plus de NaN</p>\n",
    "</div>"
   ]
  },
  {
   "cell_type": "markdown",
   "id": "f01d6543",
   "metadata": {},
   "source": [
    "<div class=\"alert alert-block alert-success\">\n",
    "    <p>A noter: ces pairs de variables étant fortement corrélées, il faudra penser à ne pas les prendre toutes dans notre modèle.</p>\n",
    "</div>"
   ]
  },
  {
   "cell_type": "code",
   "execution_count": null,
   "id": "3087f648",
   "metadata": {},
   "outputs": [],
   "source": []
  }
 ],
 "metadata": {
  "kernelspec": {
   "display_name": "projet7",
   "language": "python",
   "name": "projet7"
  },
  "language_info": {
   "codemirror_mode": {
    "name": "ipython",
    "version": 3
   },
   "file_extension": ".py",
   "mimetype": "text/x-python",
   "name": "python",
   "nbconvert_exporter": "python",
   "pygments_lexer": "ipython3",
   "version": "3.9.16"
  },
  "varInspector": {
   "cols": {
    "lenName": 16,
    "lenType": 16,
    "lenVar": 40
   },
   "kernels_config": {
    "python": {
     "delete_cmd_postfix": "",
     "delete_cmd_prefix": "del ",
     "library": "var_list.py",
     "varRefreshCmd": "print(var_dic_list())"
    },
    "r": {
     "delete_cmd_postfix": ") ",
     "delete_cmd_prefix": "rm(",
     "library": "var_list.r",
     "varRefreshCmd": "cat(var_dic_list()) "
    }
   },
   "types_to_exclude": [
    "module",
    "function",
    "builtin_function_or_method",
    "instance",
    "_Feature"
   ],
   "window_display": false
  }
 },
 "nbformat": 4,
 "nbformat_minor": 5
}
