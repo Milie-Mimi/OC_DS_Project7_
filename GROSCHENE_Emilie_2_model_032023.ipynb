{
 "cells": [
  {
   "cell_type": "markdown",
   "id": "e588dcb0",
   "metadata": {},
   "source": [
    "# Projet 7: Implémentez un modèle de scoring (choix du modèle de scoring)"
   ]
  },
  {
   "cell_type": "markdown",
   "id": "24520e58",
   "metadata": {},
   "source": [
    "## Table des matières: <a class=\"anchor\" id=\"0\"></a>\n",
    "\n",
    "1. [Import des librairies et configurations générales](#library)\n",
    "2. [Chargement des données](#load)\n",
    "3. [Préselection des features](#feats)\n",
    "4. [Traitement des données déséquilibrées](#inbalanced)\n",
    "5. [Sélection des données d'entrainement et de test](#train_test)\n",
    "6. [Pipeline, optimisation et entrainement des modèles](#pipe)\n",
    "7. [Choix des scores](#scores)\n",
    "8. [Modélisations](#model)\n",
    "    1. [Modèle Baseline: Dummy classifier](#dummy)\n",
    "    2. [Régression logistique](#reglog)\n",
    "\n",
    "\n"
   ]
  },
  {
   "cell_type": "markdown",
   "id": "3f3b606a",
   "metadata": {},
   "source": [
    "## Import des librairies et configurations générales <a class=\"anchor\" id=\"library\"></a>"
   ]
  },
  {
   "cell_type": "code",
   "execution_count": 1,
   "id": "e0f12ebf",
   "metadata": {},
   "outputs": [],
   "source": [
    "# builtin\n",
    "#import os\n",
    "import time\n",
    "#from os import listdir\n",
    "\n",
    "# data\n",
    "import numpy as np\n",
    "import pandas as pd\n",
    "\n",
    "# Fonctions personnelles\n",
    "import fct_eda\n",
    "import fct_preprocessing\n",
    "import fct_model\n",
    "\n",
    "# Update Fonctions personnelles\n",
    "%load_ext autoreload\n",
    "%autoreload 2\n",
    "%reload_ext autoreload\n",
    "\n",
    "# viz\n",
    "import matplotlib.pyplot as plt\n",
    "#import matplotlib.patches as mpatches\n",
    "import seaborn as sns\n",
    "\n",
    "# stats\n",
    "#from scipy.stats import chi2_contingency #Chi2\n",
    "#import pingouin as pg # Test Chi2 d'independance\n",
    "\n",
    "# models\n",
    "#from sklearn.experimental import enable_iterative_imputer\n",
    "#from sklearn.impute import IterativeImputer\n",
    "#from sklearn.preprocessing import OneHotEncoder, LabelEncoder\n",
    "\n",
    "# Balancing data\n",
    "from collections import Counter\n",
    "from imblearn.over_sampling import SMOTE\n",
    "from imblearn.under_sampling import RandomUnderSampler\n",
    "from imblearn.pipeline import Pipeline as pipe\n",
    "\n",
    "\n",
    "from sklearn.model_selection import train_test_split, cross_validate, KFold\n",
    "from sklearn.model_selection import GridSearchCV, RandomizedSearchCV\n",
    "from sklearn import set_config\n",
    "set_config(display='diagram')\n",
    "from sklearn.pipeline import Pipeline\n",
    "from sklearn.compose import ColumnTransformer\n",
    "from sklearn.preprocessing import StandardScaler\n",
    "\n",
    "from sklearn.metrics import make_scorer\n",
    "from sklearn.metrics import accuracy_score, recall_score, precision_score, roc_auc_score, fbeta_score\n",
    "from sklearn.metrics import ConfusionMatrixDisplay, confusion_matrix\n",
    "\n",
    "from sklearn.dummy import DummyClassifier\n",
    "from sklearn.linear_model import LogisticRegression\n",
    "from lightgbm import LGBMClassifier\n",
    "\n",
    "#import joblib # sauvegarde des modèles\n",
    "#from mlflow.models.signature import infer_signature\n",
    "#from urllib.parse import urlparse\n",
    "import mlflow\n",
    "import mlflow.sklearn\n",
    "\n",
    "\n",
    "#import gc\n",
    "#from contextlib import contextmanager\n",
    "\n",
    "import warnings\n",
    "warnings.simplefilter(action='ignore', category=FutureWarning)\n",
    "# warnings.filterwarnings('ignore')\n",
    "\n",
    "#\n",
    "#from sklearn.metrics import roc_auc_score, roc_curve\n",
    "#from sklearn.model_selection import KFold, StratifiedKFold"
   ]
  },
  {
   "cell_type": "code",
   "execution_count": 2,
   "id": "8795471c",
   "metadata": {},
   "outputs": [],
   "source": [
    "# Configuration Pandas\n",
    "pd_option_dictionary = {\n",
    "    'display.max_rows': 500,\n",
    "    'display.max_column': 200,\n",
    "    'display.width': 300,\n",
    "    'display.precision': 4,\n",
    "    'display.max_colwidth': None,\n",
    "    'display.float_format' : '{:.2f}'.format,\n",
    "}\n",
    "\n",
    "for pat, value in pd_option_dictionary.items():\n",
    "    pd.set_option(pat, value)"
   ]
  },
  {
   "cell_type": "markdown",
   "id": "fd96c24f",
   "metadata": {
    "heading_collapsed": true
   },
   "source": [
    "## Chargement des données <a class=\"anchor\" id=\"load\"></a>"
   ]
  },
  {
   "cell_type": "code",
   "execution_count": 3,
   "id": "a181232b",
   "metadata": {
    "hidden": true
   },
   "outputs": [
    {
     "name": "stdout",
     "output_type": "stream",
     "text": [
      "Application_train shape: (252133, 125)\n",
      "Processing application_train fait en 15.0s \n",
      "Bureau shape: (305807, 66)\n",
      "Processing bureau et bureau_balance fait en 49.0s \n",
      "Previous applications shape: (338384, 176)\n",
      "Processing previous_applications fait en 112.0s \n",
      "Pos-cash balance shape: (337252, 17)\n",
      "Processing POS-CASH balance fait en 33.0s \n",
      "Installments payments shape: (339587, 10)\n",
      "Processing installments payments fait en 39.0s \n",
      "Credit card balance shape: (103558, 69)\n",
      "Processing credit card balance fait en 67.0s \n"
     ]
    }
   ],
   "source": [
    "df = fct_preprocessing.main()"
   ]
  },
  {
   "cell_type": "code",
   "execution_count": 4,
   "id": "ede90822",
   "metadata": {
    "hidden": true
   },
   "outputs": [
    {
     "name": "stdout",
     "output_type": "stream",
     "text": [
      "Nombre de lignes: 252133\n",
      "Nombre de colonnes: 394\n",
      "Nombre total de NaN du dataset: 0\n",
      "% total de NaN du dataset: 0.0%\n"
     ]
    }
   ],
   "source": [
    "# Vérification que le dataset consolidé ne contient pas de NaN\n",
    "fct_eda.shape_total_nan(df)"
   ]
  },
  {
   "cell_type": "markdown",
   "id": "be9cf872",
   "metadata": {},
   "source": [
    "## Préselection des features <a class=\"anchor\" id=\"feats\"></a>"
   ]
  },
  {
   "cell_type": "code",
   "execution_count": null,
   "id": "6b9d4c57",
   "metadata": {},
   "outputs": [],
   "source": [
    "# Choix des features et de la target\n",
    "feats = [f for f in df.columns if f not in ['TARGET']]\n",
    "target = df['TARGET']"
   ]
  },
  {
   "cell_type": "markdown",
   "id": "7302752a",
   "metadata": {
    "heading_collapsed": true
   },
   "source": [
    "## Traitement des données déséquilibrées <a class=\"anchor\" id=\"inbalanced\"></a>"
   ]
  },
  {
   "cell_type": "markdown",
   "id": "76a653f1",
   "metadata": {
    "hidden": true
   },
   "source": [
    "Lors de l'analyse exploratoire, nous avons remarqué que les données étaient très **déséquilibrées** entre les défaillants et non défaillants. Les non défaillants sont largement sur représentés (> 91%).\n",
    "\n",
    "La plupart des modèles de Machine Learning vont **ignorer la classe minoritaire** et donc avoir des **performances médiocres** dans cette classe alors qu'en général c'est la performance de la classe minoritaire qui est la plus importante.\n",
    "\n",
    "Une des approches pour traiter les ensembles de données déséquilibrés consiste à suréchantillonner la classe minoritaire. La méthode la plus simple est de **dupliquer les exemples de la classe minoritaire** même si aucune information n'est ajoutée au modèle.\n",
    "\n",
    "Il est également possible de **pondérer les classes** c'est à dire ajuster la fonction de coût du modèle de manière à ce qu'une mauvaise classification d'une observation de la classe minoritaire soit plus lourdement pénalisée qu'une mauvaise classification d'une observation de la classe majoritaire. Cette approcge contribue à améliorer la précision du modèle en rééquilibrant la distribution des classes. Comme aucun nouveau point de données n'est créé, la méthode doit ête utilisée conjointement avec d'autres méthodes comme le suréchantillonnage par exemple.\n",
    "\n",
    "Au lieu de cela, de nouveaux **exemples peuvent être synthétisés à partir des exemples existants**. Il s'agit d'un type d'augmentation de données pour la classe minoritaire appelé **SMOTE** pour (Synthetic Minority Oversampling Technique ou Technique de suréchantillonnage synthétique des minorités).\n",
    "\n",
    "Un **exemple aléatoire de la classe minoritaire** est choisi et les k plus proches voisins sont trouvés (avec k = 5 en général). **Un voisin est choisi au hasard** et un segment est tracé entre les 2 points.\n",
    " \n",
    "Il est recommandé d'utiliser d'abord un **sous-échantillonnage aléatoire** pour réduire le nombre d'exemples dans la classe minoritaire puis d'utiliser **SMOTE** pour suréchantillonner la classe minoritaire afin d'équilibrer la distribution des classes. C'est une approche efficace car les nouveaux exemples synthétiques de la classe minoritaire sont plausibles (proches dans l'espace des caractéristiques des exemples existants de la classe minoritaire).\n",
    "\n",
    "L'inconvénient général serait que les exemples synthétiques sont créés sans tenir compte de la classe majoritaire.\n",
    "\n",
    "https://machinelearningmastery.com/smote-oversampling-for-imbalanced-classification/"
   ]
  },
  {
   "cell_type": "code",
   "execution_count": 13,
   "id": "ea9da7db",
   "metadata": {
    "hidden": true
   },
   "outputs": [
    {
     "data": {
      "image/png": "[encoded data removed]",
      "text/plain": [
       "<Figure size 500x300 with 1 Axes>"
      ]
     },
     "metadata": {},
     "output_type": "display_data"
    }
   ],
   "source": [
    "# Distribution de la target\n",
    "plt.figure(figsize=(5,3))\n",
    "sns.countplot(x = 'TARGET', data = df, palette=['powderblue', 'tomato'])\n",
    "plt.title('Distribution de la target', fontweight='bold', fontsize = 12)\n",
    "x = [0, 1]\n",
    "plt.xticks(x, ['Non Défaillant', 'Défaillant'])\n",
    "plt.xlabel('');"
   ]
  },
  {
   "cell_type": "code",
   "execution_count": 39,
   "id": "f8a4dbf7",
   "metadata": {
    "hidden": true
   },
   "outputs": [
    {
     "data": {
      "text/plain": [
       "Counter({1: 21835, 0: 230298})"
      ]
     },
     "execution_count": 39,
     "metadata": {},
     "output_type": "execute_result"
    }
   ],
   "source": [
    "Counter(df['TARGET'])"
   ]
  },
  {
   "cell_type": "markdown",
   "id": "d57086fa",
   "metadata": {
    "heading_collapsed": true
   },
   "source": [
    "## Sélection des données d'entrainement et de test <a class=\"anchor\" id=\"train_test\"></a>"
   ]
  },
  {
   "cell_type": "markdown",
   "id": "35b92802",
   "metadata": {
    "hidden": true
   },
   "source": [
    "En Machine Learning il ne faut jamais valider un modèle sur les données qui ont servi à son entrainement. Le modèle doit être testé sur des données qu'il n'a jamais vues. On aura ainsi une idée de sa performance future. Le dataset sera mélangé de façon aléatoire avant d'être divisé en deux parties:\n",
    "- un **train set** dont les données sont utilisées pour **entrainer le modèle**\n",
    "- un **test set** réservé uniquement à **l'évaluation du modèle**"
   ]
  },
  {
   "cell_type": "code",
   "execution_count": 6,
   "id": "d1da9532",
   "metadata": {
    "hidden": true
   },
   "outputs": [
    {
     "name": "stdout",
     "output_type": "stream",
     "text": [
      "Nb de lignes des données d'entrainement: 201706 \n",
      "Nb de lignes des données de validation: 50427\n"
     ]
    }
   ],
   "source": [
    "# Jeu d'entrainement (80%) et de validation (20%)\n",
    "X_train, X_test, y_train, y_test = train_test_split(df[feats], df['TARGET'],\n",
    "                                                    test_size = 0.2,\n",
    "                                                    shuffle = True,\n",
    "                                                    random_state = 42)\n",
    "print(f\"Nb de lignes des données d'entrainement: {len(X_train)} \\nNb de lignes des données de validation: {len(X_test)}\")"
   ]
  },
  {
   "cell_type": "markdown",
   "id": "b6220e68",
   "metadata": {
    "heading_collapsed": true
   },
   "source": [
    "## Pipeline, optimisation et entrainement des modèles <a class=\"anchor\" id=\"pipe\"></a>"
   ]
  },
  {
   "cell_type": "markdown",
   "id": "6e124ef5",
   "metadata": {
    "hidden": true
   },
   "source": [
    "Nous allons dans un premier temps créer une **pipeline** pour chacun de nos modèles. Cette pipeline va nous permettre d'affecter des étapes de preprocessing à nos données, c'est à dire des transformations comme le **traitement des données déséquilibrées**, la **standardisation**, et de choisir le **type de modèle**.\n",
    "\n",
    "Cette pipeline sera ensuite intégrée dans une fonction d'optimisation et d'entrainement qui va utiliser la **validation croisée** pour tester la robustesse du modèle prédictif en répétant la procédure de split. Elle donnera plusieurs erreurs d'apprentissage et de test et donc une **estimation de la variabilité de la performance de généralisation du modèle**. \n",
    "\n",
    "Nous allons comparer l'erreur de validation avec l'erreur d'entrainement. On va créer un **validation set** qui va nous permettre d'optimiser les réglages du modèle qui donne les meilleures performances tout en gardant de côté les données du test set pour évaluer le modèle sur des données qu'il n'aura jamais vues.\n",
    "\n",
    "Le réglage des hyperparamètres s'effectuera soit à l'aide du  **GridSearchCV** qui va tester toutes les combinaisons possibles d'hyperparamètres afin de trouver celles qui vont minimiser le plus l'erreur (méthode exhaustive très **coûteuse en termes de puissance de calcul et de temps**), soit du **RandomizedSearchCV** qui va sélectionner des combinaisaons aléatoires d'hyperparamètres. Cette méthode est **un peu moins précise mais beaucoup plus rapide**. Elle sera utilisée pour les modèles plus complexes.\n",
    "\n",
    "Enfin, pour évaluer la **performance réelle de nos modèles**, nous calculerons les metrics choisis sur les données de test."
   ]
  },
  {
   "cell_type": "markdown",
   "id": "8f4c33fd",
   "metadata": {
    "heading_collapsed": true
   },
   "source": [
    "## Choix des scores <a class=\"anchor\" id=\"scores\"></a>"
   ]
  },
  {
   "cell_type": "markdown",
   "id": "9ef75d22",
   "metadata": {
    "hidden": true
   },
   "source": [
    "Si l'on se réfère au fichier de description des colonnes:\n",
    "- **1** => clients a des difficultés de paiement, il a eu un retard de paiement de plus de X jours sur au moins une des Y premières échéances du prêt dans notre échantillon (**défaillant**)\n",
    "- **0** => tous les autres cas (**non défaillant**)\n",
    "\n",
    "Sur une matrice de confusion, les défaillants représentent la classe positive (Y=1) et les non défaillants la classe négative (Y=0).\n",
    "\n",
    "Comme il serait extrêment coûteux pour la banque d'accorder un crédit à un client défaillant qui ne le rembourserait pas ou en partie, il nous faut **minimiser le nombre de faux négatifs** c'est à dire un client prédit non défaillant alors qu'il est défaillant.\n",
    "\n",
    "Il faut également tâcher de **minimiser les faux positifs** c'est à dire prédire qu'un client est défaillant alors qu'il ne l'est pas (risque de perte de clients, de manque à gagner).\n",
    "\n",
    "Cependant, un faux positif n'a pas le même coût qu'un faux négatif. Ce dernier est beaucoup plus coûteux pour la banque. **Nous accorderons donc plus de poids aux faux négatifs** (fonction coût métier) et supposerons qu'ils sont 10 fois plus coûteux que les faux positifs (eux même 5 fois plus coûteux que les vrais positifs et vrais négatifs). Les modèles seront évalués sur ce score métier.\n",
    "\n",
    "Le **Rappel (Recall)** qui mesure le taux de vrais positifs est à favoriser au détriment de la précision qui est la capacité du classificateur à ne pas étiqueter comme positif un échantillon qui est négatif.\n",
    "\n",
    "Pour faire cela, nous allons nous baser sur le **F-beta score** qui est la moyenne harmonique pondérée de la précision et du rappel. Le paramètre bêta détermine le poids du rappel dans le score. Lorsqu'il est suppérieur à un, il favorise le rappel.\n",
    "\n",
    "Nous mettrons également l'**accuracy** et l'**AUC** comme éléments de comparaison. Le **temps d'entrainement** sera également tracké."
   ]
  },
  {
   "attachments": {
    "Matrice.PNG": {
     "image/png": "[encoded data removed]"
    }
   },
   "cell_type": "markdown",
   "id": "356e9bcc",
   "metadata": {
    "hidden": true
   },
   "source": [
    "![Matrice.PNG](attachment:Matrice.PNG)"
   ]
  },
  {
   "cell_type": "markdown",
   "id": "7bce33f8",
   "metadata": {},
   "source": [
    "## Modélisations <a class=\"anchor\" id=\"model\"></a>"
   ]
  },
  {
   "cell_type": "markdown",
   "id": "7cf235e9",
   "metadata": {},
   "source": [
    "Nous cherchons à classer les demandes en **crédit accordé ou refusé**. Il s'agit donc d'un modèle de **classification**.modèle"
   ]
  },
  {
   "cell_type": "code",
   "execution_count": 190,
   "id": "a0d48573",
   "metadata": {},
   "outputs": [],
   "source": [
    "def score_metier(ytest, y_pred, poids_vp=1, poids_fn=-10, poids_fp=-5, poids_vn=1):\n",
    "    \n",
    "    # Matrice de confusion transformée en array avec affectation aux bonnes catégories\n",
    "    (vn, fp, fn, vp) = confusion_matrix(ytest, y_pred).ravel()\n",
    "    \n",
    "    # Cas rééls\n",
    "    actual_cases = (vp * poids_vp) + (fn * poids_fn) + (fp * poids_fp) + (vn * poids_vn)\n",
    "    \n",
    "    # Cas les plus coûteux: Accorder un crédit à un client défaillant (FN) + \n",
    "    # ne pas accorder un crédit à un client non défaillant (FP)\n",
    "    worst_cases = (vp + fn) * poids_fn + (fp + vn) * poids_fp\n",
    "    \n",
    "    # Cas les plus rentables: Ne pas accorder un crédit à un client défaillant (VP) + \n",
    "    # accorder un crédit à un client non défaillant (VN)\n",
    "    best_cases = (vp + fn) * poids_vp + (fp + vn) * poids_vn\n",
    "    \n",
    "    # Normalisation du score (échelle de 0 à 1) => (valeurs - minimum) / (maximum - minimum)\n",
    "    norm_score = (actual_cases - worst_cases) / (best_cases - worst_cases)\n",
    "    \n",
    "    return norm_score"
   ]
  },
  {
   "cell_type": "code",
   "execution_count": 191,
   "id": "73952cf5",
   "metadata": {},
   "outputs": [],
   "source": [
    "def eval_metrics(best_model, xtest, ytest):\n",
    "    \n",
    "    y_pred = best_model.predict(xtest)\n",
    "    \n",
    "    score_biz = score_metier(ytest, y_pred, poids_vp=1, poids_fn=-10, poids_fp=-5, poids_vn=1)\n",
    "    recall = recall_score(ytest, y_pred)\n",
    "    precision = precision_score(ytest, y_pred)\n",
    "    accuracy = accuracy_score(ytest, y_pred)\n",
    "    auc = roc_auc_score(ytest, y_pred)\n",
    "    \n",
    "    return score_biz, recall, precision, accuracy, auc, y_pred"
   ]
  },
  {
   "cell_type": "code",
   "execution_count": 192,
   "id": "bce379e5",
   "metadata": {},
   "outputs": [],
   "source": [
    "def matrice_confusion(ytest, ypred, model_name):\n",
    "    plt.figure(figsize=(5, 5))\n",
    "    cm = confusion_matrix(ytest, ypred)\n",
    "    sns.heatmap(cm,\n",
    "                xticklabels=['Y=0 (Non défaillant)', 'Y=1 (Défaillant)'],\n",
    "                yticklabels=['Y=0 (Non défaillant)', 'Y=1 (Défaillant)'],\n",
    "                annot=True,\n",
    "                fmt='d', \n",
    "                linewidth=.5, \n",
    "                cmap = sns.cubehelix_palette(as_cmap=True), cbar=False)\n",
    "    plt.title(f'Matrice de confusion: {model_name}')\n",
    "    plt.ylabel('Réalité')\n",
    "    plt.xlabel('Prédiction')\n",
    "    plt.show()"
   ]
  },
  {
   "cell_type": "code",
   "execution_count": 193,
   "id": "0e2557b9",
   "metadata": {},
   "outputs": [],
   "source": [
    "def pipeline_model(model, numeric_features, numeric_transformer):\n",
    "\n",
    "    # Transformations à effectuer sur nos variables\n",
    "    preprocessor = ColumnTransformer(transformers=[\n",
    "        ('num', numeric_transformer, numeric_features),])\n",
    "\n",
    "    # Définition de la pipeline du modèle: étapes de preprocessing + classifier\n",
    "    pipeline_model = Pipeline(steps=[\n",
    "        ('preprocessor', preprocessor),\n",
    "        ('classifier', model)])\n",
    "    \n",
    "    return pipeline_model"
   ]
  },
  {
   "cell_type": "code",
   "execution_count": 206,
   "id": "20791f41",
   "metadata": {},
   "outputs": [],
   "source": [
    "def pipeline_model_balanced(model, numeric_features, numeric_transformer,\n",
    "                            oversampling_strategy, undersampling_strategy):\n",
    "\n",
    "    # Sur échantillonnage de la classe minoritaire (10% de la classe majoritaire ~= 23000)\n",
    "    oversampler = SMOTE(sampling_strategy = oversampling_strategy, random_state = 42)\n",
    "\n",
    "    # Sous échantillonnage pour réduire la classe majoritaire (50% de plus que la classe minoritaire ~= 46000\n",
    "    undersampler = RandomUnderSampler(sampling_strategy = undersampling_strategy, random_state = 42)\n",
    "    \n",
    "    # Transformations à effectuer sur nos variables\n",
    "    preprocessor = ColumnTransformer(transformers=[\n",
    "        ('num', numeric_transformer, numeric_features),])\n",
    "    \n",
    "    # Définition de la pipeline du modèle: étapes de preprocessing + classifier\n",
    "    pipeline_model_balanced = pipe(steps=[\n",
    "        ('over', oversampler),\n",
    "        ('under', undersampler),\n",
    "        ('preprocessor', preprocessor),\n",
    "        ('classifier', model)])\n",
    "    \n",
    "    return pipeline_model_balanced"
   ]
  },
  {
   "cell_type": "code",
   "execution_count": 210,
   "id": "0c29a986",
   "metadata": {},
   "outputs": [],
   "source": [
    "def optimize_and_train_model(pipeline_model, xtrain, ytrain, params, scoring):\n",
    "    \n",
    "    _ = pipeline_model.fit_resample(xtrain, ytrain)\n",
    "\n",
    "\n",
    "    # Réglage automatique des meilleurs hyperparamètres avec GridSearchCV\n",
    "    inner_cv = KFold(n_splits = 5, shuffle = True, random_state = 42)\n",
    "    model_grid_cv = GridSearchCV(pipeline_model, \n",
    "                                 param_grid = params, \n",
    "                                 cv = inner_cv, \n",
    "                                 scoring = scoring,\n",
    "                                 refit=True)\n",
    "\n",
    "    model_grid_cv.fit(xtrain, ytrain)\n",
    "    \n",
    "    best_model = model_grid_cv.best_estimator_\n",
    "    best_params = model_grid_cv.best_params_\n",
    "\n",
    "    return best_model, best_params"
   ]
  },
  {
   "cell_type": "code",
   "execution_count": 222,
   "id": "eee368dd",
   "metadata": {},
   "outputs": [],
   "source": [
    "def best_model(model_name, model,\n",
    "               xtrain, numeric_features, numeric_transformer, \n",
    "               ytrain, params, scoring, xtest, ytest, \n",
    "               oversampling_strategy = 0.1, undersampling_strategy = 0.5, balanced = False):\n",
    "    \n",
    "    if balanced == False:\n",
    "        start = time.time()\n",
    "        model = pipeline_model(model = model,\n",
    "                               numeric_features = numeric_features,\n",
    "                               numeric_transformer = numeric_transformer)\n",
    "\n",
    "        # Optimisation via cross validation & GridSearch\n",
    "        best_model, best_params = optimize_and_train_model(pipeline_model = model,\n",
    "                                                           xtrain = xtrain[numeric_features],\n",
    "                                                           ytrain = ytrain,\n",
    "                                                           params = params,\n",
    "                                                           scoring = scoring)\n",
    "\n",
    "\n",
    "        duration = time.time() - start\n",
    "        \n",
    "    else:\n",
    "        \n",
    "        start = time.time()\n",
    "        model = pipeline_model_balanced(model, numeric_features, numeric_transformer,\n",
    "                                        oversampling_strategy = oversampling_strategy, \n",
    "                                        undersampling_strategy = undersampling_strategy)\n",
    "\n",
    "        # Optimisation via cross validation & GridSearch\n",
    "        best_model, best_params = optimize_and_train_model(pipeline_model = model,\n",
    "                                                           xtrain = xtrain[numeric_features],\n",
    "                                                           ytrain = ytrain,\n",
    "                                                           params = params,\n",
    "                                                           scoring = scoring)\n",
    "\n",
    "\n",
    "        duration = time.time() - start\n",
    "\n",
    "    \n",
    "    # Evaluation du modèle sur les données de test\n",
    "    (score_biz, recall, precision, accuracy, auc, y_pred) = eval_metrics(\n",
    "        best_model = best_model,\n",
    "        xtest = xtest[numeric_features],\n",
    "        ytest = ytest)\n",
    "    \n",
    "\n",
    "    matrice_confusion(ytest, y_pred, model_name)\n",
    "    \n",
    "    # Récap\n",
    "    dic_df_recap = {'Modèle':[model_name],\n",
    "                    'Features':[numeric_features],\n",
    "                    'Best_Params':[best_params],\n",
    "                    'Score_metier':[score_biz],\n",
    "                    'Recall':[recall], \n",
    "                    'Precision':[precision], \n",
    "                    'Accuracy':[accuracy], \n",
    "                    'AUC':[auc], \n",
    "                    \"Train_Time\": [duration],}\n",
    "    df_recap = pd.DataFrame(data = dic_df_recap)\n",
    "    display(df_recap)\n",
    "    \n",
    "    return best_model, df_recap"
   ]
  },
  {
   "cell_type": "markdown",
   "id": "dca89de8",
   "metadata": {
    "heading_collapsed": true
   },
   "source": [
    "### Modèle Baseline: Dummy classifier <a class=\"anchor\" id=\"dummy\"></a>"
   ]
  },
  {
   "cell_type": "markdown",
   "id": "7d074302",
   "metadata": {
    "hidden": true
   },
   "source": [
    "Ce classificateur fait des prédictions en utilisant des règles simples. Il est utile comme **base de référence simple** à comparer avec d'autres classificateurs et ne sera pas optimisé. Il ignore les variables en entrée et par conséquent, n'utilise aucune information provenant des features. Il n'y a donc **pas besoin de transformer au préalable nos features**."
   ]
  },
  {
   "cell_type": "code",
   "execution_count": 219,
   "id": "ea4cb041",
   "metadata": {
    "hidden": true
   },
   "outputs": [],
   "source": [
    "# Choix des features\n",
    "feats_dummy = feats\n",
    "feats_dummy_light = ['DAYS_EMPLOYED_PERC', 'CREDIT_GOODS_PERC', 'INCOME_CREDIT_PERC', 'INCOME_PER_PERSON','DEBT_RATIO', 'PAYMENT_RATE']"
   ]
  },
  {
   "cell_type": "code",
   "execution_count": 221,
   "id": "d0c45e14",
   "metadata": {
    "hidden": true
   },
   "outputs": [
    {
     "name": "stderr",
     "output_type": "stream",
     "text": [
      "C:\\Users\\milie\\anaconda3\\envs\\projet7\\lib\\site-packages\\sklearn\\metrics\\_classification.py:1344: UndefinedMetricWarning: Precision is ill-defined and being set to 0.0 due to no predicted samples. Use `zero_division` parameter to control this behavior.\n",
      "  _warn_prf(average, modifier, msg_start, len(result))\n"
     ]
    },
    {
     "data": {
      "image/png": "[encoded data removed]",
      "text/plain": [
       "<Figure size 500x500 with 1 Axes>"
      ]
     },
     "metadata": {},
     "output_type": "display_data"
    },
    {
     "data": {
      "text/html": [
       "<div>\n",
       "<style scoped>\n",
       "    .dataframe tbody tr th:only-of-type {\n",
       "        vertical-align: middle;\n",
       "    }\n",
       "\n",
       "    .dataframe tbody tr th {\n",
       "        vertical-align: top;\n",
       "    }\n",
       "\n",
       "    .dataframe thead th {\n",
       "        text-align: right;\n",
       "    }\n",
       "</style>\n",
       "<table border=\"1\" class=\"dataframe\">\n",
       "  <thead>\n",
       "    <tr style=\"text-align: right;\">\n",
       "      <th></th>\n",
       "      <th>Modèle</th>\n",
       "      <th>Features</th>\n",
       "      <th>Best_Params</th>\n",
       "      <th>Score_metier</th>\n",
       "      <th>Recall</th>\n",
       "      <th>Precision</th>\n",
       "      <th>Accuracy</th>\n",
       "      <th>AUC</th>\n",
       "      <th>Train_Time</th>\n",
       "    </tr>\n",
       "  </thead>\n",
       "  <tbody>\n",
       "    <tr>\n",
       "      <th>0</th>\n",
       "      <td>Baseline - Dummy classifier</td>\n",
       "      <td>[DAYS_EMPLOYED_PERC, CREDIT_GOODS_PERC, INCOME_CREDIT_PERC, INCOME_PER_PERSON, DEBT_RATIO, PAYMENT_RATE]</td>\n",
       "      <td>{'classifier__strategy': 'most_frequent'}</td>\n",
       "      <td>0.85</td>\n",
       "      <td>0.00</td>\n",
       "      <td>0.00</td>\n",
       "      <td>0.91</td>\n",
       "      <td>0.50</td>\n",
       "      <td>1.21</td>\n",
       "    </tr>\n",
       "  </tbody>\n",
       "</table>\n",
       "</div>"
      ],
      "text/plain": [
       "                        Modèle                                                                                                  Features                                Best_Params  Score_metier  Recall  Precision  Accuracy  AUC  Train_Time\n",
       "0  Baseline - Dummy classifier  [DAYS_EMPLOYED_PERC, CREDIT_GOODS_PERC, INCOME_CREDIT_PERC, INCOME_PER_PERSON, DEBT_RATIO, PAYMENT_RATE]  {'classifier__strategy': 'most_frequent'}          0.85    0.00       0.00      0.91 0.50        1.21"
      ]
     },
     "metadata": {},
     "output_type": "display_data"
    }
   ],
   "source": [
    "dummy, df_dummy = best_model(model_name = 'Baseline - Dummy classifier',\n",
    "                             model = DummyClassifier(random_state = 42),\n",
    "                             xtrain = X_train,\n",
    "                             numeric_features = feats_dummy_light,\n",
    "                             numeric_transformer = StandardScaler(),\n",
    "                             ytrain = y_train,\n",
    "                             params = {'classifier__strategy' : ['most_frequent', 'prior', 'stratified', 'uniform'],},\n",
    "                             scoring = make_scorer(score_metier),\n",
    "                             xtest = X_test,\n",
    "                             ytest = y_test,\n",
    "                             oversampling_strategy = 0.1, undersampling_strategy = 0.5, balanced = False)"
   ]
  },
  {
   "cell_type": "code",
   "execution_count": null,
   "id": "5ea8a6f7",
   "metadata": {
    "hidden": true
   },
   "outputs": [],
   "source": []
  },
  {
   "cell_type": "markdown",
   "id": "accb6025",
   "metadata": {
    "hidden": true
   },
   "source": [
    "**Démarche MLOps**"
   ]
  },
  {
   "cell_type": "code",
   "execution_count": null,
   "id": "e6e15f1e",
   "metadata": {
    "hidden": true
   },
   "outputs": [],
   "source": []
  },
  {
   "cell_type": "code",
   "execution_count": null,
   "id": "aece5ae7",
   "metadata": {
    "hidden": true
   },
   "outputs": [],
   "source": [
    "!mlflow --version"
   ]
  },
  {
   "cell_type": "code",
   "execution_count": null,
   "id": "8af3687e",
   "metadata": {
    "hidden": true
   },
   "outputs": [],
   "source": [
    "# Création du tracking cad où MLFlow sauvegarde les runs\n",
    "mlflow.set_tracking_uri(\"file:///Users/milie/01_PYTHON/4. OPEN_CLASSROOMS/07_PROJET_7/mlruns\")\n",
    "\n",
    "# Création d'un experiment\n",
    "experiment_id = mlflow.create_experiment(\"Training binary classifier\")\n",
    "\n",
    "\n",
    "with mlflow.start_run(experiment_id = experiment_id):\n",
    "    start_Dummy = time.time()\n",
    "    model = DummyClassifier()\n",
    "\n",
    "    # Sélection des hyperparamètres\n",
    "    params = {'strategy' : ['most_frequent', 'prior', 'stratified', 'uniform'],}\n",
    "    scoring = make_scorer(recall_score)\n",
    "\n",
    "    best_model_Dummy, best_params_Dummy = optimize_and_train_model(pipeline_model = model,\n",
    "                                                                    xtrain = X_train,\n",
    "                                                                    ytrain = y_train,\n",
    "                                                                    params = params,\n",
    "                                                                    scoring = scoring)\n",
    "\n",
    "\n",
    "    duration_Dummy = time.time() - start_Dummy\n",
    "    \n",
    "    # Evaluation du modèle\n",
    "    (recall, precision, accuracy, auc) = eval_metrics(best_model = best_model_Dummy,\n",
    "                                                      xtest = X_test,\n",
    "                                                      ytest = y_test)\n",
    "    \n",
    "    print(f\"DummyClassifier Model with param strategy = {best_params_Dummy['strategy']}\")\n",
    "    print()\n",
    "    print(f\"Recall: {recall:.2f}\")\n",
    "    print(f\"Precision: {precision:.2f}\")\n",
    "    print(f\"Accuracy: {accuracy:.2f}\")\n",
    "    print(f\"AUC: {auc:.2f}\")\n",
    "    print(f\"Train time: {duration_Dummy:.2f}\")\n",
    "    \n",
    "    # log des paramètres et scores à chaque fois que le modèle est lancé\n",
    "    mlflow.log_param(\"strategy\", best_params_Dummy['strategy'])\n",
    "    mlflow.log_metric(\"recall\", recall)\n",
    "    mlflow.log_metric(\"precision\", precision)\n",
    "    mlflow.log_metric(\"accuracy\", accuracy)\n",
    "    mlflow.log_metric(\"auc\", auc)\n",
    "    mlflow.log_metric(\"Tps_entrainement\", duration_Dummy)\n",
    "    \n",
    "    mlflow.sklearn.log_model(best_model_Dummy, \"dummyclassifier\")"
   ]
  },
  {
   "cell_type": "markdown",
   "id": "a70e1590",
   "metadata": {
    "heading_collapsed": true
   },
   "source": [
    "### Régression logistique <a class=\"anchor\" id=\"reglog\"></a>"
   ]
  },
  {
   "cell_type": "markdown",
   "id": "7246399d",
   "metadata": {
    "hidden": true
   },
   "source": [
    "<div class=\"alert alert-block alert-success\">\n",
    "    <p>Score métier</p>\n",
    "    <p>F bêta score</p>\n",
    "    <p>Fonction best_model</p>\n",
    "</div>"
   ]
  },
  {
   "cell_type": "markdown",
   "id": "4cd566d0",
   "metadata": {
    "hidden": true
   },
   "source": [
    "La régression logistique est un modèle statistique qui permet d'étudier la **relation entre une variable binaire** dite variable dépendante / cible et **une ou plusieurs variables indépendantes**.\n",
    "\n",
    "Il s'agit d'un **modèle linéaire** généralisé utilisant une fonction logistique comme fonction de lien. Il permet également de prédire la **probabilité qu'un événement arrive ou non** à partir de l'optimisation des coefficients de régression. Lorsque la valeur est > à un seuil, l'événement est susceptible de se produire alors que lorsque cette valeur est < au même seuil, il ne l'est pas.\n",
    "\n",
    "Nous allons tenter d'optimiser ce modèle en jouant sur les **features**, le traitement du **déséquilibre des classes** et les **hyperparamètres** via **cross validation** et **GridSearch**:\n",
    "- penalty: pénalité\n",
    "- solver: algorithme à utiliser pour l'optimisation\n",
    "- C : force de la pénalité (valeurs plus petites => régularisation plus forte)"
   ]
  },
  {
   "cell_type": "code",
   "execution_count": 91,
   "id": "4bfa2434",
   "metadata": {
    "hidden": true
   },
   "outputs": [],
   "source": [
    "# Choix des features\n",
    "feats_reglog = ['DAYS_EMPLOYED_PERC', 'CREDIT_GOODS_PERC', 'INCOME_CREDIT_PERC', 'INCOME_PER_PERSON',\n",
    "                'DEBT_RATIO', 'PAYMENT_RATE']"
   ]
  },
  {
   "cell_type": "markdown",
   "id": "44a9aa1e",
   "metadata": {
    "heading_collapsed": true,
    "hidden": true
   },
   "source": [
    "#### Modélisation sur données non équilibrées"
   ]
  },
  {
   "cell_type": "code",
   "execution_count": 211,
   "id": "00bbfce2",
   "metadata": {
    "hidden": true
   },
   "outputs": [
    {
     "name": "stderr",
     "output_type": "stream",
     "text": [
      "C:\\Users\\milie\\anaconda3\\envs\\projet7\\lib\\site-packages\\sklearn\\model_selection\\_validation.py:378: FitFailedWarning: \n",
      "25 fits failed out of a total of 100.\n",
      "The score on these train-test partitions for these parameters will be set to nan.\n",
      "If these failures are not expected, you can try to debug them by setting error_score='raise'.\n",
      "\n",
      "Below are more details about the failures:\n",
      "--------------------------------------------------------------------------------\n",
      "25 fits failed with the following error:\n",
      "Traceback (most recent call last):\n",
      "  File \"C:\\Users\\milie\\anaconda3\\envs\\projet7\\lib\\site-packages\\sklearn\\model_selection\\_validation.py\", line 686, in _fit_and_score\n",
      "    estimator.fit(X_train, y_train, **fit_params)\n",
      "  File \"C:\\Users\\milie\\anaconda3\\envs\\projet7\\lib\\site-packages\\imblearn\\pipeline.py\", line 297, in fit\n",
      "    self._final_estimator.fit(Xt, yt, **fit_params_last_step)\n",
      "  File \"C:\\Users\\milie\\anaconda3\\envs\\projet7\\lib\\site-packages\\sklearn\\linear_model\\_logistic.py\", line 1162, in fit\n",
      "    solver = _check_solver(self.solver, self.penalty, self.dual)\n",
      "  File \"C:\\Users\\milie\\anaconda3\\envs\\projet7\\lib\\site-packages\\sklearn\\linear_model\\_logistic.py\", line 54, in _check_solver\n",
      "    raise ValueError(\n",
      "ValueError: Solver lbfgs supports only 'l2' or 'none' penalties, got l1 penalty.\n",
      "\n",
      "  warnings.warn(some_fits_failed_message, FitFailedWarning)\n",
      "C:\\Users\\milie\\anaconda3\\envs\\projet7\\lib\\site-packages\\sklearn\\model_selection\\_search.py:952: UserWarning: One or more of the test scores are non-finite: [0.85176625 0.85176625        nan 0.85176625 0.85176625 0.85176625\n",
      "        nan 0.85176625 0.85176625 0.85176625        nan 0.85176625\n",
      " 0.85176625 0.85176625        nan 0.85176625 0.85176625 0.85176625\n",
      "        nan 0.85175777]\n",
      "  warnings.warn(\n"
     ]
    },
    {
     "data": {
      "image/png": "[encoded data removed]",
      "text/plain": [
       "<Figure size 500x500 with 1 Axes>"
      ]
     },
     "metadata": {},
     "output_type": "display_data"
    },
    {
     "data": {
      "text/html": [
       "<div>\n",
       "<style scoped>\n",
       "    .dataframe tbody tr th:only-of-type {\n",
       "        vertical-align: middle;\n",
       "    }\n",
       "\n",
       "    .dataframe tbody tr th {\n",
       "        vertical-align: top;\n",
       "    }\n",
       "\n",
       "    .dataframe thead th {\n",
       "        text-align: right;\n",
       "    }\n",
       "</style>\n",
       "<table border=\"1\" class=\"dataframe\">\n",
       "  <thead>\n",
       "    <tr style=\"text-align: right;\">\n",
       "      <th></th>\n",
       "      <th>Modèle</th>\n",
       "      <th>Features</th>\n",
       "      <th>Best_Params</th>\n",
       "      <th>Score_metier</th>\n",
       "      <th>Recall</th>\n",
       "      <th>Precision</th>\n",
       "      <th>Accuracy</th>\n",
       "      <th>AUC</th>\n",
       "      <th>Train_Time</th>\n",
       "    </tr>\n",
       "  </thead>\n",
       "  <tbody>\n",
       "    <tr>\n",
       "      <th>0</th>\n",
       "      <td>Régression Logistique</td>\n",
       "      <td>[DAYS_EMPLOYED_PERC, CREDIT_GOODS_PERC, INCOME_CREDIT_PERC, INCOME_PER_PERSON, DEBT_RATIO, PAYMENT_RATE]</td>\n",
       "      <td>{'classifier__C': 100, 'classifier__penalty': 'l2', 'classifier__solver': 'lbfgs'}</td>\n",
       "      <td>0.85</td>\n",
       "      <td>0.00</td>\n",
       "      <td>1.00</td>\n",
       "      <td>0.91</td>\n",
       "      <td>0.50</td>\n",
       "      <td>325.49</td>\n",
       "    </tr>\n",
       "  </tbody>\n",
       "</table>\n",
       "</div>"
      ],
      "text/plain": [
       "                  Modèle                                                                                                  Features                                                                         Best_Params  Score_metier  Recall  Precision  Accuracy  AUC  Train_Time\n",
       "0  Régression Logistique  [DAYS_EMPLOYED_PERC, CREDIT_GOODS_PERC, INCOME_CREDIT_PERC, INCOME_PER_PERSON, DEBT_RATIO, PAYMENT_RATE]  {'classifier__C': 100, 'classifier__penalty': 'l2', 'classifier__solver': 'lbfgs'}          0.85    0.00       1.00      0.91 0.50      325.49"
      ]
     },
     "metadata": {},
     "output_type": "display_data"
    }
   ],
   "source": [
    "reglog, df_reglog = best_model(model_name = 'Régression Logistique',\n",
    "                               model = LogisticRegression(max_iter = 200, random_state=42),\n",
    "                               xtrain = X_train,\n",
    "                               numeric_features = feats_reglog,\n",
    "                               numeric_transformer = StandardScaler(),\n",
    "                               ytrain = y_train,\n",
    "                               params = {\"classifier__penalty\": ['l2', 'l1'],\n",
    "                                         \"classifier__solver\": ['lbfgs', 'saga'],\n",
    "                                         \"classifier__C\": [100, 10, 1.0, 0.1, 0.01],},\n",
    "                               scoring = make_scorer(score_metier),\n",
    "                               xtest = X_test,\n",
    "                               ytest = y_test,\n",
    "                               oversampling_strategy = 0.1, undersampling_strategy = 0.5, balanced = False)"
   ]
  },
  {
   "cell_type": "markdown",
   "id": "7cc934b5",
   "metadata": {
    "heading_collapsed": true,
    "hidden": true
   },
   "source": [
    "#### Modélisation sur données rééquilibrées: pondération des classes "
   ]
  },
  {
   "cell_type": "markdown",
   "id": "730b8992",
   "metadata": {
    "hidden": true
   },
   "source": [
    "Chaque algorithme de classification SKlearn possède un paramètre appelé **class_weight** qui permet de gérer le déséquilibre des classes. Nous allons tester via la GridSearch avec le paramètre **'balanced'** (ajustement automatique des poids de manière inversement proportionnelle aux fréquences des classes dans les données d'entrée) et un **choix arbitraire de poids** (3 fois plus de poids pour les défaillants):"
   ]
  },
  {
   "cell_type": "code",
   "execution_count": 200,
   "id": "3984f863",
   "metadata": {
    "hidden": true,
    "scrolled": false
   },
   "outputs": [
    {
     "name": "stderr",
     "output_type": "stream",
     "text": [
      "C:\\Users\\milie\\anaconda3\\envs\\projet7\\lib\\site-packages\\sklearn\\linear_model\\_sag.py:350: ConvergenceWarning: The max_iter was reached which means the coef_ did not converge\n",
      "  warnings.warn(\n",
      "C:\\Users\\milie\\anaconda3\\envs\\projet7\\lib\\site-packages\\sklearn\\linear_model\\_sag.py:350: ConvergenceWarning: The max_iter was reached which means the coef_ did not converge\n",
      "  warnings.warn(\n",
      "C:\\Users\\milie\\anaconda3\\envs\\projet7\\lib\\site-packages\\sklearn\\linear_model\\_sag.py:350: ConvergenceWarning: The max_iter was reached which means the coef_ did not converge\n",
      "  warnings.warn(\n",
      "C:\\Users\\milie\\anaconda3\\envs\\projet7\\lib\\site-packages\\sklearn\\linear_model\\_sag.py:350: ConvergenceWarning: The max_iter was reached which means the coef_ did not converge\n",
      "  warnings.warn(\n",
      "C:\\Users\\milie\\anaconda3\\envs\\projet7\\lib\\site-packages\\sklearn\\linear_model\\_sag.py:350: ConvergenceWarning: The max_iter was reached which means the coef_ did not converge\n",
      "  warnings.warn(\n",
      "C:\\Users\\milie\\anaconda3\\envs\\projet7\\lib\\site-packages\\sklearn\\linear_model\\_sag.py:350: ConvergenceWarning: The max_iter was reached which means the coef_ did not converge\n",
      "  warnings.warn(\n",
      "C:\\Users\\milie\\anaconda3\\envs\\projet7\\lib\\site-packages\\sklearn\\linear_model\\_sag.py:350: ConvergenceWarning: The max_iter was reached which means the coef_ did not converge\n",
      "  warnings.warn(\n",
      "C:\\Users\\milie\\anaconda3\\envs\\projet7\\lib\\site-packages\\sklearn\\linear_model\\_sag.py:350: ConvergenceWarning: The max_iter was reached which means the coef_ did not converge\n",
      "  warnings.warn(\n",
      "C:\\Users\\milie\\anaconda3\\envs\\projet7\\lib\\site-packages\\sklearn\\linear_model\\_sag.py:350: ConvergenceWarning: The max_iter was reached which means the coef_ did not converge\n",
      "  warnings.warn(\n",
      "C:\\Users\\milie\\anaconda3\\envs\\projet7\\lib\\site-packages\\sklearn\\linear_model\\_sag.py:350: ConvergenceWarning: The max_iter was reached which means the coef_ did not converge\n",
      "  warnings.warn(\n",
      "C:\\Users\\milie\\anaconda3\\envs\\projet7\\lib\\site-packages\\sklearn\\linear_model\\_sag.py:350: ConvergenceWarning: The max_iter was reached which means the coef_ did not converge\n",
      "  warnings.warn(\n",
      "C:\\Users\\milie\\anaconda3\\envs\\projet7\\lib\\site-packages\\sklearn\\linear_model\\_sag.py:350: ConvergenceWarning: The max_iter was reached which means the coef_ did not converge\n",
      "  warnings.warn(\n",
      "C:\\Users\\milie\\anaconda3\\envs\\projet7\\lib\\site-packages\\sklearn\\linear_model\\_sag.py:350: ConvergenceWarning: The max_iter was reached which means the coef_ did not converge\n",
      "  warnings.warn(\n",
      "C:\\Users\\milie\\anaconda3\\envs\\projet7\\lib\\site-packages\\sklearn\\linear_model\\_sag.py:350: ConvergenceWarning: The max_iter was reached which means the coef_ did not converge\n",
      "  warnings.warn(\n",
      "C:\\Users\\milie\\anaconda3\\envs\\projet7\\lib\\site-packages\\sklearn\\linear_model\\_sag.py:350: ConvergenceWarning: The max_iter was reached which means the coef_ did not converge\n",
      "  warnings.warn(\n",
      "C:\\Users\\milie\\anaconda3\\envs\\projet7\\lib\\site-packages\\sklearn\\linear_model\\_sag.py:350: ConvergenceWarning: The max_iter was reached which means the coef_ did not converge\n",
      "  warnings.warn(\n",
      "C:\\Users\\milie\\anaconda3\\envs\\projet7\\lib\\site-packages\\sklearn\\linear_model\\_sag.py:350: ConvergenceWarning: The max_iter was reached which means the coef_ did not converge\n",
      "  warnings.warn(\n",
      "C:\\Users\\milie\\anaconda3\\envs\\projet7\\lib\\site-packages\\sklearn\\linear_model\\_sag.py:350: ConvergenceWarning: The max_iter was reached which means the coef_ did not converge\n",
      "  warnings.warn(\n",
      "C:\\Users\\milie\\anaconda3\\envs\\projet7\\lib\\site-packages\\sklearn\\linear_model\\_sag.py:350: ConvergenceWarning: The max_iter was reached which means the coef_ did not converge\n",
      "  warnings.warn(\n",
      "C:\\Users\\milie\\anaconda3\\envs\\projet7\\lib\\site-packages\\sklearn\\linear_model\\_sag.py:350: ConvergenceWarning: The max_iter was reached which means the coef_ did not converge\n",
      "  warnings.warn(\n",
      "C:\\Users\\milie\\anaconda3\\envs\\projet7\\lib\\site-packages\\sklearn\\linear_model\\_sag.py:350: ConvergenceWarning: The max_iter was reached which means the coef_ did not converge\n",
      "  warnings.warn(\n",
      "C:\\Users\\milie\\anaconda3\\envs\\projet7\\lib\\site-packages\\sklearn\\linear_model\\_sag.py:350: ConvergenceWarning: The max_iter was reached which means the coef_ did not converge\n",
      "  warnings.warn(\n",
      "C:\\Users\\milie\\anaconda3\\envs\\projet7\\lib\\site-packages\\sklearn\\linear_model\\_sag.py:350: ConvergenceWarning: The max_iter was reached which means the coef_ did not converge\n",
      "  warnings.warn(\n",
      "C:\\Users\\milie\\anaconda3\\envs\\projet7\\lib\\site-packages\\sklearn\\linear_model\\_sag.py:350: ConvergenceWarning: The max_iter was reached which means the coef_ did not converge\n",
      "  warnings.warn(\n",
      "C:\\Users\\milie\\anaconda3\\envs\\projet7\\lib\\site-packages\\sklearn\\linear_model\\_sag.py:350: ConvergenceWarning: The max_iter was reached which means the coef_ did not converge\n",
      "  warnings.warn(\n",
      "C:\\Users\\milie\\anaconda3\\envs\\projet7\\lib\\site-packages\\sklearn\\linear_model\\_sag.py:350: ConvergenceWarning: The max_iter was reached which means the coef_ did not converge\n",
      "  warnings.warn(\n",
      "C:\\Users\\milie\\anaconda3\\envs\\projet7\\lib\\site-packages\\sklearn\\linear_model\\_sag.py:350: ConvergenceWarning: The max_iter was reached which means the coef_ did not converge\n",
      "  warnings.warn(\n",
      "C:\\Users\\milie\\anaconda3\\envs\\projet7\\lib\\site-packages\\sklearn\\linear_model\\_sag.py:350: ConvergenceWarning: The max_iter was reached which means the coef_ did not converge\n",
      "  warnings.warn(\n",
      "C:\\Users\\milie\\anaconda3\\envs\\projet7\\lib\\site-packages\\sklearn\\linear_model\\_sag.py:350: ConvergenceWarning: The max_iter was reached which means the coef_ did not converge\n",
      "  warnings.warn(\n",
      "C:\\Users\\milie\\anaconda3\\envs\\projet7\\lib\\site-packages\\sklearn\\linear_model\\_sag.py:350: ConvergenceWarning: The max_iter was reached which means the coef_ did not converge\n",
      "  warnings.warn(\n",
      "C:\\Users\\milie\\anaconda3\\envs\\projet7\\lib\\site-packages\\sklearn\\linear_model\\_sag.py:350: ConvergenceWarning: The max_iter was reached which means the coef_ did not converge\n",
      "  warnings.warn(\n",
      "C:\\Users\\milie\\anaconda3\\envs\\projet7\\lib\\site-packages\\sklearn\\linear_model\\_sag.py:350: ConvergenceWarning: The max_iter was reached which means the coef_ did not converge\n",
      "  warnings.warn(\n",
      "C:\\Users\\milie\\anaconda3\\envs\\projet7\\lib\\site-packages\\sklearn\\linear_model\\_sag.py:350: ConvergenceWarning: The max_iter was reached which means the coef_ did not converge\n",
      "  warnings.warn(\n",
      "C:\\Users\\milie\\anaconda3\\envs\\projet7\\lib\\site-packages\\sklearn\\linear_model\\_sag.py:350: ConvergenceWarning: The max_iter was reached which means the coef_ did not converge\n",
      "  warnings.warn(\n",
      "C:\\Users\\milie\\anaconda3\\envs\\projet7\\lib\\site-packages\\sklearn\\linear_model\\_sag.py:350: ConvergenceWarning: The max_iter was reached which means the coef_ did not converge\n",
      "  warnings.warn(\n",
      "C:\\Users\\milie\\anaconda3\\envs\\projet7\\lib\\site-packages\\sklearn\\linear_model\\_sag.py:350: ConvergenceWarning: The max_iter was reached which means the coef_ did not converge\n",
      "  warnings.warn(\n",
      "C:\\Users\\milie\\anaconda3\\envs\\projet7\\lib\\site-packages\\sklearn\\linear_model\\_sag.py:350: ConvergenceWarning: The max_iter was reached which means the coef_ did not converge\n",
      "  warnings.warn(\n",
      "C:\\Users\\milie\\anaconda3\\envs\\projet7\\lib\\site-packages\\sklearn\\linear_model\\_sag.py:350: ConvergenceWarning: The max_iter was reached which means the coef_ did not converge\n",
      "  warnings.warn(\n",
      "C:\\Users\\milie\\anaconda3\\envs\\projet7\\lib\\site-packages\\sklearn\\linear_model\\_sag.py:350: ConvergenceWarning: The max_iter was reached which means the coef_ did not converge\n",
      "  warnings.warn(\n",
      "C:\\Users\\milie\\anaconda3\\envs\\projet7\\lib\\site-packages\\sklearn\\linear_model\\_sag.py:350: ConvergenceWarning: The max_iter was reached which means the coef_ did not converge\n",
      "  warnings.warn(\n",
      "C:\\Users\\milie\\anaconda3\\envs\\projet7\\lib\\site-packages\\sklearn\\model_selection\\_validation.py:378: FitFailedWarning: \n",
      "125 fits failed out of a total of 200.\n",
      "The score on these train-test partitions for these parameters will be set to nan.\n",
      "If these failures are not expected, you can try to debug them by setting error_score='raise'.\n",
      "\n",
      "Below are more details about the failures:\n",
      "--------------------------------------------------------------------------------\n",
      "25 fits failed with the following error:\n",
      "Traceback (most recent call last):\n",
      "  File \"C:\\Users\\milie\\anaconda3\\envs\\projet7\\lib\\site-packages\\sklearn\\model_selection\\_validation.py\", line 686, in _fit_and_score\n",
      "    estimator.fit(X_train, y_train, **fit_params)\n",
      "  File \"C:\\Users\\milie\\anaconda3\\envs\\projet7\\lib\\site-packages\\imblearn\\pipeline.py\", line 297, in fit\n",
      "    self._final_estimator.fit(Xt, yt, **fit_params_last_step)\n",
      "  File \"C:\\Users\\milie\\anaconda3\\envs\\projet7\\lib\\site-packages\\sklearn\\linear_model\\_logistic.py\", line 1162, in fit\n",
      "    solver = _check_solver(self.solver, self.penalty, self.dual)\n",
      "  File \"C:\\Users\\milie\\anaconda3\\envs\\projet7\\lib\\site-packages\\sklearn\\linear_model\\_logistic.py\", line 54, in _check_solver\n",
      "    raise ValueError(\n",
      "ValueError: Solver lbfgs supports only 'l2' or 'none' penalties, got l1 penalty.\n",
      "\n",
      "--------------------------------------------------------------------------------\n",
      "100 fits failed with the following error:\n",
      "Traceback (most recent call last):\n",
      "  File \"C:\\Users\\milie\\anaconda3\\envs\\projet7\\lib\\site-packages\\sklearn\\model_selection\\_validation.py\", line 686, in _fit_and_score\n",
      "    estimator.fit(X_train, y_train, **fit_params)\n",
      "  File \"C:\\Users\\milie\\anaconda3\\envs\\projet7\\lib\\site-packages\\imblearn\\pipeline.py\", line 297, in fit\n",
      "    self._final_estimator.fit(Xt, yt, **fit_params_last_step)\n",
      "  File \"C:\\Users\\milie\\anaconda3\\envs\\projet7\\lib\\site-packages\\sklearn\\linear_model\\_logistic.py\", line 1160, in fit\n",
      "    self._validate_params()\n",
      "  File \"C:\\Users\\milie\\anaconda3\\envs\\projet7\\lib\\site-packages\\sklearn\\base.py\", line 600, in _validate_params\n",
      "    validate_parameter_constraints(\n",
      "  File \"C:\\Users\\milie\\anaconda3\\envs\\projet7\\lib\\site-packages\\sklearn\\utils\\_param_validation.py\", line 97, in validate_parameter_constraints\n",
      "    raise InvalidParameterError(\n",
      "sklearn.utils._param_validation.InvalidParameterError: The 'class_weight' parameter of LogisticRegression must be an instance of 'dict', a str among {'balanced'} or None. Got '{0:1, 1:3}' instead.\n",
      "\n",
      "  warnings.warn(some_fits_failed_message, FitFailedWarning)\n",
      "C:\\Users\\milie\\anaconda3\\envs\\projet7\\lib\\site-packages\\sklearn\\model_selection\\_search.py:952: UserWarning: One or more of the test scores are non-finite: [0.56560857 0.56577994        nan 0.56577531        nan        nan\n",
      "        nan        nan 0.56560857 0.56577994        nan 0.56577531\n",
      "        nan        nan        nan        nan 0.56560857 0.56577993\n",
      "        nan 0.56579768        nan        nan        nan        nan\n",
      " 0.56560394 0.56577993        nan 0.56585008        nan        nan\n",
      "        nan        nan 0.56564631 0.56583462        nan 0.56572894\n",
      "        nan        nan        nan        nan]\n",
      "  warnings.warn(\n"
     ]
    },
    {
     "name": "stderr",
     "output_type": "stream",
     "text": [
      "C:\\Users\\milie\\anaconda3\\envs\\projet7\\lib\\site-packages\\sklearn\\linear_model\\_sag.py:350: ConvergenceWarning: The max_iter was reached which means the coef_ did not converge\n",
      "  warnings.warn(\n"
     ]
    },
    {
     "data": {
      "image/png": "[encoded data removed]",
      "text/plain": [
       "<Figure size 500x500 with 1 Axes>"
      ]
     },
     "metadata": {},
     "output_type": "display_data"
    },
    {
     "data": {
      "text/html": [
       "<div>\n",
       "<style scoped>\n",
       "    .dataframe tbody tr th:only-of-type {\n",
       "        vertical-align: middle;\n",
       "    }\n",
       "\n",
       "    .dataframe tbody tr th {\n",
       "        vertical-align: top;\n",
       "    }\n",
       "\n",
       "    .dataframe thead th {\n",
       "        text-align: right;\n",
       "    }\n",
       "</style>\n",
       "<table border=\"1\" class=\"dataframe\">\n",
       "  <thead>\n",
       "    <tr style=\"text-align: right;\">\n",
       "      <th></th>\n",
       "      <th>Modèle</th>\n",
       "      <th>Features</th>\n",
       "      <th>Best_Params</th>\n",
       "      <th>Score_metier</th>\n",
       "      <th>Recall</th>\n",
       "      <th>Precision</th>\n",
       "      <th>Accuracy</th>\n",
       "      <th>AUC</th>\n",
       "      <th>Train_Time</th>\n",
       "    </tr>\n",
       "  </thead>\n",
       "  <tbody>\n",
       "    <tr>\n",
       "      <th>0</th>\n",
       "      <td>Régression Logistique</td>\n",
       "      <td>[DAYS_EMPLOYED_PERC, CREDIT_GOODS_PERC, INCOME_CREDIT_PERC, INCOME_PER_PERSON, DEBT_RATIO, PAYMENT_RATE]</td>\n",
       "      <td>{'classifier__C': 0.1, 'classifier__class_weight': 'balanced', 'classifier__penalty': 'l1', 'classifier__solver': 'saga'}</td>\n",
       "      <td>0.57</td>\n",
       "      <td>0.59</td>\n",
       "      <td>0.11</td>\n",
       "      <td>0.56</td>\n",
       "      <td>0.57</td>\n",
       "      <td>736.88</td>\n",
       "    </tr>\n",
       "  </tbody>\n",
       "</table>\n",
       "</div>"
      ],
      "text/plain": [
       "                  Modèle                                                                                                  Features                                                                                                                Best_Params  Score_metier  Recall  Precision  Accuracy  \\\n",
       "0  Régression Logistique  [DAYS_EMPLOYED_PERC, CREDIT_GOODS_PERC, INCOME_CREDIT_PERC, INCOME_PER_PERSON, DEBT_RATIO, PAYMENT_RATE]  {'classifier__C': 0.1, 'classifier__class_weight': 'balanced', 'classifier__penalty': 'l1', 'classifier__solver': 'saga'}          0.57    0.59       0.11      0.56   \n",
       "\n",
       "   AUC  Train_Time  \n",
       "0 0.57      736.88  "
      ]
     },
     "metadata": {},
     "output_type": "display_data"
    }
   ],
   "source": [
    "reglog_cw, df_reglog_cw = best_model(model_name = 'Régression Logistique',\n",
    "                                     model = LogisticRegression(max_iter = 200, random_state=42),\n",
    "                                     xtrain = X_train,\n",
    "                                     numeric_features = feats_reglog,\n",
    "                                     numeric_transformer = StandardScaler(),\n",
    "                                     ytrain = y_train,\n",
    "                               params={\"classifier__penalty\": ['l2', 'l1'],\n",
    "                                       \"classifier__solver\": ['lbfgs', 'saga'],\n",
    "                                       \"classifier__C\": [100, 10, 1.0, 0.1, 0.01],\n",
    "                                       \"classifier__class_weight\": ['balanced', '{0:1, 1:3}']},\n",
    "                               scoring = make_scorer(score_metier),\n",
    "                               xtest = X_test,\n",
    "                               ytest = y_test,\n",
    "                               oversampling_strategy = 0.1, undersampling_strategy = 0.5, balanced = False)"
   ]
  },
  {
   "cell_type": "markdown",
   "id": "29ab11b0",
   "metadata": {
    "heading_collapsed": true,
    "hidden": true
   },
   "source": [
    "#### Modélisation sur données rééquilibrées: sous échantillonage + SMOTE"
   ]
  },
  {
   "cell_type": "markdown",
   "id": "f36d2ae0",
   "metadata": {
    "hidden": true
   },
   "source": [
    "Avec sur-échantillonnage de la classe minoritaire (10% de la classe majoritaire ~= 23000) et sous échantillonnage pour réduire la classe majoritaire (50% de plus que la classe minoritaire ~= 46000):"
   ]
  },
  {
   "cell_type": "code",
   "execution_count": 208,
   "id": "953bccbb",
   "metadata": {
    "hidden": true
   },
   "outputs": [
    {
     "name": "stderr",
     "output_type": "stream",
     "text": [
      "C:\\Users\\milie\\anaconda3\\envs\\projet7\\lib\\site-packages\\sklearn\\model_selection\\_validation.py:378: FitFailedWarning: \n",
      "25 fits failed out of a total of 100.\n",
      "The score on these train-test partitions for these parameters will be set to nan.\n",
      "If these failures are not expected, you can try to debug them by setting error_score='raise'.\n",
      "\n",
      "Below are more details about the failures:\n",
      "--------------------------------------------------------------------------------\n",
      "25 fits failed with the following error:\n",
      "Traceback (most recent call last):\n",
      "  File \"C:\\Users\\milie\\anaconda3\\envs\\projet7\\lib\\site-packages\\sklearn\\model_selection\\_validation.py\", line 686, in _fit_and_score\n",
      "    estimator.fit(X_train, y_train, **fit_params)\n",
      "  File \"C:\\Users\\milie\\anaconda3\\envs\\projet7\\lib\\site-packages\\imblearn\\pipeline.py\", line 297, in fit\n",
      "    self._final_estimator.fit(Xt, yt, **fit_params_last_step)\n",
      "  File \"C:\\Users\\milie\\anaconda3\\envs\\projet7\\lib\\site-packages\\sklearn\\linear_model\\_logistic.py\", line 1162, in fit\n",
      "    solver = _check_solver(self.solver, self.penalty, self.dual)\n",
      "  File \"C:\\Users\\milie\\anaconda3\\envs\\projet7\\lib\\site-packages\\sklearn\\linear_model\\_logistic.py\", line 54, in _check_solver\n",
      "    raise ValueError(\n",
      "ValueError: Solver lbfgs supports only 'l2' or 'none' penalties, got l1 penalty.\n",
      "\n",
      "  warnings.warn(some_fits_failed_message, FitFailedWarning)\n",
      "C:\\Users\\milie\\anaconda3\\envs\\projet7\\lib\\site-packages\\sklearn\\model_selection\\_search.py:952: UserWarning: One or more of the test scores are non-finite: [0.84375504 0.84374194        nan 0.84374194 0.84375967 0.84374656\n",
      "        nan 0.84374656 0.84375582 0.84375118        nan 0.84378433\n",
      " 0.84383214 0.84382673        nan 0.84407101 0.84438845 0.84438921\n",
      "        nan 0.84571159]\n",
      "  warnings.warn(\n"
     ]
    },
    {
     "data": {
      "image/png": "[encoded data removed]",
      "text/plain": [
       "<Figure size 500x500 with 1 Axes>"
      ]
     },
     "metadata": {},
     "output_type": "display_data"
    },
    {
     "data": {
      "text/html": [
       "<div>\n",
       "<style scoped>\n",
       "    .dataframe tbody tr th:only-of-type {\n",
       "        vertical-align: middle;\n",
       "    }\n",
       "\n",
       "    .dataframe tbody tr th {\n",
       "        vertical-align: top;\n",
       "    }\n",
       "\n",
       "    .dataframe thead th {\n",
       "        text-align: right;\n",
       "    }\n",
       "</style>\n",
       "<table border=\"1\" class=\"dataframe\">\n",
       "  <thead>\n",
       "    <tr style=\"text-align: right;\">\n",
       "      <th></th>\n",
       "      <th>Modèle</th>\n",
       "      <th>Features</th>\n",
       "      <th>Best_Params</th>\n",
       "      <th>Score_metier</th>\n",
       "      <th>Recall</th>\n",
       "      <th>Precision</th>\n",
       "      <th>Accuracy</th>\n",
       "      <th>AUC</th>\n",
       "      <th>Train_Time</th>\n",
       "    </tr>\n",
       "  </thead>\n",
       "  <tbody>\n",
       "    <tr>\n",
       "      <th>0</th>\n",
       "      <td>Régression Logistique</td>\n",
       "      <td>[DAYS_EMPLOYED_PERC, CREDIT_GOODS_PERC, INCOME_CREDIT_PERC, INCOME_PER_PERSON, DEBT_RATIO, PAYMENT_RATE]</td>\n",
       "      <td>{'classifier__C': 0.01, 'classifier__penalty': 'l1', 'classifier__solver': 'saga'}</td>\n",
       "      <td>0.85</td>\n",
       "      <td>0.03</td>\n",
       "      <td>0.20</td>\n",
       "      <td>0.91</td>\n",
       "      <td>0.51</td>\n",
       "      <td>71.56</td>\n",
       "    </tr>\n",
       "  </tbody>\n",
       "</table>\n",
       "</div>"
      ],
      "text/plain": [
       "                  Modèle                                                                                                  Features                                                                         Best_Params  Score_metier  Recall  Precision  Accuracy  AUC  Train_Time\n",
       "0  Régression Logistique  [DAYS_EMPLOYED_PERC, CREDIT_GOODS_PERC, INCOME_CREDIT_PERC, INCOME_PER_PERSON, DEBT_RATIO, PAYMENT_RATE]  {'classifier__C': 0.01, 'classifier__penalty': 'l1', 'classifier__solver': 'saga'}          0.85    0.03       0.20      0.91 0.51       71.56"
      ]
     },
     "metadata": {},
     "output_type": "display_data"
    }
   ],
   "source": [
    "reglog_smote, df_reglog_smote = best_model(model_name = 'Régression Logistique',\n",
    "                                           model = LogisticRegression(max_iter = 200, random_state=42),\n",
    "                                           xtrain = X_train,\n",
    "                                     numeric_features = feats_reglog,\n",
    "                                     numeric_transformer = StandardScaler(),\n",
    "                                     ytrain = y_train,\n",
    "                               params={\"classifier__penalty\": ['l2', 'l1'],\n",
    "                                       \"classifier__solver\": ['lbfgs', 'saga'],\n",
    "                                       \"classifier__C\": [100, 10, 1.0, 0.1, 0.01],},\n",
    "                               scoring = make_scorer(score_metier),\n",
    "                               xtest = X_test,\n",
    "                               ytest = y_test,\n",
    "                               oversampling_strategy = 0.1, undersampling_strategy = 0.5, balanced = True)"
   ]
  },
  {
   "cell_type": "markdown",
   "id": "dad39438",
   "metadata": {
    "hidden": true
   },
   "source": [
    "Avec sur-échantillonnage de la classe minoritaire (20% de la classe majoritaire) et sous échantillonnage pour réduire la classe majoritaire (30% de plus que la classe minoritaire):"
   ]
  },
  {
   "cell_type": "code",
   "execution_count": 209,
   "id": "61875b8c",
   "metadata": {
    "hidden": true
   },
   "outputs": [
    {
     "name": "stderr",
     "output_type": "stream",
     "text": [
      "C:\\Users\\milie\\anaconda3\\envs\\projet7\\lib\\site-packages\\sklearn\\model_selection\\_validation.py:378: FitFailedWarning: \n",
      "25 fits failed out of a total of 100.\n",
      "The score on these train-test partitions for these parameters will be set to nan.\n",
      "If these failures are not expected, you can try to debug them by setting error_score='raise'.\n",
      "\n",
      "Below are more details about the failures:\n",
      "--------------------------------------------------------------------------------\n",
      "25 fits failed with the following error:\n",
      "Traceback (most recent call last):\n",
      "  File \"C:\\Users\\milie\\anaconda3\\envs\\projet7\\lib\\site-packages\\sklearn\\model_selection\\_validation.py\", line 686, in _fit_and_score\n",
      "    estimator.fit(X_train, y_train, **fit_params)\n",
      "  File \"C:\\Users\\milie\\anaconda3\\envs\\projet7\\lib\\site-packages\\imblearn\\pipeline.py\", line 297, in fit\n",
      "    self._final_estimator.fit(Xt, yt, **fit_params_last_step)\n",
      "  File \"C:\\Users\\milie\\anaconda3\\envs\\projet7\\lib\\site-packages\\sklearn\\linear_model\\_logistic.py\", line 1162, in fit\n",
      "    solver = _check_solver(self.solver, self.penalty, self.dual)\n",
      "  File \"C:\\Users\\milie\\anaconda3\\envs\\projet7\\lib\\site-packages\\sklearn\\linear_model\\_logistic.py\", line 54, in _check_solver\n",
      "    raise ValueError(\n",
      "ValueError: Solver lbfgs supports only 'l2' or 'none' penalties, got l1 penalty.\n",
      "\n",
      "  warnings.warn(some_fits_failed_message, FitFailedWarning)\n",
      "C:\\Users\\milie\\anaconda3\\envs\\projet7\\lib\\site-packages\\sklearn\\model_selection\\_search.py:952: UserWarning: One or more of the test scores are non-finite: [0.85172848 0.85172848        nan 0.85172848 0.85172848 0.85172848\n",
      "        nan 0.85172848 0.85172848 0.85172848        nan 0.85172848\n",
      " 0.85172848 0.85172848        nan 0.85172848 0.85172848 0.85172848\n",
      "        nan 0.8517331 ]\n",
      "  warnings.warn(\n"
     ]
    },
    {
     "data": {
      "image/png": "[encoded data removed]",
      "text/plain": [
       "<Figure size 500x500 with 1 Axes>"
      ]
     },
     "metadata": {},
     "output_type": "display_data"
    },
    {
     "data": {
      "text/html": [
       "<div>\n",
       "<style scoped>\n",
       "    .dataframe tbody tr th:only-of-type {\n",
       "        vertical-align: middle;\n",
       "    }\n",
       "\n",
       "    .dataframe tbody tr th {\n",
       "        vertical-align: top;\n",
       "    }\n",
       "\n",
       "    .dataframe thead th {\n",
       "        text-align: right;\n",
       "    }\n",
       "</style>\n",
       "<table border=\"1\" class=\"dataframe\">\n",
       "  <thead>\n",
       "    <tr style=\"text-align: right;\">\n",
       "      <th></th>\n",
       "      <th>Modèle</th>\n",
       "      <th>Features</th>\n",
       "      <th>Best_Params</th>\n",
       "      <th>Score_metier</th>\n",
       "      <th>Recall</th>\n",
       "      <th>Precision</th>\n",
       "      <th>Accuracy</th>\n",
       "      <th>AUC</th>\n",
       "      <th>Train_Time</th>\n",
       "    </tr>\n",
       "  </thead>\n",
       "  <tbody>\n",
       "    <tr>\n",
       "      <th>0</th>\n",
       "      <td>Régression Logistique</td>\n",
       "      <td>[DAYS_EMPLOYED_PERC, CREDIT_GOODS_PERC, INCOME_CREDIT_PERC, INCOME_PER_PERSON, DEBT_RATIO, PAYMENT_RATE]</td>\n",
       "      <td>{'classifier__C': 0.01, 'classifier__penalty': 'l1', 'classifier__solver': 'saga'}</td>\n",
       "      <td>0.85</td>\n",
       "      <td>0.00</td>\n",
       "      <td>0.20</td>\n",
       "      <td>0.91</td>\n",
       "      <td>0.50</td>\n",
       "      <td>348.03</td>\n",
       "    </tr>\n",
       "  </tbody>\n",
       "</table>\n",
       "</div>"
      ],
      "text/plain": [
       "                  Modèle                                                                                                  Features                                                                         Best_Params  Score_metier  Recall  Precision  Accuracy  AUC  Train_Time\n",
       "0  Régression Logistique  [DAYS_EMPLOYED_PERC, CREDIT_GOODS_PERC, INCOME_CREDIT_PERC, INCOME_PER_PERSON, DEBT_RATIO, PAYMENT_RATE]  {'classifier__C': 0.01, 'classifier__penalty': 'l1', 'classifier__solver': 'saga'}          0.85    0.00       0.20      0.91 0.50      348.03"
      ]
     },
     "metadata": {},
     "output_type": "display_data"
    }
   ],
   "source": [
    "reglog_smote2, df_reglog_smote2 = best_model(model_name = 'Régression Logistique',\n",
    "                                             model = LogisticRegression(max_iter = 200, random_state=42),\n",
    "                                             xtrain = X_train,\n",
    "                                             numeric_features = feats_reglog,\n",
    "                                             numeric_transformer = StandardScaler(),\n",
    "                                             ytrain = y_train,\n",
    "                                             params={\"classifier__penalty\": ['l2', 'l1'],\n",
    "                                                     \"classifier__solver\": ['lbfgs', 'saga'],\n",
    "                                                     \"classifier__C\": [100, 10, 1.0, 0.1, 0.01],},\n",
    "                                             scoring = make_scorer(score_metier),\n",
    "                                             xtest = X_test,\n",
    "                                             ytest = y_test,\n",
    "                                             oversampling_strategy = 0.2, undersampling_strategy = 0.3, balanced = True)"
   ]
  },
  {
   "cell_type": "markdown",
   "id": "9787ac2b",
   "metadata": {
    "hidden": true
   },
   "source": [
    "Avec sur-échantillonnage de la classe minoritaire (10% de la classe majoritaire) et sous échantillonnage pour réduire la classe majoritaire (60% de plus que la classe minoritaire):"
   ]
  },
  {
   "cell_type": "code",
   "execution_count": 212,
   "id": "d07397ec",
   "metadata": {
    "hidden": true
   },
   "outputs": [
    {
     "name": "stderr",
     "output_type": "stream",
     "text": [
      "C:\\Users\\milie\\anaconda3\\envs\\projet7\\lib\\site-packages\\sklearn\\model_selection\\_validation.py:378: FitFailedWarning: \n",
      "25 fits failed out of a total of 100.\n",
      "The score on these train-test partitions for these parameters will be set to nan.\n",
      "If these failures are not expected, you can try to debug them by setting error_score='raise'.\n",
      "\n",
      "Below are more details about the failures:\n",
      "--------------------------------------------------------------------------------\n",
      "25 fits failed with the following error:\n",
      "Traceback (most recent call last):\n",
      "  File \"C:\\Users\\milie\\anaconda3\\envs\\projet7\\lib\\site-packages\\sklearn\\model_selection\\_validation.py\", line 686, in _fit_and_score\n",
      "    estimator.fit(X_train, y_train, **fit_params)\n",
      "  File \"C:\\Users\\milie\\anaconda3\\envs\\projet7\\lib\\site-packages\\imblearn\\pipeline.py\", line 297, in fit\n",
      "    self._final_estimator.fit(Xt, yt, **fit_params_last_step)\n",
      "  File \"C:\\Users\\milie\\anaconda3\\envs\\projet7\\lib\\site-packages\\sklearn\\linear_model\\_logistic.py\", line 1162, in fit\n",
      "    solver = _check_solver(self.solver, self.penalty, self.dual)\n",
      "  File \"C:\\Users\\milie\\anaconda3\\envs\\projet7\\lib\\site-packages\\sklearn\\linear_model\\_logistic.py\", line 54, in _check_solver\n",
      "    raise ValueError(\n",
      "ValueError: Solver lbfgs supports only 'l2' or 'none' penalties, got l1 penalty.\n",
      "\n",
      "  warnings.warn(some_fits_failed_message, FitFailedWarning)\n",
      "C:\\Users\\milie\\anaconda3\\envs\\projet7\\lib\\site-packages\\sklearn\\model_selection\\_search.py:952: UserWarning: One or more of the test scores are non-finite: [0.82184357 0.8218451         nan 0.8218451  0.82184819 0.82184972\n",
      "        nan 0.82186358 0.82184973 0.82188208        nan 0.82190288\n",
      " 0.82199002 0.82199076        nan 0.82254102 0.82317681 0.82318605\n",
      "        nan 0.82711613]\n",
      "  warnings.warn(\n"
     ]
    },
    {
     "data": {
      "image/png": "[encoded data removed]",
      "text/plain": [
       "<Figure size 500x500 with 1 Axes>"
      ]
     },
     "metadata": {},
     "output_type": "display_data"
    },
    {
     "data": {
      "text/html": [
       "<div>\n",
       "<style scoped>\n",
       "    .dataframe tbody tr th:only-of-type {\n",
       "        vertical-align: middle;\n",
       "    }\n",
       "\n",
       "    .dataframe tbody tr th {\n",
       "        vertical-align: top;\n",
       "    }\n",
       "\n",
       "    .dataframe thead th {\n",
       "        text-align: right;\n",
       "    }\n",
       "</style>\n",
       "<table border=\"1\" class=\"dataframe\">\n",
       "  <thead>\n",
       "    <tr style=\"text-align: right;\">\n",
       "      <th></th>\n",
       "      <th>Modèle</th>\n",
       "      <th>Features</th>\n",
       "      <th>Best_Params</th>\n",
       "      <th>Score_metier</th>\n",
       "      <th>Recall</th>\n",
       "      <th>Precision</th>\n",
       "      <th>Accuracy</th>\n",
       "      <th>AUC</th>\n",
       "      <th>Train_Time</th>\n",
       "    </tr>\n",
       "  </thead>\n",
       "  <tbody>\n",
       "    <tr>\n",
       "      <th>0</th>\n",
       "      <td>Régression Logistique</td>\n",
       "      <td>[DAYS_EMPLOYED_PERC, CREDIT_GOODS_PERC, INCOME_CREDIT_PERC, INCOME_PER_PERSON, DEBT_RATIO, PAYMENT_RATE]</td>\n",
       "      <td>{'classifier__C': 0.01, 'classifier__penalty': 'l1', 'classifier__solver': 'saga'}</td>\n",
       "      <td>0.83</td>\n",
       "      <td>0.10</td>\n",
       "      <td>0.16</td>\n",
       "      <td>0.88</td>\n",
       "      <td>0.53</td>\n",
       "      <td>65.78</td>\n",
       "    </tr>\n",
       "  </tbody>\n",
       "</table>\n",
       "</div>"
      ],
      "text/plain": [
       "                  Modèle                                                                                                  Features                                                                         Best_Params  Score_metier  Recall  Precision  Accuracy  AUC  Train_Time\n",
       "0  Régression Logistique  [DAYS_EMPLOYED_PERC, CREDIT_GOODS_PERC, INCOME_CREDIT_PERC, INCOME_PER_PERSON, DEBT_RATIO, PAYMENT_RATE]  {'classifier__C': 0.01, 'classifier__penalty': 'l1', 'classifier__solver': 'saga'}          0.83    0.10       0.16      0.88 0.53       65.78"
      ]
     },
     "metadata": {},
     "output_type": "display_data"
    }
   ],
   "source": [
    "reglog_smote3, df_reglog_smote3 = best_model(model_name = 'Régression Logistique',\n",
    "                                             model = LogisticRegression(max_iter = 200, random_state=42),\n",
    "                                             xtrain = X_train,\n",
    "                                             numeric_features = feats_reglog,\n",
    "                                             numeric_transformer = StandardScaler(),\n",
    "                                             ytrain = y_train,\n",
    "                                             params={\"classifier__penalty\": ['l2', 'l1'],\n",
    "                                                     \"classifier__solver\": ['lbfgs', 'saga'],\n",
    "                                                     \"classifier__C\": [100, 10, 1.0, 0.1, 0.01],},\n",
    "                                             scoring = make_scorer(score_metier),\n",
    "                                             xtest = X_test,\n",
    "                                             ytest = y_test,\n",
    "                                             oversampling_strategy = 0.1, undersampling_strategy = 0.6, balanced = True)"
   ]
  },
  {
   "cell_type": "markdown",
   "id": "4d77d223",
   "metadata": {},
   "source": [
    "### LightGBM <a class=\"anchor\" id=\"lightgbm\"></a>"
   ]
  },
  {
   "cell_type": "markdown",
   "id": "412fe497",
   "metadata": {},
   "source": [
    "Basé sur des algorithmes **d’arbre de décision**, LightGBM (Light Gradient Boosting Machine) est utilisé pour le classement, la classification et de nombreuses autres tâches de Machine Learning. C'est un algorithme développé par Microsoft et publié en 2016 qui est basé sur le **renforcement de gradient** (Gradient Boosting). \n",
    "\n",
    "L'objectif est de former plusieurs modèles utilisant le même algorithme d'apprentissage. Une **combinaison de modèles individuels simples** crée un **modèle plus fort et puissant**.\n",
    "\n",
    "- Création d'un **modèle simple** qui est entrainé sur les données.\n",
    "- Un **second modèle** est construit pour tenter de **corriger les erreurs** présentes dans le premier modèle. Les erreurs sont minimisées par l’algorithme de descente de gradient. Chaque arbre ajouté va compenser les erreurs commises précédemment **sans détériorer les prédictions qui ont été justes**. La base d'apprentissage estdifférente.\n",
    "- Cette procédure se poursuit et des modèles sont ajoutés jusqu’à ce que l’ensemble complet des données de formation soit prédit correctement ou que le nombre maximal de modèles soit ajouté.\n",
    "- Les prédictions du dernier modèle ajouté seront les prédictions globales fournies par les anciens modèles d’arbres.\n",
    "\n",
    "https://blent.ai/blog/a/lightgbm-mieux-que-xgboost\n",
    "\n",
    "Cet algorithme offre de très bonnes performances et nous permettra d'analyser l'importance des variables globales."
   ]
  },
  {
   "cell_type": "code",
   "execution_count": 228,
   "id": "db29c19e",
   "metadata": {},
   "outputs": [],
   "source": [
    "# Choix des features\n",
    "feats_lgb = ['DAYS_EMPLOYED_PERC', 'CREDIT_GOODS_PERC', 'INCOME_CREDIT_PERC', 'INCOME_PER_PERSON',\n",
    "                  'DEBT_RATIO', 'PAYMENT_RATE']"
   ]
  },
  {
   "cell_type": "markdown",
   "id": "896c55a8",
   "metadata": {},
   "source": [
    "#### Modélisation sur données non équilibrées"
   ]
  },
  {
   "cell_type": "code",
   "execution_count": 225,
   "id": "fd4e05c1",
   "metadata": {},
   "outputs": [
    {
     "data": {
      "image/png": "[encoded data removed]",
      "text/plain": [
       "<Figure size 500x500 with 1 Axes>"
      ]
     },
     "metadata": {},
     "output_type": "display_data"
    },
    {
     "data": {
      "text/html": [
       "<div>\n",
       "<style scoped>\n",
       "    .dataframe tbody tr th:only-of-type {\n",
       "        vertical-align: middle;\n",
       "    }\n",
       "\n",
       "    .dataframe tbody tr th {\n",
       "        vertical-align: top;\n",
       "    }\n",
       "\n",
       "    .dataframe thead th {\n",
       "        text-align: right;\n",
       "    }\n",
       "</style>\n",
       "<table border=\"1\" class=\"dataframe\">\n",
       "  <thead>\n",
       "    <tr style=\"text-align: right;\">\n",
       "      <th></th>\n",
       "      <th>Modèle</th>\n",
       "      <th>Features</th>\n",
       "      <th>Best_Params</th>\n",
       "      <th>Score_metier</th>\n",
       "      <th>Recall</th>\n",
       "      <th>Precision</th>\n",
       "      <th>Accuracy</th>\n",
       "      <th>AUC</th>\n",
       "      <th>Train_Time</th>\n",
       "    </tr>\n",
       "  </thead>\n",
       "  <tbody>\n",
       "    <tr>\n",
       "      <th>0</th>\n",
       "      <td>LightGBM</td>\n",
       "      <td>[DAYS_EMPLOYED_PERC, CREDIT_GOODS_PERC, INCOME_CREDIT_PERC, INCOME_PER_PERSON, DEBT_RATIO, PAYMENT_RATE]</td>\n",
       "      <td>{'classifier__ scale_pos_weight': 1}</td>\n",
       "      <td>0.85</td>\n",
       "      <td>0.00</td>\n",
       "      <td>0.00</td>\n",
       "      <td>0.91</td>\n",
       "      <td>0.50</td>\n",
       "      <td>17.12</td>\n",
       "    </tr>\n",
       "  </tbody>\n",
       "</table>\n",
       "</div>"
      ],
      "text/plain": [
       "     Modèle                                                                                                  Features                           Best_Params  Score_metier  Recall  Precision  Accuracy  AUC  Train_Time\n",
       "0  LightGBM  [DAYS_EMPLOYED_PERC, CREDIT_GOODS_PERC, INCOME_CREDIT_PERC, INCOME_PER_PERSON, DEBT_RATIO, PAYMENT_RATE]  {'classifier__ scale_pos_weight': 1}          0.85    0.00       0.00      0.91 0.50       17.12"
      ]
     },
     "metadata": {},
     "output_type": "display_data"
    }
   ],
   "source": [
    "lgb, df_lgb = best_model(model_name = 'LightGBM',\n",
    "                                   model = LGBMClassifier(random_state = 42),\n",
    "                                   xtrain = X_train,\n",
    "                                   numeric_features = feats_lgb,\n",
    "                                   numeric_transformer = StandardScaler(),\n",
    "                                   ytrain = y_train,\n",
    "                                   params = {\"classifier__ scale_pos_weight\": [1,2,6,12],},\n",
    "                                   scoring = make_scorer(score_metier),\n",
    "                                   xtest = X_test,\n",
    "                                   ytest = y_test,\n",
    "                                   oversampling_strategy = 0.1, undersampling_strategy = 0.5, balanced = False)"
   ]
  },
  {
   "cell_type": "markdown",
   "id": "3028186f",
   "metadata": {},
   "source": [
    "#### Modélisation sur données rééquilibrées: sous échantillonage + SMOTE"
   ]
  },
  {
   "cell_type": "code",
   "execution_count": 226,
   "id": "96658f80",
   "metadata": {},
   "outputs": [
    {
     "data": {
      "image/png": "[encoded data removed]",
      "text/plain": [
       "<Figure size 500x500 with 1 Axes>"
      ]
     },
     "metadata": {},
     "output_type": "display_data"
    },
    {
     "data": {
      "text/html": [
       "<div>\n",
       "<style scoped>\n",
       "    .dataframe tbody tr th:only-of-type {\n",
       "        vertical-align: middle;\n",
       "    }\n",
       "\n",
       "    .dataframe tbody tr th {\n",
       "        vertical-align: top;\n",
       "    }\n",
       "\n",
       "    .dataframe thead th {\n",
       "        text-align: right;\n",
       "    }\n",
       "</style>\n",
       "<table border=\"1\" class=\"dataframe\">\n",
       "  <thead>\n",
       "    <tr style=\"text-align: right;\">\n",
       "      <th></th>\n",
       "      <th>Modèle</th>\n",
       "      <th>Features</th>\n",
       "      <th>Best_Params</th>\n",
       "      <th>Score_metier</th>\n",
       "      <th>Recall</th>\n",
       "      <th>Precision</th>\n",
       "      <th>Accuracy</th>\n",
       "      <th>AUC</th>\n",
       "      <th>Train_Time</th>\n",
       "    </tr>\n",
       "  </thead>\n",
       "  <tbody>\n",
       "    <tr>\n",
       "      <th>0</th>\n",
       "      <td>LightGBM</td>\n",
       "      <td>[DAYS_EMPLOYED_PERC, CREDIT_GOODS_PERC, INCOME_CREDIT_PERC, INCOME_PER_PERSON, DEBT_RATIO, PAYMENT_RATE]</td>\n",
       "      <td>{'classifier__ scale_pos_weight': 1}</td>\n",
       "      <td>0.81</td>\n",
       "      <td>0.24</td>\n",
       "      <td>0.21</td>\n",
       "      <td>0.86</td>\n",
       "      <td>0.58</td>\n",
       "      <td>17.16</td>\n",
       "    </tr>\n",
       "  </tbody>\n",
       "</table>\n",
       "</div>"
      ],
      "text/plain": [
       "     Modèle                                                                                                  Features                           Best_Params  Score_metier  Recall  Precision  Accuracy  AUC  Train_Time\n",
       "0  LightGBM  [DAYS_EMPLOYED_PERC, CREDIT_GOODS_PERC, INCOME_CREDIT_PERC, INCOME_PER_PERSON, DEBT_RATIO, PAYMENT_RATE]  {'classifier__ scale_pos_weight': 1}          0.81    0.24       0.21      0.86 0.58       17.16"
      ]
     },
     "metadata": {},
     "output_type": "display_data"
    }
   ],
   "source": [
    "lgb_smote, df_lgb_smote = best_model(model_name = 'LightGBM',\n",
    "                                    model = LGBMClassifier(random_state = 42),\n",
    "                                    xtrain = X_train,\n",
    "                                    numeric_features = feats_lgb,\n",
    "                                    numeric_transformer = StandardScaler(),\n",
    "                                    ytrain = y_train,\n",
    "                                    params = {\"classifier__ scale_pos_weight\": [1,2,6,12],},\n",
    "                                    scoring = make_scorer(score_metier),\n",
    "                                    xtest = X_test,\n",
    "                                    ytest = y_test,\n",
    "                                    oversampling_strategy = 0.1, undersampling_strategy = 0.5, balanced = True)"
   ]
  },
  {
   "cell_type": "markdown",
   "id": "b72ac48d",
   "metadata": {},
   "source": [
    "#### Modélisation sur données rééquilibrées + hyperparameters tuning"
   ]
  },
  {
   "cell_type": "code",
   "execution_count": 227,
   "id": "3d5b584a",
   "metadata": {},
   "outputs": [
    {
     "name": "stdout",
     "output_type": "stream",
     "text": [
      "[LightGBM] [Warning] num_iterations is set=100, n_estimators=10 will be ignored. Current value: num_iterations=100\n",
      "[LightGBM] [Warning] num_iterations is set=100, n_estimators=10 will be ignored. Current value: num_iterations=100\n",
      "[LightGBM] [Warning] num_iterations is set=100, n_estimators=10 will be ignored. Current value: num_iterations=100\n",
      "[LightGBM] [Warning] num_iterations is set=100, n_estimators=10 will be ignored. Current value: num_iterations=100\n",
      "[LightGBM] [Warning] num_iterations is set=100, n_estimators=10 will be ignored. Current value: num_iterations=100\n",
      "[LightGBM] [Warning] num_iterations is set=100, n_estimators=50 will be ignored. Current value: num_iterations=100\n",
      "[LightGBM] [Warning] num_iterations is set=100, n_estimators=50 will be ignored. Current value: num_iterations=100\n",
      "[LightGBM] [Warning] num_iterations is set=100, n_estimators=50 will be ignored. Current value: num_iterations=100\n",
      "[LightGBM] [Warning] num_iterations is set=100, n_estimators=50 will be ignored. Current value: num_iterations=100\n",
      "[LightGBM] [Warning] num_iterations is set=100, n_estimators=50 will be ignored. Current value: num_iterations=100\n",
      "[LightGBM] [Warning] num_iterations is set=100, n_estimators=100 will be ignored. Current value: num_iterations=100\n",
      "[LightGBM] [Warning] num_iterations is set=100, n_estimators=100 will be ignored. Current value: num_iterations=100\n",
      "[LightGBM] [Warning] num_iterations is set=100, n_estimators=100 will be ignored. Current value: num_iterations=100\n",
      "[LightGBM] [Warning] num_iterations is set=100, n_estimators=100 will be ignored. Current value: num_iterations=100\n",
      "[LightGBM] [Warning] num_iterations is set=100, n_estimators=100 will be ignored. Current value: num_iterations=100\n",
      "[LightGBM] [Warning] num_iterations is set=100, n_estimators=500 will be ignored. Current value: num_iterations=100\n",
      "[LightGBM] [Warning] num_iterations is set=100, n_estimators=500 will be ignored. Current value: num_iterations=100\n",
      "[LightGBM] [Warning] num_iterations is set=100, n_estimators=500 will be ignored. Current value: num_iterations=100\n",
      "[LightGBM] [Warning] num_iterations is set=100, n_estimators=500 will be ignored. Current value: num_iterations=100\n",
      "[LightGBM] [Warning] num_iterations is set=100, n_estimators=500 will be ignored. Current value: num_iterations=100\n",
      "[LightGBM] [Warning] num_iterations is set=100, n_estimators=1000 will be ignored. Current value: num_iterations=100\n",
      "[LightGBM] [Warning] num_iterations is set=100, n_estimators=1000 will be ignored. Current value: num_iterations=100\n",
      "[LightGBM] [Warning] num_iterations is set=100, n_estimators=1000 will be ignored. Current value: num_iterations=100\n",
      "[LightGBM] [Warning] num_iterations is set=100, n_estimators=1000 will be ignored. Current value: num_iterations=100\n",
      "[LightGBM] [Warning] num_iterations is set=100, n_estimators=1000 will be ignored. Current value: num_iterations=100\n",
      "[LightGBM] [Warning] num_iterations is set=100, n_estimators=5000 will be ignored. Current value: num_iterations=100\n",
      "[LightGBM] [Warning] num_iterations is set=100, n_estimators=5000 will be ignored. Current value: num_iterations=100\n",
      "[LightGBM] [Warning] num_iterations is set=100, n_estimators=5000 will be ignored. Current value: num_iterations=100\n",
      "[LightGBM] [Warning] num_iterations is set=100, n_estimators=5000 will be ignored. Current value: num_iterations=100\n",
      "[LightGBM] [Warning] num_iterations is set=100, n_estimators=5000 will be ignored. Current value: num_iterations=100\n",
      "[LightGBM] [Warning] num_iterations is set=100, n_estimators=10 will be ignored. Current value: num_iterations=100\n"
     ]
    },
    {
     "data": {
      "image/png": "[encoded data removed]",
      "text/plain": [
       "<Figure size 500x500 with 1 Axes>"
      ]
     },
     "metadata": {},
     "output_type": "display_data"
    },
    {
     "data": {
      "text/html": [
       "<div>\n",
       "<style scoped>\n",
       "    .dataframe tbody tr th:only-of-type {\n",
       "        vertical-align: middle;\n",
       "    }\n",
       "\n",
       "    .dataframe tbody tr th {\n",
       "        vertical-align: top;\n",
       "    }\n",
       "\n",
       "    .dataframe thead th {\n",
       "        text-align: right;\n",
       "    }\n",
       "</style>\n",
       "<table border=\"1\" class=\"dataframe\">\n",
       "  <thead>\n",
       "    <tr style=\"text-align: right;\">\n",
       "      <th></th>\n",
       "      <th>Modèle</th>\n",
       "      <th>Features</th>\n",
       "      <th>Best_Params</th>\n",
       "      <th>Score_metier</th>\n",
       "      <th>Recall</th>\n",
       "      <th>Precision</th>\n",
       "      <th>Accuracy</th>\n",
       "      <th>AUC</th>\n",
       "      <th>Train_Time</th>\n",
       "    </tr>\n",
       "  </thead>\n",
       "  <tbody>\n",
       "    <tr>\n",
       "      <th>0</th>\n",
       "      <td>LightGBM</td>\n",
       "      <td>[DAYS_EMPLOYED_PERC, CREDIT_GOODS_PERC, INCOME_CREDIT_PERC, INCOME_PER_PERSON, DEBT_RATIO, PAYMENT_RATE]</td>\n",
       "      <td>{'classifier__ n_estimators': 10}</td>\n",
       "      <td>0.81</td>\n",
       "      <td>0.24</td>\n",
       "      <td>0.21</td>\n",
       "      <td>0.86</td>\n",
       "      <td>0.58</td>\n",
       "      <td>25.67</td>\n",
       "    </tr>\n",
       "  </tbody>\n",
       "</table>\n",
       "</div>"
      ],
      "text/plain": [
       "     Modèle                                                                                                  Features                        Best_Params  Score_metier  Recall  Precision  Accuracy  AUC  Train_Time\n",
       "0  LightGBM  [DAYS_EMPLOYED_PERC, CREDIT_GOODS_PERC, INCOME_CREDIT_PERC, INCOME_PER_PERSON, DEBT_RATIO, PAYMENT_RATE]  {'classifier__ n_estimators': 10}          0.81    0.24       0.21      0.86 0.58       25.67"
      ]
     },
     "metadata": {},
     "output_type": "display_data"
    }
   ],
   "source": [
    "lgb_smote1, df_lgb_smote1 = best_model(model_name = 'LightGBM',\n",
    "                                    model = LGBMClassifier(random_state = 42),\n",
    "                                    xtrain = X_train,\n",
    "                                    numeric_features = feats_lgb,\n",
    "                                    numeric_transformer = StandardScaler(),\n",
    "                                    ytrain = y_train,\n",
    "                                    params = {\"classifier__ n_estimators\": [10, 50, 100, 500, 1000, 5000],},\n",
    "                                    scoring = make_scorer(score_metier),\n",
    "                                    xtest = X_test,\n",
    "                                    ytest = y_test,\n",
    "                                    oversampling_strategy = 0.1, undersampling_strategy = 0.5, balanced = True)"
   ]
  },
  {
   "cell_type": "code",
   "execution_count": null,
   "id": "9f9258ba",
   "metadata": {},
   "outputs": [],
   "source": []
  },
  {
   "cell_type": "markdown",
   "id": "636d9e15",
   "metadata": {},
   "source": [
    "### Choix du meilleur modèle <a class=\"anchor\" id=\"eval\"></a>"
   ]
  },
  {
   "cell_type": "code",
   "execution_count": null,
   "id": "dc7f5d5b",
   "metadata": {},
   "outputs": [],
   "source": []
  },
  {
   "cell_type": "code",
   "execution_count": null,
   "id": "fcc8f6ae",
   "metadata": {},
   "outputs": [],
   "source": []
  },
  {
   "cell_type": "code",
   "execution_count": null,
   "id": "3e1fc95c",
   "metadata": {},
   "outputs": [],
   "source": []
  },
  {
   "cell_type": "code",
   "execution_count": null,
   "id": "b7388459",
   "metadata": {},
   "outputs": [],
   "source": []
  },
  {
   "cell_type": "code",
   "execution_count": null,
   "id": "21ecf81e",
   "metadata": {},
   "outputs": [],
   "source": []
  },
  {
   "cell_type": "code",
   "execution_count": null,
   "id": "70f472b5",
   "metadata": {},
   "outputs": [],
   "source": []
  },
  {
   "cell_type": "code",
   "execution_count": null,
   "id": "5efc804d",
   "metadata": {},
   "outputs": [],
   "source": []
  },
  {
   "cell_type": "code",
   "execution_count": null,
   "id": "068f701b",
   "metadata": {},
   "outputs": [],
   "source": [
    "#EXPERIMENT_NAME = \"mlflow-default-risk\"\n",
    "#EXPERIMENT_ID = mlflow.create_experiment(EXPERIMENT_NAME)\n",
    "\n",
    "start_Dummy = time.time()\n",
    "model = DummyClassifier()\n",
    "\n",
    "# Sélection des hyperparamètres\n",
    "params = {'strategy' : ['most_frequent', 'prior', 'stratified', 'uniform'],}\n",
    "scoring = make_scorer(recall_score)\n",
    "\n",
    "best_model_Dummy, best_params_Dummy = optimize_and_train_model(pipeline_model = model,\n",
    "                                                                xtrain = X_train,\n",
    "                                                                ytrain = y_train,\n",
    "                                                                params = params,\n",
    "                                                                scoring = scoring)\n",
    "\n",
    "\n",
    "duration_Dummy = time.time() - start_Dummy\n",
    "    \n",
    "# Evaluation du modèle\n",
    "(recall, precision, accuracy, auc) = eval_metrics(best_model = best_model_Dummy,\n",
    "                                                    xtest = X_test,\n",
    "                                                    ytest = y_test)\n",
    "    \n",
    "print(f\"DummyClassifier Model with param strategy = {best_params_Dummy['strategy']}\")\n",
    "print()\n",
    "print(f\"Recall: {recall:.2f}\")\n",
    "print(f\"Precision: {precision:.2f}\")\n",
    "print(f\"Accuracy: {accuracy:.2f}\")\n",
    "print(f\"AUC: {auc:.2f}\")\n",
    "print(f\"Train time: {duration_Dummy:.2f}\")\n",
    "\n",
    "# Start MLflow\n",
    "with mlflow.start_run() as run:\n",
    "#with mlflow.start_run(experiment_id=EXPERIMENT_ID, run_name=RUN_NAME) as run:\n",
    "    \n",
    "    # Run id\n",
    "    RUN_ID = run.info.run_id\n",
    "    \n",
    "    # log des paramètres et scores à chaque fois que le modèle est lancé\n",
    "    mlflow.log_param(\"strategy\", best_params_Dummy['strategy'])\n",
    "    mlflow.log_metric(\"recall\", recall)\n",
    "    mlflow.log_metric(\"precision\", precision)\n",
    "    mlflow.log_metric(\"accuracy\", accuracy)\n",
    "    mlflow.log_metric(\"auc\", auc)\n",
    "    mlflow.log_metric(\"Tps_entrainement\", duration_Dummy)\n",
    "    \n",
    "    mlflow.sklearn.log_model(best_model_Dummy, \"dummyclassifier\")"
   ]
  },
  {
   "cell_type": "code",
   "execution_count": null,
   "id": "a3724da3",
   "metadata": {},
   "outputs": [],
   "source": []
  },
  {
   "cell_type": "code",
   "execution_count": null,
   "id": "855fd534",
   "metadata": {},
   "outputs": [],
   "source": []
  },
  {
   "cell_type": "code",
   "execution_count": null,
   "id": "355d29c6",
   "metadata": {},
   "outputs": [],
   "source": []
  },
  {
   "cell_type": "code",
   "execution_count": null,
   "id": "1c5def1d",
   "metadata": {},
   "outputs": [],
   "source": []
  },
  {
   "cell_type": "code",
   "execution_count": null,
   "id": "b1a3593e",
   "metadata": {},
   "outputs": [],
   "source": []
  },
  {
   "cell_type": "code",
   "execution_count": null,
   "id": "f81f4dc6",
   "metadata": {},
   "outputs": [],
   "source": []
  },
  {
   "cell_type": "markdown",
   "id": "ad2182ca",
   "metadata": {},
   "source": [
    "https://scikit-learn.org/stable/modules/generated/sklearn.metrics.fbeta_score.html\n",
    "\n",
    "https://datascience.stackexchange.com/questions/82780/how-to-implement-a-gridsearchcv-custom-scorer-that-is-dependent-on-a-training-fe"
   ]
  },
  {
   "cell_type": "markdown",
   "id": "473c353d",
   "metadata": {},
   "source": [
    "<div class=\"alert alert-block alert-success\">\n",
    "    <p>•\tFinir la partie exploration et la transformation et choix des features \n",
    "•\tCréer un environnement MLFlow permettant le tracking lors de l’entraînement des modèles, la visualisation et la comparaison via l’UI de MLFlow, ainsi que le stockage de manière centralisée des modèles.\n",
    "o\tIl faut au minimum le tracking des scores (scores métier, AUC), des hyperparamètres, des temps de traitement de fit et de prédiction, ainsi que le stockage de graphiques (ROC curve) et des modèles\n",
    "•\tUne fonction de tracking de logs \n",
    "\n",
    "Bonus (je te le mets pour que tu l'aies en tête mais je n'attends pas que tu le fasse tout de suite) :\n",
    "•\tAvant de construire les modèles, réfléchir à la fonction de coût métier : \n",
    "o\tLa problématique « métier » est de prendre en compte qu’un faux positifs (crédit non accordé à tort, donc manque à gagner de la marge pour la banque) n’a pas le même coût qu’un faux négatif (mauvais client à qui on accorde un prêt, donc perte sur le capital non remboursé). Un faux négatif est environ 10 fois plus coûteux qu’un faux positif. Les mesures techniques tels que le f1 score ne le prennent pas en compte.\n",
    "o\tLe score “métier” consiste à calculer une fonction de coût métier de type 10*FN + FP \n",
    "o\tLes modèles et leur hyperparamètres seront optimisés via un GridSearchCV ou équivalent sur ce score, faire aussi l’accuracy ou l’AUC comme élément de comparaison (le garder en référence)\n",
    "</p>\n",
    "</div>"
   ]
  },
  {
   "cell_type": "markdown",
   "id": "bc26ff85",
   "metadata": {},
   "source": [
    "<div class=\"alert alert-block alert-warning\">\n",
    "    <p>Suppression des variables avec 30% ou plus de NaN</p>\n",
    "</div>"
   ]
  }
 ],
 "metadata": {
  "kernelspec": {
   "display_name": "projet7",
   "language": "python",
   "name": "projet7"
  },
  "language_info": {
   "codemirror_mode": {
    "name": "ipython",
    "version": 3
   },
   "file_extension": ".py",
   "mimetype": "text/x-python",
   "name": "python",
   "nbconvert_exporter": "python",
   "pygments_lexer": "ipython3",
   "version": "3.9.16"
  },
  "varInspector": {
   "cols": {
    "lenName": 16,
    "lenType": 16,
    "lenVar": 40
   },
   "kernels_config": {
    "python": {
     "delete_cmd_postfix": "",
     "delete_cmd_prefix": "del ",
     "library": "var_list.py",
     "varRefreshCmd": "print(var_dic_list())"
    },
    "r": {
     "delete_cmd_postfix": ") ",
     "delete_cmd_prefix": "rm(",
     "library": "var_list.r",
     "varRefreshCmd": "cat(var_dic_list()) "
    }
   },
   "types_to_exclude": [
    "module",
    "function",
    "builtin_function_or_method",
    "instance",
    "_Feature"
   ],
   "window_display": false
  }
 },
 "nbformat": 4,
 "nbformat_minor": 5
}
